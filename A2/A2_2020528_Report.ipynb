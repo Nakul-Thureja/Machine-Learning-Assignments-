{
  "cells": [
    {
      "cell_type": "markdown",
      "source": [
        "# Machine Learning Assignment 2"
      ],
      "metadata": {
        "id": "qwklK-baAq0N"
      }
    },
    {
      "cell_type": "markdown",
      "source": [
        "Nakul Thureja | 2020528\n"
      ],
      "metadata": {
        "id": "D-yXcakuA0n3"
      }
    },
    {
      "cell_type": "markdown",
      "source": [
        "# Imports"
      ],
      "metadata": {
        "id": "FFlONva8A156"
      }
    },
    {
      "cell_type": "code",
      "execution_count": 3,
      "metadata": {
        "id": "fZfOrBzhXw47"
      },
      "outputs": [],
      "source": [
        "#Importing Libraries for the assignment\n",
        "import matplotlib.pyplot as plt\n",
        "import math\n",
        "import random\n",
        "import requests\n",
        "import pandas as pd\n",
        "import numpy as np\n",
        "import pickle\n",
        "import io\n",
        "import seaborn as sn\n",
        "from sklearn import datasets\n",
        "from keras.datasets import fashion_mnist\n",
        "from sklearn.metrics import mean_squared_error,accuracy_score,classification_report, confusion_matrix, log_loss\n",
        "from sklearn.model_selection import train_test_split\n",
        "from sklearn.metrics import r2_score,f1_score\n",
        "import warnings\n",
        "warnings.filterwarnings('ignore')"
      ]
    },
    {
      "cell_type": "code",
      "source": [
        "from google.colab import drive\n",
        "drive.mount('/content/drive')"
      ],
      "metadata": {
        "colab": {
          "base_uri": "https://localhost:8080/"
        },
        "id": "PpFOHbF6AinY",
        "outputId": "5ba407f7-ffd4-4c5d-8a62-7afdcb523517"
      },
      "execution_count": 4,
      "outputs": [
        {
          "output_type": "stream",
          "name": "stdout",
          "text": [
            "Mounted at /content/drive\n"
          ]
        }
      ]
    },
    {
      "cell_type": "markdown",
      "source": [
        "# Question 2"
      ],
      "metadata": {
        "id": "wcwxj-ZIHAVw"
      }
    },
    {
      "cell_type": "code",
      "source": [
        "# Reading data with the help of gzip\n",
        "import gzip\n",
        "\n",
        "#function to read labels\n",
        "def read_labels(filename):\n",
        "    with gzip.open(filename, 'rb') as f:\n",
        "        labels = np.frombuffer(f.read(), np.uint8, offset=8)\n",
        "    return labels\n",
        "\n",
        "#function to read images\n",
        "def read_images(filename):\n",
        "    with gzip.open(filename, 'rb') as f:\n",
        "        data = np.frombuffer(f.read(), np.uint8, offset=16)\n",
        "    data = data.reshape(-1, 28, 28)\n",
        "    return data"
      ],
      "metadata": {
        "id": "JVJ8ehAnBHFP"
      },
      "execution_count": 81,
      "outputs": []
    },
    {
      "cell_type": "code",
      "source": [
        "#Reading the training data\n",
        "#I have uploaded the data from the github repository to my drive\n",
        "print(\"Reading Training data\")\n",
        "X_train = read_images('/content/drive/My Drive/train-images-idx3-ubyte.gz')\n",
        "print(X_train.shape)\n",
        "\n",
        "print(\"Reading Training Labels\")\n",
        "y_train = read_labels('/content/drive/My Drive/train-labels-idx1-ubyte.gz')\n",
        "print(y_train.shape)\n"
      ],
      "metadata": {
        "colab": {
          "base_uri": "https://localhost:8080/"
        },
        "id": "lNZy43kuBUKz",
        "outputId": "3f82a7ba-a75a-4147-e96f-8d89719366f0"
      },
      "execution_count": 82,
      "outputs": [
        {
          "output_type": "stream",
          "name": "stdout",
          "text": [
            "Reading Training data\n",
            "(60000, 28, 28)\n",
            "Reading Training Labels\n",
            "(60000,)\n"
          ]
        }
      ]
    },
    {
      "cell_type": "code",
      "source": [
        "#Reading the testing data\n",
        "#I have uploaded the data from the github repository to my drive\n",
        "print(\"Reading Testing data\")\n",
        "X_test= read_images('/content/drive/My Drive/t10k-images-idx3-ubyte.gz')\n",
        "print(X_test.shape)\n",
        "\n",
        "print(\"Reading Testing Labels\")\n",
        "y_test = read_labels('/content/drive/My Drive/t10k-labels-idx1-ubyte.gz')\n",
        "print(y_test.shape)"
      ],
      "metadata": {
        "colab": {
          "base_uri": "https://localhost:8080/"
        },
        "id": "CvFJy84WEAxz",
        "outputId": "59b0c85e-6f91-4d8d-8505-f10fe38e57ac"
      },
      "execution_count": 83,
      "outputs": [
        {
          "output_type": "stream",
          "name": "stdout",
          "text": [
            "Reading Testing data\n",
            "(10000, 28, 28)\n",
            "Reading Testing Labels\n",
            "(10000,)\n"
          ]
        }
      ]
    },
    {
      "cell_type": "code",
      "source": [
        "#generating total dataset\n",
        "X = np.concatenate((X_train, X_test), axis=0)\n",
        "y = np.concatenate((y_train, y_test), axis=0)"
      ],
      "metadata": {
        "id": "SV_vALwcEt1O"
      },
      "execution_count": null,
      "outputs": []
    },
    {
      "cell_type": "code",
      "execution_count": null,
      "metadata": {
        "colab": {
          "base_uri": "https://localhost:8080/",
          "height": 323
        },
        "outputId": "dcf202df-05c4-4b69-ebbf-d0dc29f354af",
        "id": "gi2fSYg2FJ8O"
      },
      "outputs": [
        {
          "output_type": "display_data",
          "data": {
            "text/plain": [
              "<Figure size 360x360 with 5 Axes>"
            ],
            "image/png": "[encoded data removed]"
          },
          "metadata": {
            "needs_background": "light"
          }
        }
      ],
      "source": [
        "#Generating 5 images of class 0\n",
        "#to print the plot, I have used subplots from matplotlib library \n",
        "fig, axes = plt.subplots(5,figsize = (5,5))\n",
        "cnt = 0\n",
        "#To find the 5 images I have looped over till I have found 5 random images from class 0\n",
        "while(True):\n",
        "  i = random.randint(0,len(X))\n",
        "  if(y[i] == 0):\n",
        "    axes[cnt].imshow(X[i],cmap = 'gray')\n",
        "    cnt+=1\n",
        "  if(cnt==5):\n",
        "    break\n",
        "plt.show()"
      ]
    },
    {
      "cell_type": "code",
      "source": [
        "#Generating 5 images of class 1\n",
        "#to print the plot, I have used subplots from matplotlib library \n",
        "fig, axes = plt.subplots(5,figsize = (5,5))\n",
        "cnt = 0\n",
        "#To find the 5 images I have looped over till I have found 5 random images from class 1\n",
        "while(True):\n",
        "  i = random.randint(0,len(X))\n",
        "  if(y[i] == 1):\n",
        "    axes[cnt].imshow(X[i],cmap = 'gray')\n",
        "    cnt+=1\n",
        "  if(cnt==5):\n",
        "    break\n",
        "plt.show()"
      ],
      "metadata": {
        "colab": {
          "base_uri": "https://localhost:8080/",
          "height": 323
        },
        "outputId": "1a9cbdbd-a9fb-4514-a4a7-7dd1722e1355",
        "id": "V8zILo0ZFJ8R"
      },
      "execution_count": null,
      "outputs": [
        {
          "output_type": "display_data",
          "data": {
            "text/plain": [
              "<Figure size 360x360 with 5 Axes>"
            ],
            "image/png": "[encoded data removed]"
          },
          "metadata": {
            "needs_background": "light"
          }
        }
      ]
    },
    {
      "cell_type": "code",
      "source": [
        "#Generating 5 images of class 2\n",
        "#to print the plot, I have used subplots from matplotlib library \n",
        "fig, axes = plt.subplots(5,figsize = (5,5))\n",
        "cnt = 0\n",
        "#To find the 5 images I have looped over till I have found 5 random images from class 2\n",
        "while(True):\n",
        "  i = random.randint(0,len(X))\n",
        "  if(y[i] == 2):\n",
        "    axes[cnt].imshow(X[i],cmap = 'gray')\n",
        "    cnt+=1\n",
        "  if(cnt==5):\n",
        "    break\n",
        "plt.show()"
      ],
      "metadata": {
        "colab": {
          "base_uri": "https://localhost:8080/",
          "height": 323
        },
        "outputId": "721899b3-6130-4c48-ba00-c0e6396285be",
        "id": "4sVg2leNFJ8R"
      },
      "execution_count": null,
      "outputs": [
        {
          "output_type": "display_data",
          "data": {
            "text/plain": [
              "<Figure size 360x360 with 5 Axes>"
            ],
            "image/png": "[encoded data removed]"
          },
          "metadata": {
            "needs_background": "light"
          }
        }
      ]
    },
    {
      "cell_type": "code",
      "source": [
        "#Generating 5 images of class 3\n",
        "#to print the plot, I have used subplots from matplotlib library \n",
        "fig, axes = plt.subplots(5,figsize = (5,5))\n",
        "cnt = 0\n",
        "#To find the 5 images I have looped over till I have found 5 random images from class 3\n",
        "while(True):\n",
        "  i = random.randint(0,len(X))\n",
        "  if(y[i] == 3):\n",
        "    axes[cnt].imshow(X[i],cmap = 'gray')\n",
        "    cnt+=1\n",
        "  if(cnt==5):\n",
        "    break\n",
        "plt.show()"
      ],
      "metadata": {
        "colab": {
          "base_uri": "https://localhost:8080/",
          "height": 323
        },
        "outputId": "34417509-5e66-4bc8-89c7-97e4d8a8dc14",
        "id": "GNKivWa7FJ8T"
      },
      "execution_count": null,
      "outputs": [
        {
          "output_type": "display_data",
          "data": {
            "text/plain": [
              "<Figure size 360x360 with 5 Axes>"
            ],
            "image/png": "[encoded data removed]"
          },
          "metadata": {
            "needs_background": "light"
          }
        }
      ]
    },
    {
      "cell_type": "code",
      "source": [
        "#Generating 5 images of class 4\n",
        "#to print the plot, I have used subplots from matplotlib library \n",
        "fig, axes = plt.subplots(5,figsize = (5,5))\n",
        "cnt = 0\n",
        "#To find the 5 images I have looped over till I have found 5 random images from class 4\n",
        "while(True):\n",
        "  i = random.randint(0,len(X))\n",
        "  if(y[i] == 4):\n",
        "    axes[cnt].imshow(X[i],cmap = 'gray')\n",
        "    cnt+=1\n",
        "  if(cnt==5):\n",
        "    break\n",
        "plt.show()"
      ],
      "metadata": {
        "colab": {
          "base_uri": "https://localhost:8080/",
          "height": 323
        },
        "outputId": "74508c3f-d010-4eb9-c7c0-4169cba1bfa7",
        "id": "19doJWlJFJ8T"
      },
      "execution_count": null,
      "outputs": [
        {
          "output_type": "display_data",
          "data": {
            "text/plain": [
              "<Figure size 360x360 with 5 Axes>"
            ],
            "image/png": "[encoded data removed]"
          },
          "metadata": {
            "needs_background": "light"
          }
        }
      ]
    },
    {
      "cell_type": "code",
      "source": [
        "#Generating 5 images of class 5\n",
        "#to print the plot, I have used subplots from matplotlib library fig, axes = plt.subplots(5,figsize = (5,5))\n",
        "fig, axes = plt.subplots(5,figsize = (5,5))\n",
        "cnt = 0\n",
        "#To find the 5 images I have looped over till I have found 5 random images from class 5\n",
        "while(True):\n",
        "  i = random.randint(0,len(X))\n",
        "  if(y[i] == 5):\n",
        "    axes[cnt].imshow(X[i],cmap = 'gray')\n",
        "    cnt+=1\n",
        "  if(cnt==5):\n",
        "    break\n",
        "plt.show()"
      ],
      "metadata": {
        "colab": {
          "base_uri": "https://localhost:8080/",
          "height": 323
        },
        "id": "oib5DY6IFJ8U",
        "outputId": "2f2cbbb0-817e-4d1f-dcd6-eefda947cee3"
      },
      "execution_count": null,
      "outputs": [
        {
          "output_type": "display_data",
          "data": {
            "text/plain": [
              "<Figure size 360x360 with 5 Axes>"
            ],
            "image/png": "[encoded data removed]"
          },
          "metadata": {
            "needs_background": "light"
          }
        }
      ]
    },
    {
      "cell_type": "code",
      "source": [
        "#Generating 5 images of class 6\n",
        "#to print the plot, I have used subplots from matplotlib library fig, axes = plt.subplots(5,figsize = (5,5))\n",
        "fig, axes = plt.subplots(5,figsize = (5,5))\n",
        "cnt = 0\n",
        "#To find the 5 images I have looped over till I have found 5 random images from class 6\n",
        "while(True):\n",
        "  i = random.randint(0,len(X))\n",
        "  if(y[i] == 6):\n",
        "    axes[cnt].imshow(X[i],cmap = 'gray')\n",
        "    cnt+=1\n",
        "  if(cnt==5):\n",
        "    break\n",
        "plt.show()"
      ],
      "metadata": {
        "colab": {
          "base_uri": "https://localhost:8080/",
          "height": 323
        },
        "id": "a9yLYg5SFJ8V",
        "outputId": "2e7af5a0-71e9-44f6-c589-868987cfc1e8"
      },
      "execution_count": null,
      "outputs": [
        {
          "output_type": "display_data",
          "data": {
            "text/plain": [
              "<Figure size 360x360 with 5 Axes>"
            ],
            "image/png": "[encoded data removed]"
          },
          "metadata": {
            "needs_background": "light"
          }
        }
      ]
    },
    {
      "cell_type": "code",
      "source": [
        "#Generating 5 images of class 7\n",
        "#to print the plot, I have used subplots from matplotlib library fig, axes = plt.subplots(5,figsize = (5,5))\n",
        "fig, axes = plt.subplots(5,figsize = (5,5))\n",
        "cnt = 0\n",
        "#To find the 5 images I have looped over till I have found 5 random images from class 7\n",
        "while(True):\n",
        "  i = random.randint(0,len(X))\n",
        "  if(y[i] == 7):\n",
        "    axes[cnt].imshow(X[i],cmap = 'gray')\n",
        "    cnt+=1\n",
        "  if(cnt==5):\n",
        "    break\n",
        "plt.show()"
      ],
      "metadata": {
        "colab": {
          "base_uri": "https://localhost:8080/",
          "height": 323
        },
        "id": "2kQbEbkPFJ8W",
        "outputId": "ccbe2a18-303f-41a4-f92b-dc8b6f258334"
      },
      "execution_count": null,
      "outputs": [
        {
          "output_type": "display_data",
          "data": {
            "text/plain": [
              "<Figure size 360x360 with 5 Axes>"
            ],
            "image/png": "[encoded data removed]"
          },
          "metadata": {
            "needs_background": "light"
          }
        }
      ]
    },
    {
      "cell_type": "code",
      "source": [
        "#Generating 5 images of class 8\n",
        "#to print the plot, I have used subplots from matplotlib library fig, axes = plt.subplots(5,figsize = (5,5))\n",
        "fig, axes = plt.subplots(5,figsize = (5,5))\n",
        "cnt = 0\n",
        "#To find the 5 images I have looped over till I have found 5 random images from class 8\n",
        "while(True):\n",
        "  i = random.randint(0,len(X))\n",
        "  if(y[i] == 8):\n",
        "    axes[cnt].imshow(X[i],cmap = 'gray')\n",
        "    cnt+=1\n",
        "  if(cnt==5):\n",
        "    break\n",
        "plt.show()"
      ],
      "metadata": {
        "colab": {
          "base_uri": "https://localhost:8080/",
          "height": 323
        },
        "id": "D7n1TgCCFJ8X",
        "outputId": "ad26bba4-1f2c-4887-ae83-ddc670c5a897"
      },
      "execution_count": null,
      "outputs": [
        {
          "output_type": "display_data",
          "data": {
            "text/plain": [
              "<Figure size 360x360 with 5 Axes>"
            ],
            "image/png": "[encoded data removed]"
          },
          "metadata": {
            "needs_background": "light"
          }
        }
      ]
    },
    {
      "cell_type": "code",
      "source": [
        "#Generating 5 images of class 9\n",
        "#to print the plot, I have used subplots from matplotlib library fig, axes = plt.subplots(5,figsize = (5,5))\n",
        "fig, axes = plt.subplots(5,figsize = (5,5))\n",
        "cnt = 0\n",
        "#To find the 5 images I have looped over till I have found 5 random images from class 9\n",
        "while(True):\n",
        "  i = random.randint(0,len(X))\n",
        "  if(y[i] == 9):\n",
        "    axes[cnt].imshow(X[i],cmap = 'gray')\n",
        "    cnt+=1\n",
        "  if(cnt==5):\n",
        "    break\n",
        "plt.show()"
      ],
      "metadata": {
        "colab": {
          "base_uri": "https://localhost:8080/",
          "height": 323
        },
        "id": "saXm9olZFJ8X",
        "outputId": "9671a3c9-cbe3-4412-e1e8-4fd9ee295c34"
      },
      "execution_count": null,
      "outputs": [
        {
          "output_type": "display_data",
          "data": {
            "text/plain": [
              "<Figure size 360x360 with 5 Axes>"
            ],
            "image/png": "[encoded data removed]"
          },
          "metadata": {
            "needs_background": "light"
          }
        }
      ]
    },
    {
      "cell_type": "code",
      "execution_count": 85,
      "metadata": {
        "colab": {
          "base_uri": "https://localhost:8080/"
        },
        "id": "llNPD5onipCu",
        "outputId": "5501c03d-9d3b-496a-cb3c-82413b56b49d"
      },
      "outputs": [
        {
          "output_type": "stream",
          "name": "stdout",
          "text": [
            "0.0   255.0\n"
          ]
        }
      ],
      "source": [
        "#Normalizing the data\n",
        "#First I have converted the data into float as to scale in between 0.0 and 1.0\n",
        "X_train = X_train.astype('float64')\n",
        "X_test = X_test.astype('float64')\n",
        "\n",
        "#Finding max and min from the dataset X_train \n",
        "min = 1e9+7\n",
        "max = 0\n",
        "for i in range(len(X_train)):\n",
        "  for j in range(len(X_train[0])):\n",
        "      for k in range(len(X_train[0][0])):\n",
        "        if(min > X_train[i][j][k]):\n",
        "          min = X_train[i][j][k]\n",
        "        if(max < X_train[i][j][k]):\n",
        "          max = X_train[i][j][k]\n",
        "          \n",
        "print(min,\" \",max)"
      ]
    },
    {
      "cell_type": "code",
      "execution_count": 86,
      "metadata": {
        "colab": {
          "base_uri": "https://localhost:8080/"
        },
        "id": "Zzt3HES_iu-J",
        "outputId": "2caac959-27b2-4cfa-f863-2a14fd7ecbd6"
      },
      "outputs": [
        {
          "output_type": "stream",
          "name": "stdout",
          "text": [
            "0.0   1.0\n"
          ]
        }
      ],
      "source": [
        "#Scalling the data between 0.0 and 1.0 by diving by the max value\n",
        "X_train /= max\n",
        "X_test /= max\n",
        "\n",
        "#Again printing min and max of X_train dataset to check normalization\n",
        "min = 1e9+7\n",
        "max = 0\n",
        "for i in range(len(X_train)):\n",
        "  for j in range(len(X_train[0])):\n",
        "      for k in range(len(X_train[0][0])):\n",
        "        if(min > X_train[i][j][k]):\n",
        "          min = X_train[i][j][k]\n",
        "        if(max < X_train[i][j][k]):\n",
        "          max = X_train[i][j][k]\n",
        "print(min,\" \",max)"
      ]
    },
    {
      "cell_type": "code",
      "source": [
        "#To check if all images are equal \n",
        "#I have looped the total dataset and have compared the size(shape) of every image with each other\n",
        "#If the size is not equal code will print Size of Images are not equal or vice-a-versa \n",
        "size = X[0].shape\n",
        "flag = True\n",
        "for i in X:\n",
        "  if(i.shape!=size):\n",
        "    print(\"Size of Images are not equal\")\n",
        "    flag = False\n",
        "if(flag):\n",
        "  print(\"Size of Images are equal \", size)\n",
        "#After running this code we can see that all images are equal (28,28) so we need not resize any image "
      ],
      "metadata": {
        "id": "2atKbP1dIpBT",
        "colab": {
          "base_uri": "https://localhost:8080/"
        },
        "outputId": "43f3d58b-6b97-4f47-9beb-8b1e7d838c0d"
      },
      "execution_count": null,
      "outputs": [
        {
          "output_type": "stream",
          "name": "stdout",
          "text": [
            "Size of Images are equal  (28, 28)\n"
          ]
        }
      ]
    },
    {
      "cell_type": "code",
      "execution_count": 87,
      "metadata": {
        "id": "6StH9BWVdiRf"
      },
      "outputs": [],
      "source": [
        "#flattening the images to run the ML models for training set\n",
        "images_train =  []\n",
        "for image_train in X_train:\n",
        "    images_train.append(image_train.flatten())\n",
        "X_train = images_train"
      ]
    },
    {
      "cell_type": "code",
      "execution_count": 88,
      "metadata": {
        "id": "auPVD9zediTl"
      },
      "outputs": [],
      "source": [
        "#flattening the images to run the ML models for testing set\n",
        "images_test = []\n",
        "for image_test in X_test:\n",
        "    images_test.append(image_test.flatten())\n",
        "X_test = images_test"
      ]
    },
    {
      "cell_type": "code",
      "execution_count": 89,
      "metadata": {
        "id": "ED6UNjmOZp84"
      },
      "outputs": [],
      "source": [
        "#forming the total dataset\n",
        "X = np.concatenate((X_train, X_test), axis=0)\n",
        "y = np.concatenate((y_train, y_test), axis=0)"
      ]
    },
    {
      "cell_type": "code",
      "execution_count": 90,
      "metadata": {
        "id": "Z1YZlF5aZp_q"
      },
      "outputs": [],
      "source": [
        "#converting data to pandas dataframe\n",
        "X_test = pd.DataFrame(X_test)\n",
        "X_train = pd.DataFrame(X_train)"
      ]
    },
    {
      "cell_type": "code",
      "execution_count": 91,
      "metadata": {
        "id": "d84LZcIxz3LB"
      },
      "outputs": [],
      "source": [
        "X = pd.DataFrame(X)"
      ]
    },
    {
      "cell_type": "code",
      "execution_count": 92,
      "metadata": {
        "colab": {
          "base_uri": "https://localhost:8080/",
          "height": 299
        },
        "id": "zIKj7R2P0C1r",
        "outputId": "3d42d9c8-ae3e-4dc3-8759-8d58f5ef2ab3"
      },
      "outputs": [
        {
          "output_type": "execute_result",
          "data": {
            "text/plain": [
              "   0    1    2    3    4         5    6    7         8         9    ...  \\\n",
              "0  0.0  0.0  0.0  0.0  0.0  0.000000  0.0  0.0  0.000000  0.000000  ...   \n",
              "1  0.0  0.0  0.0  0.0  0.0  0.003922  0.0  0.0  0.000000  0.000000  ...   \n",
              "2  0.0  0.0  0.0  0.0  0.0  0.000000  0.0  0.0  0.000000  0.086275  ...   \n",
              "3  0.0  0.0  0.0  0.0  0.0  0.000000  0.0  0.0  0.129412  0.376471  ...   \n",
              "4  0.0  0.0  0.0  0.0  0.0  0.000000  0.0  0.0  0.000000  0.000000  ...   \n",
              "\n",
              "        774       775       776       777  778  779  780  781  782  783  \n",
              "0  0.000000  0.000000  0.000000  0.000000  0.0  0.0  0.0  0.0  0.0  0.0  \n",
              "1  0.466667  0.447059  0.509804  0.298039  0.0  0.0  0.0  0.0  0.0  0.0  \n",
              "2  0.000000  0.000000  0.003922  0.000000  0.0  0.0  0.0  0.0  0.0  0.0  \n",
              "3  0.000000  0.000000  0.000000  0.000000  0.0  0.0  0.0  0.0  0.0  0.0  \n",
              "4  0.000000  0.000000  0.000000  0.000000  0.0  0.0  0.0  0.0  0.0  0.0  \n",
              "\n",
              "[5 rows x 784 columns]"
            ],
            "text/html": [
              "\n",
              "  <div id=\"df-010a437f-7cc3-439a-9960-5e7e146e598c\">\n",
              "    <div class=\"colab-df-container\">\n",
              "      <div>\n",
              "<style scoped>\n",
              "    .dataframe tbody tr th:only-of-type {\n",
              "        vertical-align: middle;\n",
              "    }\n",
              "\n",
              "    .dataframe tbody tr th {\n",
              "        vertical-align: top;\n",
              "    }\n",
              "\n",
              "    .dataframe thead th {\n",
              "        text-align: right;\n",
              "    }\n",
              "</style>\n",
              "<table border=\"1\" class=\"dataframe\">\n",
              "  <thead>\n",
              "    <tr style=\"text-align: right;\">\n",
              "      <th></th>\n",
              "      <th>0</th>\n",
              "      <th>1</th>\n",
              "      <th>2</th>\n",
              "      <th>3</th>\n",
              "      <th>4</th>\n",
              "      <th>5</th>\n",
              "      <th>6</th>\n",
              "      <th>7</th>\n",
              "      <th>8</th>\n",
              "      <th>9</th>\n",
              "      <th>...</th>\n",
              "      <th>774</th>\n",
              "      <th>775</th>\n",
              "      <th>776</th>\n",
              "      <th>777</th>\n",
              "      <th>778</th>\n",
              "      <th>779</th>\n",
              "      <th>780</th>\n",
              "      <th>781</th>\n",
              "      <th>782</th>\n",
              "      <th>783</th>\n",
              "    </tr>\n",
              "  </thead>\n",
              "  <tbody>\n",
              "    <tr>\n",
              "      <th>0</th>\n",
              "      <td>0.0</td>\n",
              "      <td>0.0</td>\n",
              "      <td>0.0</td>\n",
              "      <td>0.0</td>\n",
              "      <td>0.0</td>\n",
              "      <td>0.000000</td>\n",
              "      <td>0.0</td>\n",
              "      <td>0.0</td>\n",
              "      <td>0.000000</td>\n",
              "      <td>0.000000</td>\n",
              "      <td>...</td>\n",
              "      <td>0.000000</td>\n",
              "      <td>0.000000</td>\n",
              "      <td>0.000000</td>\n",
              "      <td>0.000000</td>\n",
              "      <td>0.0</td>\n",
              "      <td>0.0</td>\n",
              "      <td>0.0</td>\n",
              "      <td>0.0</td>\n",
              "      <td>0.0</td>\n",
              "      <td>0.0</td>\n",
              "    </tr>\n",
              "    <tr>\n",
              "      <th>1</th>\n",
              "      <td>0.0</td>\n",
              "      <td>0.0</td>\n",
              "      <td>0.0</td>\n",
              "      <td>0.0</td>\n",
              "      <td>0.0</td>\n",
              "      <td>0.003922</td>\n",
              "      <td>0.0</td>\n",
              "      <td>0.0</td>\n",
              "      <td>0.000000</td>\n",
              "      <td>0.000000</td>\n",
              "      <td>...</td>\n",
              "      <td>0.466667</td>\n",
              "      <td>0.447059</td>\n",
              "      <td>0.509804</td>\n",
              "      <td>0.298039</td>\n",
              "      <td>0.0</td>\n",
              "      <td>0.0</td>\n",
              "      <td>0.0</td>\n",
              "      <td>0.0</td>\n",
              "      <td>0.0</td>\n",
              "      <td>0.0</td>\n",
              "    </tr>\n",
              "    <tr>\n",
              "      <th>2</th>\n",
              "      <td>0.0</td>\n",
              "      <td>0.0</td>\n",
              "      <td>0.0</td>\n",
              "      <td>0.0</td>\n",
              "      <td>0.0</td>\n",
              "      <td>0.000000</td>\n",
              "      <td>0.0</td>\n",
              "      <td>0.0</td>\n",
              "      <td>0.000000</td>\n",
              "      <td>0.086275</td>\n",
              "      <td>...</td>\n",
              "      <td>0.000000</td>\n",
              "      <td>0.000000</td>\n",
              "      <td>0.003922</td>\n",
              "      <td>0.000000</td>\n",
              "      <td>0.0</td>\n",
              "      <td>0.0</td>\n",
              "      <td>0.0</td>\n",
              "      <td>0.0</td>\n",
              "      <td>0.0</td>\n",
              "      <td>0.0</td>\n",
              "    </tr>\n",
              "    <tr>\n",
              "      <th>3</th>\n",
              "      <td>0.0</td>\n",
              "      <td>0.0</td>\n",
              "      <td>0.0</td>\n",
              "      <td>0.0</td>\n",
              "      <td>0.0</td>\n",
              "      <td>0.000000</td>\n",
              "      <td>0.0</td>\n",
              "      <td>0.0</td>\n",
              "      <td>0.129412</td>\n",
              "      <td>0.376471</td>\n",
              "      <td>...</td>\n",
              "      <td>0.000000</td>\n",
              "      <td>0.000000</td>\n",
              "      <td>0.000000</td>\n",
              "      <td>0.000000</td>\n",
              "      <td>0.0</td>\n",
              "      <td>0.0</td>\n",
              "      <td>0.0</td>\n",
              "      <td>0.0</td>\n",
              "      <td>0.0</td>\n",
              "      <td>0.0</td>\n",
              "    </tr>\n",
              "    <tr>\n",
              "      <th>4</th>\n",
              "      <td>0.0</td>\n",
              "      <td>0.0</td>\n",
              "      <td>0.0</td>\n",
              "      <td>0.0</td>\n",
              "      <td>0.0</td>\n",
              "      <td>0.000000</td>\n",
              "      <td>0.0</td>\n",
              "      <td>0.0</td>\n",
              "      <td>0.000000</td>\n",
              "      <td>0.000000</td>\n",
              "      <td>...</td>\n",
              "      <td>0.000000</td>\n",
              "      <td>0.000000</td>\n",
              "      <td>0.000000</td>\n",
              "      <td>0.000000</td>\n",
              "      <td>0.0</td>\n",
              "      <td>0.0</td>\n",
              "      <td>0.0</td>\n",
              "      <td>0.0</td>\n",
              "      <td>0.0</td>\n",
              "      <td>0.0</td>\n",
              "    </tr>\n",
              "  </tbody>\n",
              "</table>\n",
              "<p>5 rows × 784 columns</p>\n",
              "</div>\n",
              "      <button class=\"colab-df-convert\" onclick=\"convertToInteractive('df-010a437f-7cc3-439a-9960-5e7e146e598c')\"\n",
              "              title=\"Convert this dataframe to an interactive table.\"\n",
              "              style=\"display:none;\">\n",
              "        \n",
              "  <svg xmlns=\"http://www.w3.org/2000/svg\" height=\"24px\"viewBox=\"0 0 24 24\"\n",
              "       width=\"24px\">\n",
              "    <path d=\"M0 0h24v24H0V0z\" fill=\"none\"/>\n",
              "    <path d=\"M18.56 5.44l.94 2.06.94-2.06 2.06-.94-2.06-.94-.94-2.06-.94 2.06-2.06.94zm-11 1L8.5 8.5l.94-2.06 2.06-.94-2.06-.94L8.5 2.5l-.94 2.06-2.06.94zm10 10l.94 2.06.94-2.06 2.06-.94-2.06-.94-.94-2.06-.94 2.06-2.06.94z\"/><path d=\"M17.41 7.96l-1.37-1.37c-.4-.4-.92-.59-1.43-.59-.52 0-1.04.2-1.43.59L10.3 9.45l-7.72 7.72c-.78.78-.78 2.05 0 2.83L4 21.41c.39.39.9.59 1.41.59.51 0 1.02-.2 1.41-.59l7.78-7.78 2.81-2.81c.8-.78.8-2.07 0-2.86zM5.41 20L4 18.59l7.72-7.72 1.47 1.35L5.41 20z\"/>\n",
              "  </svg>\n",
              "      </button>\n",
              "      \n",
              "  <style>\n",
              "    .colab-df-container {\n",
              "      display:flex;\n",
              "      flex-wrap:wrap;\n",
              "      gap: 12px;\n",
              "    }\n",
              "\n",
              "    .colab-df-convert {\n",
              "      background-color: #E8F0FE;\n",
              "      border: none;\n",
              "      border-radius: 50%;\n",
              "      cursor: pointer;\n",
              "      display: none;\n",
              "      fill: #1967D2;\n",
              "      height: 32px;\n",
              "      padding: 0 0 0 0;\n",
              "      width: 32px;\n",
              "    }\n",
              "\n",
              "    .colab-df-convert:hover {\n",
              "      background-color: #E2EBFA;\n",
              "      box-shadow: 0px 1px 2px rgba(60, 64, 67, 0.3), 0px 1px 3px 1px rgba(60, 64, 67, 0.15);\n",
              "      fill: #174EA6;\n",
              "    }\n",
              "\n",
              "    [theme=dark] .colab-df-convert {\n",
              "      background-color: #3B4455;\n",
              "      fill: #D2E3FC;\n",
              "    }\n",
              "\n",
              "    [theme=dark] .colab-df-convert:hover {\n",
              "      background-color: #434B5C;\n",
              "      box-shadow: 0px 1px 3px 1px rgba(0, 0, 0, 0.15);\n",
              "      filter: drop-shadow(0px 1px 2px rgba(0, 0, 0, 0.3));\n",
              "      fill: #FFFFFF;\n",
              "    }\n",
              "  </style>\n",
              "\n",
              "      <script>\n",
              "        const buttonEl =\n",
              "          document.querySelector('#df-010a437f-7cc3-439a-9960-5e7e146e598c button.colab-df-convert');\n",
              "        buttonEl.style.display =\n",
              "          google.colab.kernel.accessAllowed ? 'block' : 'none';\n",
              "\n",
              "        async function convertToInteractive(key) {\n",
              "          const element = document.querySelector('#df-010a437f-7cc3-439a-9960-5e7e146e598c');\n",
              "          const dataTable =\n",
              "            await google.colab.kernel.invokeFunction('convertToInteractive',\n",
              "                                                     [key], {});\n",
              "          if (!dataTable) return;\n",
              "\n",
              "          const docLinkHtml = 'Like what you see? Visit the ' +\n",
              "            '<a target=\"_blank\" href=https://colab.research.google.com/notebooks/data_table.ipynb>data table notebook</a>'\n",
              "            + ' to learn more about interactive tables.';\n",
              "          element.innerHTML = '';\n",
              "          dataTable['output_type'] = 'display_data';\n",
              "          await google.colab.output.renderOutput(dataTable, element);\n",
              "          const docLink = document.createElement('div');\n",
              "          docLink.innerHTML = docLinkHtml;\n",
              "          element.appendChild(docLink);\n",
              "        }\n",
              "      </script>\n",
              "    </div>\n",
              "  </div>\n",
              "  "
            ]
          },
          "metadata": {},
          "execution_count": 92
        }
      ],
      "source": [
        "X.head()"
      ]
    },
    {
      "cell_type": "code",
      "execution_count": 93,
      "metadata": {
        "colab": {
          "base_uri": "https://localhost:8080/"
        },
        "id": "VqAgpwrVZqCl",
        "outputId": "ddf24ffc-5bbf-4512-8141-a5381d934a1e"
      },
      "outputs": [
        {
          "output_type": "execute_result",
          "data": {
            "text/plain": [
              "((70000, 784), (70000,))"
            ]
          },
          "metadata": {},
          "execution_count": 93
        }
      ],
      "source": [
        "X.shape,y.shape"
      ]
    },
    {
      "cell_type": "code",
      "execution_count": null,
      "metadata": {
        "colab": {
          "base_uri": "https://localhost:8080/"
        },
        "id": "mnFRNhbabkUe",
        "outputId": "51e38d72-76ac-43cc-e9b5-ec9537aa09f7"
      },
      "outputs": [
        {
          "output_type": "stream",
          "name": "stdout",
          "text": [
            "[0, 1, 2, 3, 4, 5, 6, 7, 8, 9]\n",
            "10\n"
          ]
        }
      ],
      "source": [
        "#Finding the number and type of classes\n",
        "#to find the classes I have looped over the y data(dependent variable) to find unique values and store them in a List\n",
        "classes = []\n",
        "for i in y:\n",
        "  if i not in classes:\n",
        "    classes.append(i)\n",
        "classes.sort()\n",
        "#Print the classes and no. of classes\n",
        "print(classes)\n",
        "print(len(classes))"
      ]
    },
    {
      "cell_type": "code",
      "source": [
        "#Printing Class Distribution\n",
        "#I have maintained a dict with keys as the classes found in previous subparts\n",
        "#Now i loop over y dataset to update dict according to the class.  \n",
        "m = {}\n",
        "for i in classes:\n",
        "  m[i] = 0\n",
        "for i in y:\n",
        "  m[i] += 1\n",
        "\n",
        "#Printing the dictionary with class frequency \n",
        "print(\"Class Distribution\\n\")\n",
        "print(m)\n",
        "\n",
        "#Plotting a bar graph between frequency and class using dict created \n",
        "plt.bar(list(m.keys()),list(m.values()))\n",
        "plt.xticks(range(10))\n",
        "plt.xlabel(\"Classes\")\n",
        "plt.ylabel(\"No. of Entries\")\n",
        "plt.title(\"Class Distribution\")\n",
        "plt.show()"
      ],
      "metadata": {
        "colab": {
          "base_uri": "https://localhost:8080/",
          "height": 347
        },
        "id": "rAMqsdTLGQ6b",
        "outputId": "e59aae74-e1ae-4f72-e98d-80885e3f696a"
      },
      "execution_count": null,
      "outputs": [
        {
          "output_type": "stream",
          "name": "stdout",
          "text": [
            "Class Distribution\n",
            "\n",
            "{0: 7000, 1: 7000, 2: 7000, 3: 7000, 4: 7000, 5: 7000, 6: 7000, 7: 7000, 8: 7000, 9: 7000}\n"
          ]
        },
        {
          "output_type": "display_data",
          "data": {
            "text/plain": [
              "<Figure size 432x288 with 1 Axes>"
            ],
            "image/png": "[encoded data removed]"
          },
          "metadata": {
            "needs_background": "light"
          }
        }
      ]
    },
    {
      "cell_type": "code",
      "execution_count": null,
      "metadata": {
        "id": "O4otcatqe_nd"
      },
      "outputs": [],
      "source": [
        "from sklearn.linear_model import LogisticRegression\n",
        "#Creating a class CustomOVO to implement One-versus-One strategy from scratch.\n",
        "class CustomOVO:\n",
        "    def __init__(self):\n",
        "        pass\n",
        "    \n",
        "    #The function fit to train our model on the dataset feeded to the model\n",
        "    def fit(self, X, y, learning_rate=0.01, epochs=100):\n",
        "        self.X = X\n",
        "        self.y = y\n",
        "        self.X['class'] = self.y\n",
        "        self.classes =  list(np.unique(self.y))\n",
        "        self.datasets = {}\n",
        "        # let n be the number of classes\n",
        "        #creating n*(n-1)/2 datasets \n",
        "        for i in self.classes:\n",
        "          for j in self.classes:\n",
        "            key = str(j)+\" \"+str(i)\n",
        "            if(i!=j and i<j):\n",
        "              X_new = self.X[(self.X['class']==i) | (self.X['class']==j)]\n",
        "              y_new = np.zeros(len(X_new))\n",
        "              for k in range(len(X_new)):\n",
        "                cls = X_new.iloc[k]['class']\n",
        "                if(cls == i):\n",
        "                  y_new[k] = 1\n",
        "              X_new = X_new.drop(['class'], axis=1)   \n",
        "              self.datasets[str(i)+\" \"+str(j)] = (X_new,y_new)\n",
        "        self.learning_rate = learning_rate\n",
        "        self.epochs = epochs\n",
        "        self.models = {}\n",
        "        \n",
        "        #creating n*(n-1)/2 models and training them with the corresponding dataset \n",
        "        for i in self.classes:\n",
        "          for j in self.classes:\n",
        "            key = str(j)+\" \"+str(i)\n",
        "            if(i!=j and i<j):\n",
        "              self.models[str(i)+\" \"+str(j)] = LogisticRegression(max_iter=self.epochs)\n",
        "              (X_train_ij,y_train_ij) = self.datasets[str(i)+\" \"+str(j)]\n",
        "              self.models[str(i)+\" \"+str(j)].fit(X_train_ij,y_train_ij)\n",
        "\n",
        "    #can predict for one row\n",
        "    def predict_one(self, x):\n",
        "      y_pred = {}\n",
        "      max = 0\n",
        "      max_key = 0\n",
        "      dictionary = {}\n",
        "      for i in self.classes:\n",
        "        y_pred[i] = 0\n",
        "      # getting the output for n*(n-1)/2 models\n",
        "      # finding the mode from these models to give the answer\n",
        "      for i in self.classes:\n",
        "        for j in self.classes:\n",
        "          key = str(j)+\" \"+str(i)\n",
        "          if(i!=j and i<j):\n",
        "            dictionary[str(i)+\" \"+str(j)] = self.models[str(i)+\" \"+str(j)].predict_proba(x)\n",
        "            if(dictionary[str(i)+\" \"+str(j)][:, 1]>0.5):\n",
        "              y_pred[i]+=1\n",
        "            else:\n",
        "              y_pred[j]+=1\n",
        "\n",
        "      for i in self.classes:\n",
        "        if(y_pred[i]>max):\n",
        "          max = y_pred[i]\n",
        "          max_key = i\n",
        "      return max_key\n",
        "    \n",
        "              \n",
        "    def predict(self,X_test):\n",
        "      #Predict the by looping over X_test and getting predictions one at a time from predict_one function\n",
        "      rows = X_test.shape[0]\n",
        "      y_pred = np.zeros(rows,)\n",
        "      for i in range(rows):\n",
        "        x = X_test.iloc[i]\n",
        "        x = x.to_numpy()\n",
        "        x = x.reshape(1,-1)\n",
        "        y_pred[i] = self.predict_one(x)\n",
        "      return y_pred\n"
      ]
    },
    {
      "cell_type": "code",
      "execution_count": null,
      "metadata": {
        "colab": {
          "base_uri": "https://localhost:8080/"
        },
        "id": "nsBIJkWEThje",
        "outputId": "710e6418-e994-471e-b587-c959755f1b9b"
      },
      "outputs": [
        {
          "output_type": "stream",
          "name": "stdout",
          "text": [
            "Custom Model Accuracy: 0.8477\n"
          ]
        }
      ],
      "source": [
        "#Creating a model with custom class created above\n",
        "model = CustomOVO()\n",
        "#fitting the model on train data \n",
        "model.fit(X_train,y_train,1,1000)\n",
        "#pickling the model\n",
        "pickle.dump(model, open('custom_ovo_model.pkl', 'wb'))\n",
        "#predicting using our custom model\n",
        "y_pred = model.predict(X_test)\n",
        "acc = accuracy_score(y_test, y_pred)\n",
        "#Printing accuracy using our model\n",
        "print(\"Custom Model Accuracy:\", acc)"
      ]
    },
    {
      "cell_type": "code",
      "source": [
        "X_train = X_train.drop([\"class\"],axis=1)"
      ],
      "metadata": {
        "id": "7LgZeR7_4TXm"
      },
      "execution_count": null,
      "outputs": []
    },
    {
      "cell_type": "code",
      "execution_count": 94,
      "metadata": {
        "colab": {
          "base_uri": "https://localhost:8080/"
        },
        "id": "38J9xTe-SfJi",
        "outputId": "c44364d1-e7db-4fdf-aea6-56eac1bc42aa"
      },
      "outputs": [
        {
          "output_type": "stream",
          "name": "stdout",
          "text": [
            "Sklearn Model Accuracy: 0.8499\n"
          ]
        }
      ],
      "source": [
        "from sklearn.linear_model import LogisticRegression\n",
        "from sklearn.multiclass import OneVsOneClassifier\n",
        "#Creating a model from sklearn \n",
        "#fitting the model on train data \n",
        "model = OneVsOneClassifier(LogisticRegression(random_state=0,  max_iter=1000)).fit(X_train, y_train)\n",
        "#pickling the model\n",
        "pickle.dump(model, open('sklearn_ovo_model.pkl', 'wb'))\n",
        "#predicting using our sklearn model\n",
        "y_pred = model.predict(X_test)\n",
        "#Printing accuracy using sklearn model\n",
        "print(\"Sklearn Model Accuracy:\", accuracy_score(y_test, y_pred))"
      ]
    },
    {
      "cell_type": "code",
      "execution_count": null,
      "metadata": {
        "id": "ypaYltc4ZVH7"
      },
      "outputs": [],
      "source": [
        "from sklearn.linear_model import LogisticRegression\n",
        "#Creating a class CustomOVR to implement One-versus-Rest strategy from scratch.\n",
        "class CustomOVR:\n",
        "    def __init__(self):\n",
        "        pass\n",
        "    \n",
        "    #The function fit to train our model on the dataset feeded to the model\n",
        "    def fit(self, X, y, learning_rate=0.01, epochs=100):\n",
        "        self.X = X\n",
        "        self.y = y\n",
        "        self.X['class'] = self.y\n",
        "        self.classes =  list(np.unique(self.y))\n",
        "        self.datasets = {}\n",
        "        # let n be the number of classes\n",
        "        #creating n datasets \n",
        "        for i in self.classes:\n",
        "          X_new = self.X\n",
        "          y_new = np.zeros(len(X_new))\n",
        "          for k in range(len(X_new)):\n",
        "            cls = self.y[k]\n",
        "            if(cls == i):\n",
        "              y_new[k] = 1  \n",
        "          X_new = X_new.drop(['class'], axis=1)   \n",
        "          self.datasets[i] = (X_new,y_new)\n",
        "        \n",
        "        self.learning_rate = learning_rate\n",
        "        self.epochs = epochs\n",
        "        self.models = {}\n",
        "\n",
        "        #creating n models and training them with the corresponding dataset \n",
        "        for i in self.classes:\n",
        "          self.models[i] = LogisticRegression(max_iter = self.epochs)\n",
        "          (X_train_ij,y_train_ij) = self.datasets[i]\n",
        "          self.models[i].fit(X_train_ij,y_train_ij)\n",
        "\n",
        "    #can predict for one row\n",
        "    def predict_one(self, x):\n",
        "      y_pred = {}\n",
        "      max = 0\n",
        "      max_key = 0\n",
        "      dictionary = {}\n",
        "      for i in self.classes:\n",
        "        y_pred[i] = 0\n",
        "      # getting the output for n models\n",
        "      # finding the max probability from these models to give the answer\n",
        "      for i in self.classes:\n",
        "        y_pred[i] = self.models[i].predict_proba(x)[:, 1]\n",
        "      sum = 0\n",
        "      for i in self.classes:\n",
        "        sum+=y_pred[i]\n",
        "        if(y_pred[i]>max):\n",
        "          max = y_pred[i]\n",
        "          max_key = i\n",
        "      return max_key\n",
        "\n",
        "              \n",
        "    def predict(self,X_test):\n",
        "      #Predict the by looping over X_test and getting predictions one at a time from predict_one function\n",
        "      rows = X_test.shape[0]\n",
        "      y_pred = np.zeros(rows,)\n",
        "      for i in range(rows):\n",
        "        x = X_test.iloc[i]\n",
        "        x = x.to_numpy()\n",
        "        x = x.reshape(1,-1)        \n",
        "        y_pred[i] = self.predict_one(x)\n",
        "      return y_pred\n"
      ]
    },
    {
      "cell_type": "code",
      "execution_count": null,
      "metadata": {
        "id": "wi6wUZb6ui2p",
        "colab": {
          "base_uri": "https://localhost:8080/"
        },
        "outputId": "804657f4-f870-4223-d1ee-c6098497b836"
      },
      "outputs": [
        {
          "output_type": "stream",
          "name": "stdout",
          "text": [
            "Custom Model Accuracy: 0.841\n"
          ]
        }
      ],
      "source": [
        "#Creating a model with custom class created above\n",
        "model = CustomOVR()\n",
        "#fitting the model on train data \n",
        "model.fit(X_train,y_train,1,1000)\n",
        "#pickling the model\n",
        "pickle.dump(model, open('custom_ovr_model.pkl', 'wb'))\n",
        "#predicting using our custom model\n",
        "y_pred = model.predict(X_test)\n",
        "#Printing accuracy using our model\n",
        "acc = accuracy_score(y_test, y_pred)\n",
        "print(\"Custom Model Accuracy:\", acc)"
      ]
    },
    {
      "cell_type": "code",
      "source": [
        "X_train = X_train.drop([\"class\"],axis=1)"
      ],
      "metadata": {
        "id": "0Khnna6H514N"
      },
      "execution_count": null,
      "outputs": []
    },
    {
      "cell_type": "code",
      "execution_count": null,
      "metadata": {
        "id": "QrK2VuomcKWs",
        "colab": {
          "base_uri": "https://localhost:8080/"
        },
        "outputId": "63c27871-61ec-4f3d-dfdd-c89cb5be79f0"
      },
      "outputs": [
        {
          "output_type": "stream",
          "name": "stdout",
          "text": [
            "Sklearn Model Accuracy: 0.841\n"
          ]
        }
      ],
      "source": [
        "from sklearn.linear_model import LogisticRegression\n",
        "from sklearn.multiclass import OneVsRestClassifier\n",
        "#Creating a model from sklearn \n",
        "#fitting the model on train data \n",
        "model = OneVsRestClassifier(LogisticRegression(random_state=0,  max_iter=1000)).fit(X_train, y_train)\n",
        "#pickling the model\n",
        "pickle.dump(model, open('sklearn_ovr_model.pkl', 'wb'))\n",
        "#predicting using our sklearn model\n",
        "y_pred = model.predict(X_test)\n",
        "#Printing accuracy using sklearn model\n",
        "print(\"Sklearn Model Accuracy:\", accuracy_score(y_test, y_pred))"
      ]
    },
    {
      "cell_type": "markdown",
      "source": [
        "# Question 3"
      ],
      "metadata": {
        "id": "dn2C6xtBHG1T"
      }
    },
    {
      "cell_type": "code",
      "source": [
        "# imports\n",
        "import os\n",
        "import cv2 \n",
        "from tqdm import tqdm"
      ],
      "metadata": {
        "id": "Mr4uzjpyL8iz"
      },
      "execution_count": 45,
      "outputs": []
    },
    {
      "cell_type": "code",
      "execution_count": 46,
      "metadata": {
        "colab": {
          "base_uri": "https://localhost:8080/"
        },
        "outputId": "7db9d44a-74bb-4109-a6ff-e35813dd6cfa",
        "id": "yS1XMZr52_LB"
      },
      "outputs": [
        {
          "output_type": "stream",
          "name": "stderr",
          "text": [
            "100%|██████████| 13780/13780 [01:27<00:00, 156.74it/s]\n"
          ]
        }
      ],
      "source": [
        "# reading Parasitized images from drive\n",
        "class0_images = []\n",
        "\n",
        "path = '/content/drive/MyDrive/dataset/Parasitized/Parasitized/'\n",
        "for file in tqdm(os.listdir(path)):\n",
        "  if(file[-3:]==\"png\"):\n",
        "    class0_image = cv2.imread(str(path+file), cv2.IMREAD_GRAYSCALE)\n",
        "    class0_images.append(class0_image)\n",
        "\n",
        "pickle.dump(class0_images, open('class0_images.pkl', 'wb'))\n"
      ]
    },
    {
      "cell_type": "code",
      "execution_count": 47,
      "metadata": {
        "id": "DeHyzHB4zBYM",
        "colab": {
          "base_uri": "https://localhost:8080/"
        },
        "outputId": "bb23329d-54d4-4b4b-940b-98d73f0308f5"
      },
      "outputs": [
        {
          "output_type": "stream",
          "name": "stderr",
          "text": [
            "100%|██████████| 13802/13802 [01:02<00:00, 219.85it/s]\n"
          ]
        }
      ],
      "source": [
        "# reading Uninfected images from drive\n",
        "class1_images = []\n",
        "\n",
        "path = '/content/drive/MyDrive/dataset/Uninfected/Uninfected/'\n",
        "for file in tqdm(os.listdir(path)):\n",
        "  if(file[-3:]==\"png\"):\n",
        "    class1_image = cv2.imread(str(path+file), cv2.IMREAD_GRAYSCALE)\n",
        "    class1_images.append(class1_image)\n",
        "\n",
        "pickle.dump(class1_images, open('class1_images.pkl', 'wb'))\n"
      ]
    },
    {
      "cell_type": "code",
      "source": [
        "print(\"samples of class 0: \",len(class0_images))\n",
        "print(\"samples of class 1: \",len(class1_images))\n",
        "class_dict = {}\n",
        "class_dict[0] = len(class0_images)\n",
        "class_dict[1] = len(class1_images)\n",
        "#Plotting a bar graph between frequency and class using dict created \n",
        "plt.bar(list(class_dict.keys()),list(class_dict.values()))\n",
        "plt.xticks(range(2))\n",
        "plt.xlabel(\"Classes\")\n",
        "plt.ylabel(\"No. of Entries\")\n",
        "plt.title(\"Class Distribution\")\n",
        "plt.show()"
      ],
      "metadata": {
        "colab": {
          "base_uri": "https://localhost:8080/",
          "height": 330
        },
        "id": "3zXpWOsW4mn8",
        "outputId": "00b9100e-077a-4790-9cf1-138721f6ebe7"
      },
      "execution_count": 96,
      "outputs": [
        {
          "output_type": "stream",
          "name": "stdout",
          "text": [
            "samples of class 0:  13779\n",
            "samples of class 1:  13801\n"
          ]
        },
        {
          "output_type": "display_data",
          "data": {
            "text/plain": [
              "<Figure size 432x288 with 1 Axes>"
            ],
            "image/png": "[encoded data removed]"
          },
          "metadata": {
            "needs_background": "light"
          }
        }
      ]
    },
    {
      "cell_type": "code",
      "source": [
        "class0_images = pickle.load(open('class0_images.pkl', 'rb'))\n",
        "class1_images = pickle.load(open('class1_images.pkl', 'rb'))"
      ],
      "metadata": {
        "id": "d0ae7_hfKy-f"
      },
      "execution_count": 95,
      "outputs": []
    },
    {
      "cell_type": "code",
      "source": [
        "#code to check if image size is equal\n",
        "#looping over images in a nested loop and checking if sizes are equal if not break and print not equal\n",
        "\n",
        "#for class 0\n",
        "class0_flag = True\n",
        "for i in class0_images:\n",
        "  for j in class0_images:\n",
        "    if(class0_flag and i.shape != j.shape):\n",
        "      print(\"Size of Images are not equal for class 0\")\n",
        "      class0_flag = False\n",
        "      break\n",
        "\n",
        "if(class0_flag):\n",
        "  print(\"Size of Images are equal for class 0\")\n",
        "\n",
        "#for class 1\n",
        "class1_flag = True\n",
        "for i in class1_images:\n",
        "  for j in class1_images:\n",
        "    if(class1_flag and i.shape != j.shape):\n",
        "      print(\"Size of Images are not equal for class 1\")\n",
        "      class1_flag = False\n",
        "      break\n",
        "      \n",
        "if(class1_flag):\n",
        "  print(\"Size of Images are equal for class 1\")"
      ],
      "metadata": {
        "colab": {
          "base_uri": "https://localhost:8080/"
        },
        "id": "UcqwQ_IPrbXH",
        "outputId": "4e9a557a-f2e5-46b9-f98b-47290eb3b304"
      },
      "execution_count": 50,
      "outputs": [
        {
          "output_type": "stream",
          "name": "stdout",
          "text": [
            "Size of Images are not equal for class 0\n",
            "Size of Images are not equal for class 1\n"
          ]
        }
      ]
    },
    {
      "cell_type": "code",
      "source": [
        "#Since size of images are not equal \n",
        "#Remedy is to resize the image using cv2.resize() I have kept the size as 32*32\n",
        "\n",
        "#for class 0\n",
        "class0_images_resized = []\n",
        "for img in class0_images:\n",
        "  class0_image = cv2.resize(img, (32, 32))\n",
        "  class0_images_resized.append(class0_image)\n",
        "\n",
        "#for class 1\n",
        "class1_images_resized = []\n",
        "for img in class1_images:\n",
        "  class1_image = cv2.resize(img, (32, 32))\n",
        "  class1_images_resized.append(class1_image)"
      ],
      "metadata": {
        "id": "BMfxRaaoI_7j"
      },
      "execution_count": 51,
      "outputs": []
    },
    {
      "cell_type": "code",
      "source": [
        "#code to check if image size is equal\n",
        "#looping over images in a nested loop and checking if sizes are equal if not break and print not equal\n",
        "\n",
        "#for class 0\n",
        "class0_flag = True\n",
        "for i in class0_images_resized:\n",
        "  for j in class0_images_resized:\n",
        "    if(class0_flag and i.shape != j.shape):\n",
        "      print(\"Size of Images are not equal for class 0\")\n",
        "      class0_flag = False\n",
        "      break\n",
        "\n",
        "if(class0_flag):\n",
        "  print(\"Size of Images are equal for class 0\")\n",
        "\n",
        "#for class 1\n",
        "class1_flag = True\n",
        "for i in class1_images_resized:\n",
        "  for j in class1_images_resized:\n",
        "    if(class1_flag and i.shape != j.shape):\n",
        "      print(\"Size of Images are not equal for class 1\")\n",
        "      class1_flag = False\n",
        "      break\n",
        "      \n",
        "if(class1_flag):\n",
        "  print(\"Size of Images are equal for class 1\")"
      ],
      "metadata": {
        "colab": {
          "base_uri": "https://localhost:8080/"
        },
        "id": "AzddA_C8si_o",
        "outputId": "589fa212-32d6-4352-dfd7-78569de68a85"
      },
      "execution_count": 52,
      "outputs": [
        {
          "output_type": "stream",
          "name": "stdout",
          "text": [
            "Size of Images are equal for class 0\n",
            "Size of Images are equal for class 1\n"
          ]
        }
      ]
    },
    {
      "cell_type": "code",
      "source": [
        "#Generating 2 images of class 0\n",
        "#to print the plot, I have used subplots from matplotlib library fig, axes = plt.subplots(2,figsize = (5,5))\n",
        "fig, axes = plt.subplots(2,figsize = (5,5))\n",
        "cnt = 0\n",
        "#To find the 2 images I have looped over till I have found 2 random images from class 0\n",
        "while(True):\n",
        "  i = random.randint(0,len(class0_images))\n",
        "  axes[cnt].imshow(class0_images[i],cmap = 'gray')\n",
        "  cnt+=1\n",
        "  if(cnt==2):\n",
        "    break\n",
        "plt.show()"
      ],
      "metadata": {
        "colab": {
          "base_uri": "https://localhost:8080/",
          "height": 323
        },
        "id": "m1JELRiYRRSa",
        "outputId": "c4abbce9-0fb0-4c81-f291-6059fc1e9eaf"
      },
      "execution_count": 53,
      "outputs": [
        {
          "output_type": "display_data",
          "data": {
            "text/plain": [
              "<Figure size 360x360 with 2 Axes>"
            ],
            "image/png": "[encoded data removed]"
          },
          "metadata": {
            "needs_background": "light"
          }
        }
      ]
    },
    {
      "cell_type": "code",
      "source": [
        "#Generating 2 images of class 1\n",
        "#to print the plot, I have used subplots from matplotlib library fig, axes = plt.subplots(2,figsize = (5,5))\n",
        "fig, axes = plt.subplots(2,figsize = (5,5))\n",
        "cnt = 0\n",
        "#To find the 2 images I have looped over till I have found 2 random images from class 1\n",
        "while(True):\n",
        "  i = random.randint(0,len(class1_images))\n",
        "  axes[cnt].imshow(class1_images[i],cmap = 'gray')\n",
        "  cnt+=1\n",
        "  if(cnt==2):\n",
        "    break\n",
        "plt.show()"
      ],
      "metadata": {
        "colab": {
          "base_uri": "https://localhost:8080/",
          "height": 323
        },
        "id": "uss0bjWRRT7_",
        "outputId": "b93d4694-f83d-4489-de6f-cb6bcb592aaf"
      },
      "execution_count": 54,
      "outputs": [
        {
          "output_type": "display_data",
          "data": {
            "text/plain": [
              "<Figure size 360x360 with 2 Axes>"
            ],
            "image/png": "[encoded data removed]"
          },
          "metadata": {
            "needs_background": "light"
          }
        }
      ]
    },
    {
      "cell_type": "code",
      "execution_count": 55,
      "metadata": {
        "id": "PGWCejU_UYmL"
      },
      "outputs": [],
      "source": [
        "#flattening the images to run the ML models for class0 \n",
        "images_0 =  []\n",
        "for image in class0_images_resized:\n",
        "    images_0.append(image.flatten())\n",
        "class0_images_resized = images_0"
      ]
    },
    {
      "cell_type": "code",
      "execution_count": 56,
      "metadata": {
        "id": "wB_4TW5YUYmM"
      },
      "outputs": [],
      "source": [
        "#flattening the images to run the ML models for class1\n",
        "images_1 =  []\n",
        "for image in class1_images_resized:\n",
        "    images_1.append(image.flatten())\n",
        "class1_images_resized = images_1"
      ]
    },
    {
      "cell_type": "code",
      "source": [
        "#creating pandas dataframe\n",
        "X0 = pd.DataFrame(class0_images_resized)\n",
        "X1 = pd.DataFrame(class1_images_resized)\n",
        "X = pd.concat([X0, X1], axis=0)"
      ],
      "metadata": {
        "id": "7bhglJ3NRa20"
      },
      "execution_count": 57,
      "outputs": []
    },
    {
      "cell_type": "code",
      "source": [
        "X.shape"
      ],
      "metadata": {
        "colab": {
          "base_uri": "https://localhost:8080/"
        },
        "id": "CXh9QlazWIk7",
        "outputId": "e996e5df-f601-4294-9a75-eb3c2895acf0"
      },
      "execution_count": 58,
      "outputs": [
        {
          "output_type": "execute_result",
          "data": {
            "text/plain": [
              "(27580, 1024)"
            ]
          },
          "metadata": {},
          "execution_count": 58
        }
      ]
    },
    {
      "cell_type": "code",
      "source": [
        "y0 = np.zeros(len(class0_images),)\n",
        "y1 = np.ones(len(class1_images),)\n",
        "y = np.concatenate((y0,y1), axis=0)\n",
        "y"
      ],
      "metadata": {
        "colab": {
          "base_uri": "https://localhost:8080/"
        },
        "id": "_aMw7YMhRdWe",
        "outputId": "2879748e-6c6f-4ca3-ed4e-9f35a8a41452"
      },
      "execution_count": 59,
      "outputs": [
        {
          "output_type": "execute_result",
          "data": {
            "text/plain": [
              "array([0., 0., 0., ..., 1., 1., 1.])"
            ]
          },
          "metadata": {},
          "execution_count": 59
        }
      ]
    },
    {
      "cell_type": "code",
      "source": [
        "#spliting the dataset into 75-15-10 proportion\n",
        "X_train, X_test, y_train, y_test = train_test_split(X,y, test_size=0.25, random_state=10,stratify = y)\n",
        "X_val, X_test, y_val, y_test = train_test_split(X_test,y_test, test_size=0.4, random_state=10,stratify = y_test)"
      ],
      "metadata": {
        "id": "lsXMekFYRe0w"
      },
      "execution_count": 60,
      "outputs": []
    },
    {
      "cell_type": "code",
      "source": [
        "from sklearn.neural_network import MLPClassifier\n",
        "#MLP classifier with hyperparameters as\n",
        "# hidden_layer_sizes=(128, 64, 32)\n",
        "# learning_rate='constant'\n",
        "# activation='relu'\n",
        "# solver='adam'\n",
        "# batch_size='auto'\n",
        "# learning_rate_init=0.001\n",
        "# max_iter=60\n",
        "# shuffle=True\n",
        "\n",
        "\n",
        "classes = np.unique(y)\n",
        "model = MLPClassifier(hidden_layer_sizes=(128, 64, 32), random_state=10, learning_rate='constant', activation='relu', solver='adam',batch_size='auto',learning_rate_init=0.001,max_iter=60,shuffle=True)\n",
        "training_loss = []\n",
        "validation_loss = []\n",
        "epochs = 60\n",
        "\n",
        "for epoch in range(epochs):\n",
        "  model = model.partial_fit(X_train, y_train, classes=classes)\n",
        "\n",
        "  #getting the training loss in each epoch\n",
        "  y_pred_t = model.predict_proba(X_train)\n",
        "  training_loss.append(log_loss(y_train, y_pred_t))\n",
        "  \n",
        "  #getting the validation loss in each epoch\n",
        "  y_pred_v = model.predict_proba(X_val)\n",
        "  validation_loss.append(log_loss(y_val, y_pred_v))\n",
        "\n"
      ],
      "metadata": {
        "id": "zND6ZR_4RgoG"
      },
      "execution_count": 61,
      "outputs": []
    },
    {
      "cell_type": "code",
      "source": [
        "# pickling the model\n",
        "pickle.dump(model, open('q3_mlp_model.pkl', 'wb'))"
      ],
      "metadata": {
        "id": "fNfNa6JrWRcN"
      },
      "execution_count": 62,
      "outputs": []
    },
    {
      "cell_type": "code",
      "source": [
        "# graph betweeen training loss and epochs\n",
        "epochs = [i for i in range(1,61)]\n",
        "\n",
        "plt.plot(epochs,training_loss)\n",
        "plt.xlabel(\"Epochs\")\n",
        "plt.ylabel(\"Training Toss\")\n",
        "plt.title(\"Training Loss w.r.t. Epochs\")\n",
        "plt.show()"
      ],
      "metadata": {
        "colab": {
          "base_uri": "https://localhost:8080/",
          "height": 295
        },
        "id": "SiAnhZrxRiwS",
        "outputId": "01f0d09f-2b46-494c-b5b7-abc34fff7083"
      },
      "execution_count": 63,
      "outputs": [
        {
          "output_type": "display_data",
          "data": {
            "text/plain": [
              "<Figure size 432x288 with 1 Axes>"
            ],
            "image/png": "[encoded data removed]"
          },
          "metadata": {
            "needs_background": "light"
          }
        }
      ]
    },
    {
      "cell_type": "code",
      "source": [
        "# graph betweeen validation loss and epochs\n",
        "plt.plot(epochs,validation_loss)\n",
        "plt.xlabel(\"Epochs\")\n",
        "plt.ylabel(\"Validation Toss\")\n",
        "plt.title(\"Validation Loss w.r.t. Epochs\")\n",
        "plt.show()"
      ],
      "metadata": {
        "colab": {
          "base_uri": "https://localhost:8080/",
          "height": 295
        },
        "id": "j0piqnC1RkA7",
        "outputId": "ccbcb294-006b-42d4-c28a-25dd1b1f1ee4"
      },
      "execution_count": 64,
      "outputs": [
        {
          "output_type": "display_data",
          "data": {
            "text/plain": [
              "<Figure size 432x288 with 1 Axes>"
            ],
            "image/png": "[encoded data removed]"
          },
          "metadata": {
            "needs_background": "light"
          }
        }
      ]
    },
    {
      "cell_type": "markdown",
      "source": [
        "Goodness of training analysis:\n",
        "1. generally loss (training, validation) is decreasing with the number of epochs therefore model is learning.\n",
        "2. Since the training and validation loss are in similar range the model is not overfitting.\n"
      ],
      "metadata": {
        "id": "Cibr4DpDoJx4"
      }
    },
    {
      "cell_type": "code",
      "source": [
        "# predicting using our model\n",
        "y_pred = model.predict(X_test)\n",
        "# printing the accuracy of our model\n",
        "acc = accuracy_score(y_test, y_pred)\n",
        "print(\"MLP Model Accuracy:\", acc)"
      ],
      "metadata": {
        "colab": {
          "base_uri": "https://localhost:8080/"
        },
        "id": "humx5tejRlc9",
        "outputId": "e1b309d9-6d17-42f7-a240-dc8f44fcb6f5"
      },
      "execution_count": 65,
      "outputs": [
        {
          "output_type": "stream",
          "name": "stdout",
          "text": [
            "MLP Model Accuracy: 0.7563451776649747\n"
          ]
        }
      ]
    },
    {
      "cell_type": "code",
      "source": [
        "# generating y_pred to calculate f1 scores for training, validation and testing set\n",
        "y_pred = model.predict(X_test)\n",
        "y_pred_t = model.predict(X_train)\n",
        "y_pred_v = model.predict(X_val)"
      ],
      "metadata": {
        "id": "9JoNQ0lZRmha"
      },
      "execution_count": 66,
      "outputs": []
    },
    {
      "cell_type": "code",
      "source": [
        "# calculating f1 scores for training, validation and testing set\n",
        "print(\"Test f1 score: \",f1_score(y_test, y_pred))\n",
        "print(\"Train f1 score: \",f1_score(y_train, y_pred_t))\n",
        "print(\"Validation f1 score: \",f1_score(y_val, y_pred_v))"
      ],
      "metadata": {
        "colab": {
          "base_uri": "https://localhost:8080/"
        },
        "id": "zfuP_TcDRnU1",
        "outputId": "18ef3df3-bec1-4181-e036-25e8eb284b5c"
      },
      "execution_count": 67,
      "outputs": [
        {
          "output_type": "stream",
          "name": "stdout",
          "text": [
            "Test f1 score:  0.7735849056603774\n",
            "Train f1 score:  0.8899429874572408\n",
            "Validation f1 score:  0.7829006266786034\n"
          ]
        }
      ]
    },
    {
      "cell_type": "markdown",
      "source": [
        "# Question 4\n"
      ],
      "metadata": {
        "id": "Qk58EabUZ0qm"
      }
    },
    {
      "cell_type": "code",
      "source": [
        "# data reading\n",
        "from sklearn.datasets import load_wine\n",
        "X,y = load_wine(return_X_y=True, as_frame = True)"
      ],
      "metadata": {
        "id": "vKSgksmOZ3XK"
      },
      "execution_count": 68,
      "outputs": []
    },
    {
      "cell_type": "code",
      "source": [
        "# EDA\n",
        "X.head()"
      ],
      "metadata": {
        "colab": {
          "base_uri": "https://localhost:8080/",
          "height": 270
        },
        "id": "yYd4Y978Z7RA",
        "outputId": "f5f764c1-1893-4794-ec4a-78a21a85f042"
      },
      "execution_count": 69,
      "outputs": [
        {
          "output_type": "execute_result",
          "data": {
            "text/plain": [
              "   alcohol  malic_acid   ash  alcalinity_of_ash  magnesium  total_phenols  \\\n",
              "0    14.23        1.71  2.43               15.6      127.0           2.80   \n",
              "1    13.20        1.78  2.14               11.2      100.0           2.65   \n",
              "2    13.16        2.36  2.67               18.6      101.0           2.80   \n",
              "3    14.37        1.95  2.50               16.8      113.0           3.85   \n",
              "4    13.24        2.59  2.87               21.0      118.0           2.80   \n",
              "\n",
              "   flavanoids  nonflavanoid_phenols  proanthocyanins  color_intensity   hue  \\\n",
              "0        3.06                  0.28             2.29             5.64  1.04   \n",
              "1        2.76                  0.26             1.28             4.38  1.05   \n",
              "2        3.24                  0.30             2.81             5.68  1.03   \n",
              "3        3.49                  0.24             2.18             7.80  0.86   \n",
              "4        2.69                  0.39             1.82             4.32  1.04   \n",
              "\n",
              "   od280/od315_of_diluted_wines  proline  \n",
              "0                          3.92   1065.0  \n",
              "1                          3.40   1050.0  \n",
              "2                          3.17   1185.0  \n",
              "3                          3.45   1480.0  \n",
              "4                          2.93    735.0  "
            ],
            "text/html": [
              "\n",
              "  <div id=\"df-353ea12d-0ce6-433b-acb8-722d037515e4\">\n",
              "    <div class=\"colab-df-container\">\n",
              "      <div>\n",
              "<style scoped>\n",
              "    .dataframe tbody tr th:only-of-type {\n",
              "        vertical-align: middle;\n",
              "    }\n",
              "\n",
              "    .dataframe tbody tr th {\n",
              "        vertical-align: top;\n",
              "    }\n",
              "\n",
              "    .dataframe thead th {\n",
              "        text-align: right;\n",
              "    }\n",
              "</style>\n",
              "<table border=\"1\" class=\"dataframe\">\n",
              "  <thead>\n",
              "    <tr style=\"text-align: right;\">\n",
              "      <th></th>\n",
              "      <th>alcohol</th>\n",
              "      <th>malic_acid</th>\n",
              "      <th>ash</th>\n",
              "      <th>alcalinity_of_ash</th>\n",
              "      <th>magnesium</th>\n",
              "      <th>total_phenols</th>\n",
              "      <th>flavanoids</th>\n",
              "      <th>nonflavanoid_phenols</th>\n",
              "      <th>proanthocyanins</th>\n",
              "      <th>color_intensity</th>\n",
              "      <th>hue</th>\n",
              "      <th>od280/od315_of_diluted_wines</th>\n",
              "      <th>proline</th>\n",
              "    </tr>\n",
              "  </thead>\n",
              "  <tbody>\n",
              "    <tr>\n",
              "      <th>0</th>\n",
              "      <td>14.23</td>\n",
              "      <td>1.71</td>\n",
              "      <td>2.43</td>\n",
              "      <td>15.6</td>\n",
              "      <td>127.0</td>\n",
              "      <td>2.80</td>\n",
              "      <td>3.06</td>\n",
              "      <td>0.28</td>\n",
              "      <td>2.29</td>\n",
              "      <td>5.64</td>\n",
              "      <td>1.04</td>\n",
              "      <td>3.92</td>\n",
              "      <td>1065.0</td>\n",
              "    </tr>\n",
              "    <tr>\n",
              "      <th>1</th>\n",
              "      <td>13.20</td>\n",
              "      <td>1.78</td>\n",
              "      <td>2.14</td>\n",
              "      <td>11.2</td>\n",
              "      <td>100.0</td>\n",
              "      <td>2.65</td>\n",
              "      <td>2.76</td>\n",
              "      <td>0.26</td>\n",
              "      <td>1.28</td>\n",
              "      <td>4.38</td>\n",
              "      <td>1.05</td>\n",
              "      <td>3.40</td>\n",
              "      <td>1050.0</td>\n",
              "    </tr>\n",
              "    <tr>\n",
              "      <th>2</th>\n",
              "      <td>13.16</td>\n",
              "      <td>2.36</td>\n",
              "      <td>2.67</td>\n",
              "      <td>18.6</td>\n",
              "      <td>101.0</td>\n",
              "      <td>2.80</td>\n",
              "      <td>3.24</td>\n",
              "      <td>0.30</td>\n",
              "      <td>2.81</td>\n",
              "      <td>5.68</td>\n",
              "      <td>1.03</td>\n",
              "      <td>3.17</td>\n",
              "      <td>1185.0</td>\n",
              "    </tr>\n",
              "    <tr>\n",
              "      <th>3</th>\n",
              "      <td>14.37</td>\n",
              "      <td>1.95</td>\n",
              "      <td>2.50</td>\n",
              "      <td>16.8</td>\n",
              "      <td>113.0</td>\n",
              "      <td>3.85</td>\n",
              "      <td>3.49</td>\n",
              "      <td>0.24</td>\n",
              "      <td>2.18</td>\n",
              "      <td>7.80</td>\n",
              "      <td>0.86</td>\n",
              "      <td>3.45</td>\n",
              "      <td>1480.0</td>\n",
              "    </tr>\n",
              "    <tr>\n",
              "      <th>4</th>\n",
              "      <td>13.24</td>\n",
              "      <td>2.59</td>\n",
              "      <td>2.87</td>\n",
              "      <td>21.0</td>\n",
              "      <td>118.0</td>\n",
              "      <td>2.80</td>\n",
              "      <td>2.69</td>\n",
              "      <td>0.39</td>\n",
              "      <td>1.82</td>\n",
              "      <td>4.32</td>\n",
              "      <td>1.04</td>\n",
              "      <td>2.93</td>\n",
              "      <td>735.0</td>\n",
              "    </tr>\n",
              "  </tbody>\n",
              "</table>\n",
              "</div>\n",
              "      <button class=\"colab-df-convert\" onclick=\"convertToInteractive('df-353ea12d-0ce6-433b-acb8-722d037515e4')\"\n",
              "              title=\"Convert this dataframe to an interactive table.\"\n",
              "              style=\"display:none;\">\n",
              "        \n",
              "  <svg xmlns=\"http://www.w3.org/2000/svg\" height=\"24px\"viewBox=\"0 0 24 24\"\n",
              "       width=\"24px\">\n",
              "    <path d=\"M0 0h24v24H0V0z\" fill=\"none\"/>\n",
              "    <path d=\"M18.56 5.44l.94 2.06.94-2.06 2.06-.94-2.06-.94-.94-2.06-.94 2.06-2.06.94zm-11 1L8.5 8.5l.94-2.06 2.06-.94-2.06-.94L8.5 2.5l-.94 2.06-2.06.94zm10 10l.94 2.06.94-2.06 2.06-.94-2.06-.94-.94-2.06-.94 2.06-2.06.94z\"/><path d=\"M17.41 7.96l-1.37-1.37c-.4-.4-.92-.59-1.43-.59-.52 0-1.04.2-1.43.59L10.3 9.45l-7.72 7.72c-.78.78-.78 2.05 0 2.83L4 21.41c.39.39.9.59 1.41.59.51 0 1.02-.2 1.41-.59l7.78-7.78 2.81-2.81c.8-.78.8-2.07 0-2.86zM5.41 20L4 18.59l7.72-7.72 1.47 1.35L5.41 20z\"/>\n",
              "  </svg>\n",
              "      </button>\n",
              "      \n",
              "  <style>\n",
              "    .colab-df-container {\n",
              "      display:flex;\n",
              "      flex-wrap:wrap;\n",
              "      gap: 12px;\n",
              "    }\n",
              "\n",
              "    .colab-df-convert {\n",
              "      background-color: #E8F0FE;\n",
              "      border: none;\n",
              "      border-radius: 50%;\n",
              "      cursor: pointer;\n",
              "      display: none;\n",
              "      fill: #1967D2;\n",
              "      height: 32px;\n",
              "      padding: 0 0 0 0;\n",
              "      width: 32px;\n",
              "    }\n",
              "\n",
              "    .colab-df-convert:hover {\n",
              "      background-color: #E2EBFA;\n",
              "      box-shadow: 0px 1px 2px rgba(60, 64, 67, 0.3), 0px 1px 3px 1px rgba(60, 64, 67, 0.15);\n",
              "      fill: #174EA6;\n",
              "    }\n",
              "\n",
              "    [theme=dark] .colab-df-convert {\n",
              "      background-color: #3B4455;\n",
              "      fill: #D2E3FC;\n",
              "    }\n",
              "\n",
              "    [theme=dark] .colab-df-convert:hover {\n",
              "      background-color: #434B5C;\n",
              "      box-shadow: 0px 1px 3px 1px rgba(0, 0, 0, 0.15);\n",
              "      filter: drop-shadow(0px 1px 2px rgba(0, 0, 0, 0.3));\n",
              "      fill: #FFFFFF;\n",
              "    }\n",
              "  </style>\n",
              "\n",
              "      <script>\n",
              "        const buttonEl =\n",
              "          document.querySelector('#df-353ea12d-0ce6-433b-acb8-722d037515e4 button.colab-df-convert');\n",
              "        buttonEl.style.display =\n",
              "          google.colab.kernel.accessAllowed ? 'block' : 'none';\n",
              "\n",
              "        async function convertToInteractive(key) {\n",
              "          const element = document.querySelector('#df-353ea12d-0ce6-433b-acb8-722d037515e4');\n",
              "          const dataTable =\n",
              "            await google.colab.kernel.invokeFunction('convertToInteractive',\n",
              "                                                     [key], {});\n",
              "          if (!dataTable) return;\n",
              "\n",
              "          const docLinkHtml = 'Like what you see? Visit the ' +\n",
              "            '<a target=\"_blank\" href=https://colab.research.google.com/notebooks/data_table.ipynb>data table notebook</a>'\n",
              "            + ' to learn more about interactive tables.';\n",
              "          element.innerHTML = '';\n",
              "          dataTable['output_type'] = 'display_data';\n",
              "          await google.colab.output.renderOutput(dataTable, element);\n",
              "          const docLink = document.createElement('div');\n",
              "          docLink.innerHTML = docLinkHtml;\n",
              "          element.appendChild(docLink);\n",
              "        }\n",
              "      </script>\n",
              "    </div>\n",
              "  </div>\n",
              "  "
            ]
          },
          "metadata": {},
          "execution_count": 69
        }
      ]
    },
    {
      "cell_type": "code",
      "source": [
        "y.head()"
      ],
      "metadata": {
        "colab": {
          "base_uri": "https://localhost:8080/"
        },
        "id": "1ZympL1XZ8jv",
        "outputId": "62630c22-fcdc-46b8-b3db-ff6e9648a095"
      },
      "execution_count": 70,
      "outputs": [
        {
          "output_type": "execute_result",
          "data": {
            "text/plain": [
              "0    0\n",
              "1    0\n",
              "2    0\n",
              "3    0\n",
              "4    0\n",
              "Name: target, dtype: int64"
            ]
          },
          "metadata": {},
          "execution_count": 70
        }
      ]
    },
    {
      "cell_type": "code",
      "source": [
        "#printing the histogram to visually show the class imbalance\n",
        "#I have used matplotlib to print the data\n",
        "print(\"Class Distribution\")\n",
        "plt.hist(y)\n",
        "plt.xlabel(\"Classes\")\n",
        "plt.xticks(range(3))\n",
        "plt.ylabel(\"No. of Entries\")\n",
        "plt.title(\"Class Distribution\")\n",
        "plt.show()"
      ],
      "metadata": {
        "colab": {
          "base_uri": "https://localhost:8080/",
          "height": 312
        },
        "id": "rvDXn82dhTIS",
        "outputId": "ac511d7c-14e0-402d-89ac-cbc96c55882b"
      },
      "execution_count": 71,
      "outputs": [
        {
          "output_type": "stream",
          "name": "stdout",
          "text": [
            "Class Distribution\n"
          ]
        },
        {
          "output_type": "display_data",
          "data": {
            "text/plain": [
              "<Figure size 432x288 with 1 Axes>"
            ],
            "image/png": "[encoded data removed]"
          },
          "metadata": {
            "needs_background": "light"
          }
        }
      ]
    },
    {
      "cell_type": "code",
      "source": [
        "#Scaling the columns between 0.0 to 1.0\n",
        "from pandas.api.types import is_numeric_dtype\n",
        "#looping over columns\n",
        "for i in X.columns:\n",
        "  #to check if dtype is numeric and can be scaled by diving from max value\n",
        "  if(is_numeric_dtype(X[i])):\n",
        "    #finding max of each column\n",
        "    max = X[i].max()\n",
        "    print(\"Max value in column \",i,\" is \",max)\n",
        "    #diving it by max\n",
        "    X[i] = X[i]/max   "
      ],
      "metadata": {
        "colab": {
          "base_uri": "https://localhost:8080/"
        },
        "id": "t__urlZIha6U",
        "outputId": "d03f3433-5e62-4e4f-a069-84d028d42806"
      },
      "execution_count": 72,
      "outputs": [
        {
          "output_type": "stream",
          "name": "stdout",
          "text": [
            "Max value in column  alcohol  is  14.83\n",
            "Max value in column  malic_acid  is  5.8\n",
            "Max value in column  ash  is  3.23\n",
            "Max value in column  alcalinity_of_ash  is  30.0\n",
            "Max value in column  magnesium  is  162.0\n",
            "Max value in column  total_phenols  is  3.88\n",
            "Max value in column  flavanoids  is  5.08\n",
            "Max value in column  nonflavanoid_phenols  is  0.66\n",
            "Max value in column  proanthocyanins  is  3.58\n",
            "Max value in column  color_intensity  is  13.0\n",
            "Max value in column  hue  is  1.71\n",
            "Max value in column  od280/od315_of_diluted_wines  is  4.0\n",
            "Max value in column  proline  is  1680.0\n"
          ]
        }
      ]
    },
    {
      "cell_type": "code",
      "source": [
        "X.describe()"
      ],
      "metadata": {
        "colab": {
          "base_uri": "https://localhost:8080/",
          "height": 364
        },
        "id": "YBiy2anShe3O",
        "outputId": "22a73f0a-f434-433b-82a1-5bf820307a8f"
      },
      "execution_count": 73,
      "outputs": [
        {
          "output_type": "execute_result",
          "data": {
            "text/plain": [
              "          alcohol  malic_acid         ash  alcalinity_of_ash   magnesium  \\\n",
              "count  178.000000  178.000000  178.000000         178.000000  178.000000   \n",
              "mean     0.876643    0.402819    0.732668           0.649831    0.615689   \n",
              "std      0.054742    0.192611    0.084936           0.111319    0.088163   \n",
              "min      0.743763    0.127586    0.421053           0.353333    0.432099   \n",
              "25%      0.833614    0.276293    0.684211           0.573333    0.543210   \n",
              "50%      0.879973    0.321552    0.730650           0.650000    0.604938   \n",
              "75%      0.922286    0.531466    0.791796           0.716667    0.660494   \n",
              "max      1.000000    1.000000    1.000000           1.000000    1.000000   \n",
              "\n",
              "       total_phenols  flavanoids  nonflavanoid_phenols  proanthocyanins  \\\n",
              "count     178.000000  178.000000            178.000000       178.000000   \n",
              "mean        0.591524    0.399463              0.548264         0.444385   \n",
              "std         0.161302    0.196626              0.188566         0.159877   \n",
              "min         0.252577    0.066929              0.196970         0.114525   \n",
              "25%         0.449098    0.237205              0.409091         0.349162   \n",
              "50%         0.606959    0.420276              0.515152         0.434358   \n",
              "75%         0.721649    0.565945              0.662879         0.544693   \n",
              "max         1.000000    1.000000              1.000000         1.000000   \n",
              "\n",
              "       color_intensity         hue  od280/od315_of_diluted_wines     proline  \n",
              "count       178.000000  178.000000                    178.000000  178.000000  \n",
              "mean          0.389084    0.559912                      0.652921    0.444579  \n",
              "std           0.178330    0.133668                      0.177498    0.187445  \n",
              "min           0.098462    0.280702                      0.317500    0.165476  \n",
              "25%           0.247692    0.457602                      0.484375    0.297917  \n",
              "50%           0.360769    0.564327                      0.695000    0.400893  \n",
              "75%           0.476923    0.654971                      0.792500    0.586310  \n",
              "max           1.000000    1.000000                      1.000000    1.000000  "
            ],
            "text/html": [
              "\n",
              "  <div id=\"df-542b7490-f7f9-4e1f-90b4-7f990d331ac1\">\n",
              "    <div class=\"colab-df-container\">\n",
              "      <div>\n",
              "<style scoped>\n",
              "    .dataframe tbody tr th:only-of-type {\n",
              "        vertical-align: middle;\n",
              "    }\n",
              "\n",
              "    .dataframe tbody tr th {\n",
              "        vertical-align: top;\n",
              "    }\n",
              "\n",
              "    .dataframe thead th {\n",
              "        text-align: right;\n",
              "    }\n",
              "</style>\n",
              "<table border=\"1\" class=\"dataframe\">\n",
              "  <thead>\n",
              "    <tr style=\"text-align: right;\">\n",
              "      <th></th>\n",
              "      <th>alcohol</th>\n",
              "      <th>malic_acid</th>\n",
              "      <th>ash</th>\n",
              "      <th>alcalinity_of_ash</th>\n",
              "      <th>magnesium</th>\n",
              "      <th>total_phenols</th>\n",
              "      <th>flavanoids</th>\n",
              "      <th>nonflavanoid_phenols</th>\n",
              "      <th>proanthocyanins</th>\n",
              "      <th>color_intensity</th>\n",
              "      <th>hue</th>\n",
              "      <th>od280/od315_of_diluted_wines</th>\n",
              "      <th>proline</th>\n",
              "    </tr>\n",
              "  </thead>\n",
              "  <tbody>\n",
              "    <tr>\n",
              "      <th>count</th>\n",
              "      <td>178.000000</td>\n",
              "      <td>178.000000</td>\n",
              "      <td>178.000000</td>\n",
              "      <td>178.000000</td>\n",
              "      <td>178.000000</td>\n",
              "      <td>178.000000</td>\n",
              "      <td>178.000000</td>\n",
              "      <td>178.000000</td>\n",
              "      <td>178.000000</td>\n",
              "      <td>178.000000</td>\n",
              "      <td>178.000000</td>\n",
              "      <td>178.000000</td>\n",
              "      <td>178.000000</td>\n",
              "    </tr>\n",
              "    <tr>\n",
              "      <th>mean</th>\n",
              "      <td>0.876643</td>\n",
              "      <td>0.402819</td>\n",
              "      <td>0.732668</td>\n",
              "      <td>0.649831</td>\n",
              "      <td>0.615689</td>\n",
              "      <td>0.591524</td>\n",
              "      <td>0.399463</td>\n",
              "      <td>0.548264</td>\n",
              "      <td>0.444385</td>\n",
              "      <td>0.389084</td>\n",
              "      <td>0.559912</td>\n",
              "      <td>0.652921</td>\n",
              "      <td>0.444579</td>\n",
              "    </tr>\n",
              "    <tr>\n",
              "      <th>std</th>\n",
              "      <td>0.054742</td>\n",
              "      <td>0.192611</td>\n",
              "      <td>0.084936</td>\n",
              "      <td>0.111319</td>\n",
              "      <td>0.088163</td>\n",
              "      <td>0.161302</td>\n",
              "      <td>0.196626</td>\n",
              "      <td>0.188566</td>\n",
              "      <td>0.159877</td>\n",
              "      <td>0.178330</td>\n",
              "      <td>0.133668</td>\n",
              "      <td>0.177498</td>\n",
              "      <td>0.187445</td>\n",
              "    </tr>\n",
              "    <tr>\n",
              "      <th>min</th>\n",
              "      <td>0.743763</td>\n",
              "      <td>0.127586</td>\n",
              "      <td>0.421053</td>\n",
              "      <td>0.353333</td>\n",
              "      <td>0.432099</td>\n",
              "      <td>0.252577</td>\n",
              "      <td>0.066929</td>\n",
              "      <td>0.196970</td>\n",
              "      <td>0.114525</td>\n",
              "      <td>0.098462</td>\n",
              "      <td>0.280702</td>\n",
              "      <td>0.317500</td>\n",
              "      <td>0.165476</td>\n",
              "    </tr>\n",
              "    <tr>\n",
              "      <th>25%</th>\n",
              "      <td>0.833614</td>\n",
              "      <td>0.276293</td>\n",
              "      <td>0.684211</td>\n",
              "      <td>0.573333</td>\n",
              "      <td>0.543210</td>\n",
              "      <td>0.449098</td>\n",
              "      <td>0.237205</td>\n",
              "      <td>0.409091</td>\n",
              "      <td>0.349162</td>\n",
              "      <td>0.247692</td>\n",
              "      <td>0.457602</td>\n",
              "      <td>0.484375</td>\n",
              "      <td>0.297917</td>\n",
              "    </tr>\n",
              "    <tr>\n",
              "      <th>50%</th>\n",
              "      <td>0.879973</td>\n",
              "      <td>0.321552</td>\n",
              "      <td>0.730650</td>\n",
              "      <td>0.650000</td>\n",
              "      <td>0.604938</td>\n",
              "      <td>0.606959</td>\n",
              "      <td>0.420276</td>\n",
              "      <td>0.515152</td>\n",
              "      <td>0.434358</td>\n",
              "      <td>0.360769</td>\n",
              "      <td>0.564327</td>\n",
              "      <td>0.695000</td>\n",
              "      <td>0.400893</td>\n",
              "    </tr>\n",
              "    <tr>\n",
              "      <th>75%</th>\n",
              "      <td>0.922286</td>\n",
              "      <td>0.531466</td>\n",
              "      <td>0.791796</td>\n",
              "      <td>0.716667</td>\n",
              "      <td>0.660494</td>\n",
              "      <td>0.721649</td>\n",
              "      <td>0.565945</td>\n",
              "      <td>0.662879</td>\n",
              "      <td>0.544693</td>\n",
              "      <td>0.476923</td>\n",
              "      <td>0.654971</td>\n",
              "      <td>0.792500</td>\n",
              "      <td>0.586310</td>\n",
              "    </tr>\n",
              "    <tr>\n",
              "      <th>max</th>\n",
              "      <td>1.000000</td>\n",
              "      <td>1.000000</td>\n",
              "      <td>1.000000</td>\n",
              "      <td>1.000000</td>\n",
              "      <td>1.000000</td>\n",
              "      <td>1.000000</td>\n",
              "      <td>1.000000</td>\n",
              "      <td>1.000000</td>\n",
              "      <td>1.000000</td>\n",
              "      <td>1.000000</td>\n",
              "      <td>1.000000</td>\n",
              "      <td>1.000000</td>\n",
              "      <td>1.000000</td>\n",
              "    </tr>\n",
              "  </tbody>\n",
              "</table>\n",
              "</div>\n",
              "      <button class=\"colab-df-convert\" onclick=\"convertToInteractive('df-542b7490-f7f9-4e1f-90b4-7f990d331ac1')\"\n",
              "              title=\"Convert this dataframe to an interactive table.\"\n",
              "              style=\"display:none;\">\n",
              "        \n",
              "  <svg xmlns=\"http://www.w3.org/2000/svg\" height=\"24px\"viewBox=\"0 0 24 24\"\n",
              "       width=\"24px\">\n",
              "    <path d=\"M0 0h24v24H0V0z\" fill=\"none\"/>\n",
              "    <path d=\"M18.56 5.44l.94 2.06.94-2.06 2.06-.94-2.06-.94-.94-2.06-.94 2.06-2.06.94zm-11 1L8.5 8.5l.94-2.06 2.06-.94-2.06-.94L8.5 2.5l-.94 2.06-2.06.94zm10 10l.94 2.06.94-2.06 2.06-.94-2.06-.94-.94-2.06-.94 2.06-2.06.94z\"/><path d=\"M17.41 7.96l-1.37-1.37c-.4-.4-.92-.59-1.43-.59-.52 0-1.04.2-1.43.59L10.3 9.45l-7.72 7.72c-.78.78-.78 2.05 0 2.83L4 21.41c.39.39.9.59 1.41.59.51 0 1.02-.2 1.41-.59l7.78-7.78 2.81-2.81c.8-.78.8-2.07 0-2.86zM5.41 20L4 18.59l7.72-7.72 1.47 1.35L5.41 20z\"/>\n",
              "  </svg>\n",
              "      </button>\n",
              "      \n",
              "  <style>\n",
              "    .colab-df-container {\n",
              "      display:flex;\n",
              "      flex-wrap:wrap;\n",
              "      gap: 12px;\n",
              "    }\n",
              "\n",
              "    .colab-df-convert {\n",
              "      background-color: #E8F0FE;\n",
              "      border: none;\n",
              "      border-radius: 50%;\n",
              "      cursor: pointer;\n",
              "      display: none;\n",
              "      fill: #1967D2;\n",
              "      height: 32px;\n",
              "      padding: 0 0 0 0;\n",
              "      width: 32px;\n",
              "    }\n",
              "\n",
              "    .colab-df-convert:hover {\n",
              "      background-color: #E2EBFA;\n",
              "      box-shadow: 0px 1px 2px rgba(60, 64, 67, 0.3), 0px 1px 3px 1px rgba(60, 64, 67, 0.15);\n",
              "      fill: #174EA6;\n",
              "    }\n",
              "\n",
              "    [theme=dark] .colab-df-convert {\n",
              "      background-color: #3B4455;\n",
              "      fill: #D2E3FC;\n",
              "    }\n",
              "\n",
              "    [theme=dark] .colab-df-convert:hover {\n",
              "      background-color: #434B5C;\n",
              "      box-shadow: 0px 1px 3px 1px rgba(0, 0, 0, 0.15);\n",
              "      filter: drop-shadow(0px 1px 2px rgba(0, 0, 0, 0.3));\n",
              "      fill: #FFFFFF;\n",
              "    }\n",
              "  </style>\n",
              "\n",
              "      <script>\n",
              "        const buttonEl =\n",
              "          document.querySelector('#df-542b7490-f7f9-4e1f-90b4-7f990d331ac1 button.colab-df-convert');\n",
              "        buttonEl.style.display =\n",
              "          google.colab.kernel.accessAllowed ? 'block' : 'none';\n",
              "\n",
              "        async function convertToInteractive(key) {\n",
              "          const element = document.querySelector('#df-542b7490-f7f9-4e1f-90b4-7f990d331ac1');\n",
              "          const dataTable =\n",
              "            await google.colab.kernel.invokeFunction('convertToInteractive',\n",
              "                                                     [key], {});\n",
              "          if (!dataTable) return;\n",
              "\n",
              "          const docLinkHtml = 'Like what you see? Visit the ' +\n",
              "            '<a target=\"_blank\" href=https://colab.research.google.com/notebooks/data_table.ipynb>data table notebook</a>'\n",
              "            + ' to learn more about interactive tables.';\n",
              "          element.innerHTML = '';\n",
              "          dataTable['output_type'] = 'display_data';\n",
              "          await google.colab.output.renderOutput(dataTable, element);\n",
              "          const docLink = document.createElement('div');\n",
              "          docLink.innerHTML = docLinkHtml;\n",
              "          element.appendChild(docLink);\n",
              "        }\n",
              "      </script>\n",
              "    </div>\n",
              "  </div>\n",
              "  "
            ]
          },
          "metadata": {},
          "execution_count": 73
        }
      ]
    },
    {
      "cell_type": "code",
      "source": [
        "X.info()"
      ],
      "metadata": {
        "colab": {
          "base_uri": "https://localhost:8080/"
        },
        "id": "HILY6637qeUg",
        "outputId": "04336936-2a91-4a4e-c200-f074e6aaa5c6"
      },
      "execution_count": 74,
      "outputs": [
        {
          "output_type": "stream",
          "name": "stdout",
          "text": [
            "<class 'pandas.core.frame.DataFrame'>\n",
            "RangeIndex: 178 entries, 0 to 177\n",
            "Data columns (total 13 columns):\n",
            " #   Column                        Non-Null Count  Dtype  \n",
            "---  ------                        --------------  -----  \n",
            " 0   alcohol                       178 non-null    float64\n",
            " 1   malic_acid                    178 non-null    float64\n",
            " 2   ash                           178 non-null    float64\n",
            " 3   alcalinity_of_ash             178 non-null    float64\n",
            " 4   magnesium                     178 non-null    float64\n",
            " 5   total_phenols                 178 non-null    float64\n",
            " 6   flavanoids                    178 non-null    float64\n",
            " 7   nonflavanoid_phenols          178 non-null    float64\n",
            " 8   proanthocyanins               178 non-null    float64\n",
            " 9   color_intensity               178 non-null    float64\n",
            " 10  hue                           178 non-null    float64\n",
            " 11  od280/od315_of_diluted_wines  178 non-null    float64\n",
            " 12  proline                       178 non-null    float64\n",
            "dtypes: float64(13)\n",
            "memory usage: 18.2 KB\n"
          ]
        }
      ]
    },
    {
      "cell_type": "code",
      "source": [
        "X.isna().sum()"
      ],
      "metadata": {
        "colab": {
          "base_uri": "https://localhost:8080/"
        },
        "id": "y56IQYKThgS4",
        "outputId": "709887f4-8949-48ed-aeae-2a8d4e418bb7"
      },
      "execution_count": 75,
      "outputs": [
        {
          "output_type": "execute_result",
          "data": {
            "text/plain": [
              "alcohol                         0\n",
              "malic_acid                      0\n",
              "ash                             0\n",
              "alcalinity_of_ash               0\n",
              "magnesium                       0\n",
              "total_phenols                   0\n",
              "flavanoids                      0\n",
              "nonflavanoid_phenols            0\n",
              "proanthocyanins                 0\n",
              "color_intensity                 0\n",
              "hue                             0\n",
              "od280/od315_of_diluted_wines    0\n",
              "proline                         0\n",
              "dtype: int64"
            ]
          },
          "metadata": {},
          "execution_count": 75
        }
      ]
    },
    {
      "cell_type": "code",
      "source": [
        "X.shape,y.shape"
      ],
      "metadata": {
        "colab": {
          "base_uri": "https://localhost:8080/"
        },
        "id": "NhBrFmc0pn2M",
        "outputId": "14e0ca21-7e3c-47ff-afbb-57a2cfcc7494"
      },
      "execution_count": 76,
      "outputs": [
        {
          "output_type": "execute_result",
          "data": {
            "text/plain": [
              "((178, 13), (178,))"
            ]
          },
          "metadata": {},
          "execution_count": 76
        }
      ]
    },
    {
      "cell_type": "code",
      "source": [
        "#Spliting the data into test-train split\n",
        "#spliting 70% data in train and 30% in split\n",
        "X_train, X_test, y_train, y_test = train_test_split(X,y, test_size=0.3, random_state=2000000)"
      ],
      "metadata": {
        "id": "084Flk8QZ923"
      },
      "execution_count": 77,
      "outputs": []
    },
    {
      "cell_type": "code",
      "source": [
        "# I have used a one-versus-one classifier for this problem\n",
        "from sklearn.linear_model import LogisticRegression\n",
        "from sklearn.multiclass import OneVsOneClassifier\n",
        "# fitting the model on train data \n",
        "model = OneVsOneClassifier(LogisticRegression(random_state=0,  max_iter=1000)).fit(X_train, y_train)\n",
        "# pickling the model\n",
        "pickle.dump(model, open('q4_ovo_model.pkl', 'wb'))\n",
        "# predicting using our model on test data\n",
        "y_pred = model.predict(X_test)\n",
        "# printing accuracy of our ovo classifier\n",
        "print(\"Sklearn Model Accuracy:\", accuracy_score(y_test, y_pred))"
      ],
      "metadata": {
        "colab": {
          "base_uri": "https://localhost:8080/"
        },
        "id": "dqrDq-6pZ-rQ",
        "outputId": "02535ee3-4d6f-4bee-a7a0-01557d43fa32"
      },
      "execution_count": 78,
      "outputs": [
        {
          "output_type": "stream",
          "name": "stdout",
          "text": [
            "Sklearn Model Accuracy: 0.9074074074074074\n"
          ]
        }
      ]
    },
    {
      "cell_type": "code",
      "source": [
        "from sklearn.model_selection import cross_val_score,KFold,StratifiedKFold,ShuffleSplit,LeavePOut\n",
        "CV_dict = {}\n",
        "\n",
        "#Hold Out Cross-Validation\n",
        "cross_validation_1 = model.score(X, y)\n",
        "CV_dict[\"Hold Out Cross-Validation\"] = cross_validation_1\n",
        "print(\"Hold Out Cross-Validation Score:\", cross_validation_1)\n",
        "\n",
        "#4-fold cross-validation\n",
        "k_folds = KFold(n_splits=4, shuffle=True)\n",
        "cross_validation_2 = cross_val_score(model, X, y, cv = k_folds)\n",
        "CV_dict[\"4-fold cross-validation\"] = np.mean(cross_validation_2)\n",
        "print(\"4-fold cross-validation Score:\",np.mean(cross_validation_2))\n",
        "\n",
        "#Stratified 3-fold Cross-Validation\n",
        "stratified_k_folds = StratifiedKFold(n_splits=3, shuffle=True)\n",
        "cross_validation_3 = cross_val_score(model, X, y, cv = stratified_k_folds)\n",
        "CV_dict[\"Stratified 3-fold Cross-Validation\"] = np.mean(cross_validation_3)\n",
        "print(\"Stratified 3-fold Cross-Validation Score:\",np.mean(cross_validation_3))\n",
        "\n",
        "#Monte Carlo Cross-Validation\n",
        "monte_carlo_split = ShuffleSplit(n_splits=10)\n",
        "cross_validation_4 = cross_val_score(model, X, y, cv = monte_carlo_split)\n",
        "CV_dict[\"Monte Carlo Cross-Validation\"] = np.mean(cross_validation_4)\n",
        "print(\"Monte Carlo Cross-Validation Score:\",np.mean(cross_validation_4))\n",
        "\n",
        "#Leave P Out Cross-Validation\n",
        "leave_pout_split = LeavePOut(p=2)\n",
        "cross_validation_5 = cross_val_score(model, X, y, cv = leave_pout_split)\n",
        "CV_dict[\"Leave P Out Cross-Validation\"] = np.mean(cross_validation_5)\n",
        "print(\"Leave P Out Cross-Validation:\",np.mean(cross_validation_5))"
      ],
      "metadata": {
        "colab": {
          "base_uri": "https://localhost:8080/"
        },
        "id": "OEVfYCWObCUC",
        "outputId": "6e933dc7-c32c-4ff5-b71d-f18555bd4b97"
      },
      "execution_count": 79,
      "outputs": [
        {
          "output_type": "stream",
          "name": "stdout",
          "text": [
            "Hold Out Cross-Validation Score: 0.9550561797752809\n",
            "4-fold cross-validation Score: 0.9387626262626263\n",
            "Stratified 3-fold Cross-Validation Score: 0.9494350282485874\n",
            "Monte Carlo Cross-Validation Score: 0.9166666666666666\n",
            "Leave P Out Cross-Validation: 0.9438202247191011\n"
          ]
        }
      ]
    },
    {
      "cell_type": "code",
      "source": [
        "# printing the cross validation table\n",
        "print(\"Cross Validation Table\")\n",
        "for i in CV_dict:\n",
        "  print(i,\" : \",CV_dict[i])"
      ],
      "metadata": {
        "colab": {
          "base_uri": "https://localhost:8080/"
        },
        "id": "f3XPfXQSg9Q7",
        "outputId": "4b97ac59-eb90-4922-a9d1-ef4ad047b443"
      },
      "execution_count": 80,
      "outputs": [
        {
          "output_type": "stream",
          "name": "stdout",
          "text": [
            "Cross Validation Table\n",
            "Hold Out Cross-Validation  :  0.9550561797752809\n",
            "4-fold cross-validation  :  0.9387626262626263\n",
            "Stratified 3-fold Cross-Validation  :  0.9494350282485874\n",
            "Monte Carlo Cross-Validation  :  0.9166666666666666\n",
            "Leave P Out Cross-Validation  :  0.9438202247191011\n"
          ]
        }
      ]
    },
    {
      "cell_type": "markdown",
      "source": [
        "Stratified K-fold is best suited for dataset as data is approximately equally distributed. Stratified K - fold is an extension of k-fold which keeps the proportion of sample equal in each fold. For k=3 in our case each subset will serve as the test set once.\n",
        "\n",
        "Hold out cross validation is less efficient as compared to k-fold.\n",
        "\n",
        "$-fold cross validation will not be able to capture model's gneralized performance as will as stratified k fold.\n",
        "\n",
        "Monte-Carlo is effective when dataset is small and imbalanced.\n",
        "\n",
        "Leave-p-out is computationally expensive and might not be as effective as stratified k fold."
      ],
      "metadata": {
        "id": "ruE81firpz-W"
      }
    },
    {
      "cell_type": "markdown",
      "source": [
        "Refrences:\n",
        "\n",
        "http://yann.lecun.com/exdb/mnist/\n",
        "\n",
        "https://machinelearningmastery.com/one-vs-rest-and-one-vs-one-for-multi-class-classification/#:~:text=One%2Dvs%2DOne%20(OvO%20for%20short)%20is%20another,dataset%20into%20binary%20classification%20problems.\n",
        "\n",
        "https://machinelearningknowledge.ai/cross-validation-in-sklearn-hold-out-approach-k-fold-cross-validation-loocv/#1_Hold_Out_Approach\n",
        "\n",
        "https://scikit-learn.org/stable/modules/generated/sklearn.neural_network.MLPClassifier.html"
      ],
      "metadata": {
        "id": "49YiDdbuSe0c"
      }
    }
  ],
  "metadata": {
    "colab": {
      "provenance": []
    },
    "kernelspec": {
      "display_name": "Python 3",
      "name": "python3"
    },
    "language_info": {
      "name": "python"
    },
    "gpuClass": "standard",
    "accelerator": "GPU"
  },
  "nbformat": 4,
  "nbformat_minor": 0
}