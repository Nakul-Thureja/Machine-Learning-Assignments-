{
  "nbformat": 4,
  "nbformat_minor": 0,
  "metadata": {
    "colab": {
      "provenance": [],
      "collapsed_sections": [
        "FFlONva8A156",
        "wcwxj-ZIHAVw",
        "Ym0HH0hbIMbk",
        "KbqfVchKnYog",
        "kY2ypI2DSa1q",
        "aIL7gOhvTRfV"
      ]
    },
    "kernelspec": {
      "name": "python3",
      "display_name": "Python 3"
    },
    "language_info": {
      "name": "python"
    }
  },
  "cells": [
    {
      "cell_type": "markdown",
      "metadata": {
        "id": "qwklK-baAq0N"
      },
      "source": [
        "# Machine Learning Assignment 4"
      ]
    },
    {
      "cell_type": "markdown",
      "metadata": {
        "id": "D-yXcakuA0n3"
      },
      "source": [
        "Nakul Thureja | 2020528\n"
      ]
    },
    {
      "cell_type": "markdown",
      "metadata": {
        "id": "FFlONva8A156"
      },
      "source": [
        "# Imports"
      ]
    },
    {
      "cell_type": "code",
      "source": [
        "!pip install umap-learn\n",
        "!pip install umap-learn[plot]"
      ],
      "metadata": {
        "colab": {
          "base_uri": "https://localhost:8080/"
        },
        "id": "6PYiH5FeRDFA",
        "outputId": "071370f9-6aaa-45cb-ade3-cff7c75f0053"
      },
      "execution_count": null,
      "outputs": [
        {
          "output_type": "stream",
          "name": "stdout",
          "text": [
            "Looking in indexes: https://pypi.org/simple, https://us-python.pkg.dev/colab-wheels/public/simple/\n",
            "Collecting umap-learn\n",
            "  Downloading umap-learn-0.5.3.tar.gz (88 kB)\n",
            "\u001b[2K     \u001b[90m━━━━━━━━━━━━━━━━━━━━━━━━━━━━━━━━━━━━━━━━\u001b[0m \u001b[32m88.2/88.2 KB\u001b[0m \u001b[31m3.4 MB/s\u001b[0m eta \u001b[36m0:00:00\u001b[0m\n",
            "\u001b[?25h  Preparing metadata (setup.py) ... \u001b[?25l\u001b[?25hdone\n",
            "Requirement already satisfied: numpy>=1.17 in /usr/local/lib/python3.9/dist-packages (from umap-learn) (1.22.4)\n",
            "Requirement already satisfied: scikit-learn>=0.22 in /usr/local/lib/python3.9/dist-packages (from umap-learn) (1.2.2)\n",
            "Requirement already satisfied: scipy>=1.0 in /usr/local/lib/python3.9/dist-packages (from umap-learn) (1.10.1)\n",
            "Requirement already satisfied: numba>=0.49 in /usr/local/lib/python3.9/dist-packages (from umap-learn) (0.56.4)\n",
            "Collecting pynndescent>=0.5\n",
            "  Downloading pynndescent-0.5.8.tar.gz (1.1 MB)\n",
            "\u001b[2K     \u001b[90m━━━━━━━━━━━━━━━━━━━━━━━━━━━━━━━━━━━━━━━━\u001b[0m \u001b[32m1.1/1.1 MB\u001b[0m \u001b[31m19.9 MB/s\u001b[0m eta \u001b[36m0:00:00\u001b[0m\n",
            "\u001b[?25h  Preparing metadata (setup.py) ... \u001b[?25l\u001b[?25hdone\n",
            "Requirement already satisfied: tqdm in /usr/local/lib/python3.9/dist-packages (from umap-learn) (4.65.0)\n",
            "Requirement already satisfied: setuptools in /usr/local/lib/python3.9/dist-packages (from numba>=0.49->umap-learn) (67.6.1)\n",
            "Requirement already satisfied: llvmlite<0.40,>=0.39.0dev0 in /usr/local/lib/python3.9/dist-packages (from numba>=0.49->umap-learn) (0.39.1)\n",
            "Requirement already satisfied: joblib>=0.11 in /usr/local/lib/python3.9/dist-packages (from pynndescent>=0.5->umap-learn) (1.1.1)\n",
            "Requirement already satisfied: threadpoolctl>=2.0.0 in /usr/local/lib/python3.9/dist-packages (from scikit-learn>=0.22->umap-learn) (3.1.0)\n",
            "Building wheels for collected packages: umap-learn, pynndescent\n",
            "  Building wheel for umap-learn (setup.py) ... \u001b[?25l\u001b[?25hdone\n",
            "  Created wheel for umap-learn: filename=umap_learn-0.5.3-py3-none-any.whl size=82830 sha256=4f270b8ec633f4952b0307e473f7bf1181a954d136a882b9b1d3f5b211be6dc6\n",
            "  Stored in directory: /root/.cache/pip/wheels/f4/3e/1c/596d0a463d17475af648688443fa4846fef624d1390339e7e9\n",
            "  Building wheel for pynndescent (setup.py) ... \u001b[?25l\u001b[?25hdone\n",
            "  Created wheel for pynndescent: filename=pynndescent-0.5.8-py3-none-any.whl size=55509 sha256=e5a275e7f0cd2c4c0c376aa9f60ee93fb09d608eff25b8fe61cc9a058cc472bb\n",
            "  Stored in directory: /root/.cache/pip/wheels/b9/89/cc/59ab91ef5b21dc2ab3635528d7d227f49dfc9169905dcb959d\n",
            "Successfully built umap-learn pynndescent\n",
            "Installing collected packages: pynndescent, umap-learn\n",
            "Successfully installed pynndescent-0.5.8 umap-learn-0.5.3\n",
            "Looking in indexes: https://pypi.org/simple, https://us-python.pkg.dev/colab-wheels/public/simple/\n",
            "Requirement already satisfied: umap-learn[plot] in /usr/local/lib/python3.9/dist-packages (0.5.3)\n",
            "Requirement already satisfied: scipy>=1.0 in /usr/local/lib/python3.9/dist-packages (from umap-learn[plot]) (1.10.1)\n",
            "Requirement already satisfied: scikit-learn>=0.22 in /usr/local/lib/python3.9/dist-packages (from umap-learn[plot]) (1.2.2)\n",
            "Requirement already satisfied: numba>=0.49 in /usr/local/lib/python3.9/dist-packages (from umap-learn[plot]) (0.56.4)\n",
            "Requirement already satisfied: tqdm in /usr/local/lib/python3.9/dist-packages (from umap-learn[plot]) (4.65.0)\n",
            "Requirement already satisfied: numpy>=1.17 in /usr/local/lib/python3.9/dist-packages (from umap-learn[plot]) (1.22.4)\n",
            "Requirement already satisfied: pynndescent>=0.5 in /usr/local/lib/python3.9/dist-packages (from umap-learn[plot]) (0.5.8)\n",
            "Requirement already satisfied: scikit-image in /usr/local/lib/python3.9/dist-packages (from umap-learn[plot]) (0.19.3)\n",
            "Requirement already satisfied: bokeh in /usr/local/lib/python3.9/dist-packages (from umap-learn[plot]) (2.4.3)\n",
            "Requirement already satisfied: matplotlib in /usr/local/lib/python3.9/dist-packages (from umap-learn[plot]) (3.7.1)\n",
            "Requirement already satisfied: seaborn in /usr/local/lib/python3.9/dist-packages (from umap-learn[plot]) (0.12.2)\n",
            "Requirement already satisfied: colorcet in /usr/local/lib/python3.9/dist-packages (from umap-learn[plot]) (3.0.1)\n",
            "Requirement already satisfied: pandas in /usr/local/lib/python3.9/dist-packages (from umap-learn[plot]) (1.4.4)\n",
            "Requirement already satisfied: holoviews in /usr/local/lib/python3.9/dist-packages (from umap-learn[plot]) (1.15.4)\n",
            "Collecting datashader\n",
            "  Downloading datashader-0.14.4-py2.py3-none-any.whl (18.2 MB)\n",
            "\u001b[2K     \u001b[90m━━━━━━━━━━━━━━━━━━━━━━━━━━━━━━━━━━━━━━━━\u001b[0m \u001b[32m18.2/18.2 MB\u001b[0m \u001b[31m53.1 MB/s\u001b[0m eta \u001b[36m0:00:00\u001b[0m\n",
            "\u001b[?25hRequirement already satisfied: setuptools in /usr/local/lib/python3.9/dist-packages (from numba>=0.49->umap-learn[plot]) (67.6.1)\n",
            "Requirement already satisfied: llvmlite<0.40,>=0.39.0dev0 in /usr/local/lib/python3.9/dist-packages (from numba>=0.49->umap-learn[plot]) (0.39.1)\n",
            "Requirement already satisfied: joblib>=0.11 in /usr/local/lib/python3.9/dist-packages (from pynndescent>=0.5->umap-learn[plot]) (1.1.1)\n",
            "Requirement already satisfied: threadpoolctl>=2.0.0 in /usr/local/lib/python3.9/dist-packages (from scikit-learn>=0.22->umap-learn[plot]) (3.1.0)\n",
            "Requirement already satisfied: Jinja2>=2.9 in /usr/local/lib/python3.9/dist-packages (from bokeh->umap-learn[plot]) (3.1.2)\n",
            "Requirement already satisfied: pillow>=7.1.0 in /usr/local/lib/python3.9/dist-packages (from bokeh->umap-learn[plot]) (8.4.0)\n",
            "Requirement already satisfied: PyYAML>=3.10 in /usr/local/lib/python3.9/dist-packages (from bokeh->umap-learn[plot]) (6.0)\n",
            "Requirement already satisfied: tornado>=5.1 in /usr/local/lib/python3.9/dist-packages (from bokeh->umap-learn[plot]) (6.2)\n",
            "Requirement already satisfied: typing-extensions>=3.10.0 in /usr/local/lib/python3.9/dist-packages (from bokeh->umap-learn[plot]) (4.5.0)\n",
            "Requirement already satisfied: packaging>=16.8 in /usr/local/lib/python3.9/dist-packages (from bokeh->umap-learn[plot]) (23.0)\n",
            "Requirement already satisfied: pyct>=0.4.4 in /usr/local/lib/python3.9/dist-packages (from colorcet->umap-learn[plot]) (0.5.0)\n",
            "Requirement already satisfied: xarray in /usr/local/lib/python3.9/dist-packages (from datashader->umap-learn[plot]) (2022.12.0)\n",
            "Requirement already satisfied: dask in /usr/local/lib/python3.9/dist-packages (from datashader->umap-learn[plot]) (2022.12.1)\n",
            "Requirement already satisfied: param in /usr/local/lib/python3.9/dist-packages (from datashader->umap-learn[plot]) (1.13.0)\n",
            "Collecting datashape\n",
            "  Downloading datashape-0.5.2.tar.gz (76 kB)\n",
            "\u001b[2K     \u001b[90m━━━━━━━━━━━━━━━━━━━━━━━━━━━━━━━━━━━━━━━━\u001b[0m \u001b[32m76.5/76.5 KB\u001b[0m \u001b[31m7.6 MB/s\u001b[0m eta \u001b[36m0:00:00\u001b[0m\n",
            "\u001b[?25h  Preparing metadata (setup.py) ... \u001b[?25l\u001b[?25hdone\n",
            "Requirement already satisfied: requests in /usr/local/lib/python3.9/dist-packages (from datashader->umap-learn[plot]) (2.27.1)\n",
            "Requirement already satisfied: toolz in /usr/local/lib/python3.9/dist-packages (from datashader->umap-learn[plot]) (0.12.0)\n",
            "Requirement already satisfied: panel>=0.13.1 in /usr/local/lib/python3.9/dist-packages (from holoviews->umap-learn[plot]) (0.14.4)\n",
            "Requirement already satisfied: pyviz-comms>=0.7.4 in /usr/local/lib/python3.9/dist-packages (from holoviews->umap-learn[plot]) (2.2.1)\n",
            "Requirement already satisfied: python-dateutil>=2.8.1 in /usr/local/lib/python3.9/dist-packages (from pandas->umap-learn[plot]) (2.8.2)\n",
            "Requirement already satisfied: pytz>=2020.1 in /usr/local/lib/python3.9/dist-packages (from pandas->umap-learn[plot]) (2022.7.1)\n",
            "Requirement already satisfied: fonttools>=4.22.0 in /usr/local/lib/python3.9/dist-packages (from matplotlib->umap-learn[plot]) (4.39.3)\n",
            "Requirement already satisfied: cycler>=0.10 in /usr/local/lib/python3.9/dist-packages (from matplotlib->umap-learn[plot]) (0.11.0)\n",
            "Requirement already satisfied: contourpy>=1.0.1 in /usr/local/lib/python3.9/dist-packages (from matplotlib->umap-learn[plot]) (1.0.7)\n",
            "Requirement already satisfied: kiwisolver>=1.0.1 in /usr/local/lib/python3.9/dist-packages (from matplotlib->umap-learn[plot]) (1.4.4)\n",
            "Requirement already satisfied: pyparsing>=2.3.1 in /usr/local/lib/python3.9/dist-packages (from matplotlib->umap-learn[plot]) (3.0.9)\n",
            "Requirement already satisfied: importlib-resources>=3.2.0 in /usr/local/lib/python3.9/dist-packages (from matplotlib->umap-learn[plot]) (5.12.0)\n",
            "Requirement already satisfied: tifffile>=2019.7.26 in /usr/local/lib/python3.9/dist-packages (from scikit-image->umap-learn[plot]) (2023.3.21)\n",
            "Requirement already satisfied: PyWavelets>=1.1.1 in /usr/local/lib/python3.9/dist-packages (from scikit-image->umap-learn[plot]) (1.4.1)\n",
            "Requirement already satisfied: networkx>=2.2 in /usr/local/lib/python3.9/dist-packages (from scikit-image->umap-learn[plot]) (3.0)\n",
            "Requirement already satisfied: imageio>=2.4.1 in /usr/local/lib/python3.9/dist-packages (from scikit-image->umap-learn[plot]) (2.25.1)\n",
            "Requirement already satisfied: zipp>=3.1.0 in /usr/local/lib/python3.9/dist-packages (from importlib-resources>=3.2.0->matplotlib->umap-learn[plot]) (3.15.0)\n",
            "Requirement already satisfied: MarkupSafe>=2.0 in /usr/local/lib/python3.9/dist-packages (from Jinja2>=2.9->bokeh->umap-learn[plot]) (2.1.2)\n",
            "Requirement already satisfied: markdown in /usr/local/lib/python3.9/dist-packages (from panel>=0.13.1->holoviews->umap-learn[plot]) (3.4.3)\n",
            "Requirement already satisfied: bleach in /usr/local/lib/python3.9/dist-packages (from panel>=0.13.1->holoviews->umap-learn[plot]) (6.0.0)\n",
            "Requirement already satisfied: six>=1.5 in /usr/local/lib/python3.9/dist-packages (from python-dateutil>=2.8.1->pandas->umap-learn[plot]) (1.16.0)\n",
            "Requirement already satisfied: cloudpickle>=1.1.1 in /usr/local/lib/python3.9/dist-packages (from dask->datashader->umap-learn[plot]) (2.2.1)\n",
            "Requirement already satisfied: partd>=0.3.10 in /usr/local/lib/python3.9/dist-packages (from dask->datashader->umap-learn[plot]) (1.3.0)\n",
            "Requirement already satisfied: fsspec>=0.6.0 in /usr/local/lib/python3.9/dist-packages (from dask->datashader->umap-learn[plot]) (2023.3.0)\n",
            "Requirement already satisfied: click>=7.0 in /usr/local/lib/python3.9/dist-packages (from dask->datashader->umap-learn[plot]) (8.1.3)\n",
            "Requirement already satisfied: multipledispatch>=0.4.7 in /usr/local/lib/python3.9/dist-packages (from datashape->datashader->umap-learn[plot]) (0.6.0)\n",
            "Requirement already satisfied: idna<4,>=2.5 in /usr/local/lib/python3.9/dist-packages (from requests->datashader->umap-learn[plot]) (3.4)\n",
            "Requirement already satisfied: certifi>=2017.4.17 in /usr/local/lib/python3.9/dist-packages (from requests->datashader->umap-learn[plot]) (2022.12.7)\n",
            "Requirement already satisfied: urllib3<1.27,>=1.21.1 in /usr/local/lib/python3.9/dist-packages (from requests->datashader->umap-learn[plot]) (1.26.15)\n",
            "Requirement already satisfied: charset-normalizer~=2.0.0 in /usr/local/lib/python3.9/dist-packages (from requests->datashader->umap-learn[plot]) (2.0.12)\n",
            "Requirement already satisfied: locket in /usr/local/lib/python3.9/dist-packages (from partd>=0.3.10->dask->datashader->umap-learn[plot]) (1.0.0)\n",
            "Requirement already satisfied: webencodings in /usr/local/lib/python3.9/dist-packages (from bleach->panel>=0.13.1->holoviews->umap-learn[plot]) (0.5.1)\n",
            "Requirement already satisfied: importlib-metadata>=4.4 in /usr/local/lib/python3.9/dist-packages (from markdown->panel>=0.13.1->holoviews->umap-learn[plot]) (6.1.0)\n",
            "Building wheels for collected packages: datashape\n",
            "  Building wheel for datashape (setup.py) ... \u001b[?25l\u001b[?25hdone\n",
            "  Created wheel for datashape: filename=datashape-0.5.2-py3-none-any.whl size=59436 sha256=b86adcf674cbec544fe19d02aeeb4dd87c331c81b93bf312ffa145b3540e0b78\n",
            "  Stored in directory: /root/.cache/pip/wheels/42/ef/d7/781cf80d4146d76b3d2ed2510113d78c2643c842cc6c22918d\n",
            "Successfully built datashape\n",
            "Installing collected packages: datashape, datashader\n",
            "Successfully installed datashader-0.14.4 datashape-0.5.2\n"
          ]
        }
      ]
    },
    {
      "cell_type": "code",
      "execution_count": null,
      "metadata": {
        "id": "R63dWdXTl4f1"
      },
      "outputs": [],
      "source": [
        "#Importing Libraries for the assignment\n",
        "import matplotlib.pyplot as plt\n",
        "import math\n",
        "import random\n",
        "import requests\n",
        "import pandas as pd\n",
        "import numpy as np\n",
        "import pickle\n",
        "import io\n",
        "import seaborn as sn\n",
        "from sklearn import datasets\n",
        "from keras.datasets import fashion_mnist\n",
        "from sklearn.metrics import mean_squared_error,accuracy_score,classification_report, confusion_matrix, log_loss\n",
        "from sklearn.model_selection import train_test_split\n",
        "from sklearn.metrics import r2_score,f1_score\n",
        "from sklearn.preprocessing import LabelEncoder, StandardScaler\n",
        "import warnings\n",
        "from sklearn.svm import SVC\n",
        "from sklearn.preprocessing import StandardScaler\n",
        "from google.colab import drive\n",
        "import gzip\n",
        "import matplotlib.pyplot as plt\n",
        "import random\n",
        "import seaborn as sns\n",
        "from sklearn.model_selection import train_test_split\n",
        "warnings.filterwarnings('ignore')\n",
        "import os\n",
        "import keras\n",
        "from keras.utils import to_categorical\n",
        "from keras.layers import Conv2D, MaxPooling2D, UpSampling2D, BatchNormalization, Flatten, Dense, Input, GlobalAveragePooling2D\n",
        "from keras.models import Model, Sequential, load_model\n",
        "from keras.callbacks import TensorBoard\n",
        "from sklearn.metrics import mean_squared_error, accuracy_score\n",
        "from sklearn import svm\n",
        "from sklearn.model_selection import cross_val_score, KFold, StratifiedKFold\n",
        "from sklearn import preprocessing\n",
        "from keras.datasets import fashion_mnist\n",
        "from keras.utils import img_to_array, array_to_img\n",
        "import tensorflow as tf\n",
        "from sklearn.preprocessing import OneHotEncoder\n",
        "import umap.plot as plotter\n",
        "import umap.umap_ as umap"
      ]
    },
    {
      "cell_type": "code",
      "execution_count": null,
      "metadata": {
        "colab": {
          "base_uri": "https://localhost:8080/"
        },
        "id": "7grylO9dn_97",
        "outputId": "97e4862c-7bcc-4790-a438-1d889384d99c"
      },
      "outputs": [
        {
          "output_type": "stream",
          "name": "stdout",
          "text": [
            "Drive already mounted at /content/drive; to attempt to forcibly remount, call drive.mount(\"/content/drive\", force_remount=True).\n"
          ]
        }
      ],
      "source": [
        "from google.colab import drive\n",
        "drive.mount('/content/drive')"
      ]
    },
    {
      "cell_type": "code",
      "execution_count": null,
      "metadata": {
        "id": "eOPJVgdys9Nl"
      },
      "outputs": [],
      "source": [
        "def pickle_data(file,model):\n",
        "  pickle.dump(model, open(file, 'wb'))\n"
      ]
    },
    {
      "cell_type": "code",
      "execution_count": null,
      "metadata": {
        "id": "u0cw9btzYtCI"
      },
      "outputs": [],
      "source": [
        "def unpickle_data(file):\n",
        "    with open(file, 'rb') as f:\n",
        "        data = pickle.load(f, encoding='latin1')\n",
        "    return data"
      ]
    },
    {
      "cell_type": "markdown",
      "metadata": {
        "id": "wcwxj-ZIHAVw"
      },
      "source": [
        "# Question 1"
      ]
    },
    {
      "cell_type": "code",
      "execution_count": 366,
      "metadata": {
        "id": "Ba9m_6mdWvSE"
      },
      "outputs": [],
      "source": [
        "X_train = pd.read_csv(\"/content/drive/My Drive/UCI HAR Dataset/X_train.txt\", sep='\\s+', index_col=False,header=None)\n",
        "y_train = pd.read_csv(\"/content/drive/My Drive/UCI HAR Dataset/y_train.txt\", header=None)\n",
        "X_test = pd.read_csv(\"/content/drive/My Drive/UCI HAR Dataset/X_test.txt\", sep='\\s+', index_col=False,header=None)\n",
        "y_test = pd.read_csv(\"/content/drive/My Drive/UCI HAR Dataset/y_test.txt\", header=None)"
      ]
    },
    {
      "cell_type": "code",
      "source": [
        "X_train.shape,X_test.shape,"
      ],
      "metadata": {
        "id": "PXqjvh40QeLx",
        "colab": {
          "base_uri": "https://localhost:8080/"
        },
        "outputId": "c5f5b708-5555-404e-cab4-d2563cd03bb4"
      },
      "execution_count": 367,
      "outputs": [
        {
          "output_type": "execute_result",
          "data": {
            "text/plain": [
              "((7352, 561), (2947, 561))"
            ]
          },
          "metadata": {},
          "execution_count": 367
        }
      ]
    },
    {
      "cell_type": "code",
      "source": [
        "y_train.shape,y_test.shape,"
      ],
      "metadata": {
        "colab": {
          "base_uri": "https://localhost:8080/"
        },
        "id": "Sq0GDUS-QMo0",
        "outputId": "81d76a37-1055-4ed0-ca8a-ad247ccb2bff"
      },
      "execution_count": 368,
      "outputs": [
        {
          "output_type": "execute_result",
          "data": {
            "text/plain": [
              "((7352, 1), (2947, 1))"
            ]
          },
          "metadata": {},
          "execution_count": 368
        }
      ]
    },
    {
      "cell_type": "code",
      "source": [
        "X = pd.concat([X_train,X_test])\n",
        "y = np.concatenate([y_train,y_test])"
      ],
      "metadata": {
        "id": "GQl0YevIQYjb"
      },
      "execution_count": 369,
      "outputs": []
    },
    {
      "cell_type": "code",
      "source": [
        "# Apply UMAP\n",
        "reducer = umap.UMAP() # Create a UMAP instance\n",
        "X_reduced = reducer.fit_transform(X) # Fit and transform the features\n",
        "\n",
        "# Plot the reduced features\n",
        "plt.figure(figsize=(10, 10)) # Create a figure\n",
        "plt.scatter(X_reduced[:, 0], X_reduced[:, 1], c=y, cmap=\"Spectral\", s=10) # Plot the points with colors according to labels\n",
        "plt.title(\"UMAP plot of Human Activity Recognition Using Smartphones Dataset\")\n",
        "plt.legend(loc=\"best\") \n",
        "plt.show() "
      ],
      "metadata": {
        "colab": {
          "base_uri": "https://localhost:8080/",
          "height": 890
        },
        "id": "wMRNUedlRPbu",
        "outputId": "a010a9c1-5487-4c8a-fc2a-72ccb471591e"
      },
      "execution_count": 371,
      "outputs": [
        {
          "output_type": "stream",
          "name": "stderr",
          "text": [
            "WARNING:matplotlib.legend:No artists with labels found to put in legend.  Note that artists whose label start with an underscore are ignored when legend() is called with no argument.\n"
          ]
        },
        {
          "output_type": "display_data",
          "data": {
            "text/plain": [
              "<Figure size 1000x1000 with 1 Axes>"
            ],
            "image/png": "[encoded data removed]"
          },
          "metadata": {}
        }
      ]
    },
    {
      "cell_type": "code",
      "source": [
        "from sklearn.cluster import KMeans, SpectralClustering\n",
        "from scipy.spatial.distance import cdist"
      ],
      "metadata": {
        "id": "av5MuIdUTQUB"
      },
      "execution_count": null,
      "outputs": []
    },
    {
      "cell_type": "code",
      "source": [
        "# Define the number of clusters to test from 2 to 10\n",
        "ks = range(2, 11)\n",
        "\n",
        "# Create an empty list to store the sum of squared distances for each k\n",
        "kmeans_ssds = []\n",
        "spectral_ssds = []\n",
        "# Loop over the number of clusters\n",
        "for k in ks:\n",
        "    # Create new instances of K-Means and spectral clustering with k clusters\n",
        "    kmeans = KMeans(n_clusters=k, random_state=0)\n",
        "    spectral = SpectralClustering(n_clusters=k,affinity = 'nearest_neighbors',random_state=0)\n",
        "\n",
        "    # Fit the model to the UMAP reduced features\n",
        "    kmeans_labels = kmeans.fit(X_reduced)\n",
        "    spectral_labels = spectral.fit_predict(X_reduced)\n",
        "\n",
        "    # Compute the sum of squared distances between each point and its assigned cluster centroid\n",
        "    kmeans_ssd = sum(np.min(cdist(X_reduced, kmeans.cluster_centers_, \"euclidean\"), axis=1))\n",
        "    \n",
        "    # Compute the cluster centroids as the mean of the points in each cluster\n",
        "    cluster_centers = np.array([X_reduced[spectral_labels == i].mean(axis=0) for i in range(k)])\n",
        "    # Compute the sum of squared distances between each point and its assigned cluster centroid\n",
        "    spectral_ssd = sum(np.min(cdist(X_reduced, cluster_centers, \"euclidean\"), axis=1))\n",
        "\n",
        "    # Append the ssd to the list\n",
        "    kmeans_ssds.append(kmeans_ssd)\n",
        "    spectral_ssds.append(spectral_ssd)"
      ],
      "metadata": {
        "id": "bHcY8qzyVou2"
      },
      "execution_count": null,
      "outputs": []
    },
    {
      "cell_type": "code",
      "source": [
        "# Plot the elbow curve using the ssds\n",
        "plt.figure(figsize=(8, 6)) # Create a figure\n",
        "plt.plot(ks, kmeans_ssds, marker=\"o\") # Plot the ssds for each k\n",
        "plt.xlabel(\"Number of clusters\") # Add an x-axis label\n",
        "plt.ylabel(\"Sum of squared distances\") # Add a y-axis label\n",
        "plt.title(\"Elbow curve for K-Means using euclidean distance\") # Add a title\n",
        "plt.show() # Show the plot"
      ],
      "metadata": {
        "colab": {
          "base_uri": "https://localhost:8080/",
          "height": 564
        },
        "id": "vgPzOOVcVox_",
        "outputId": "5632b45d-6064-425f-c69f-cb120be029f2"
      },
      "execution_count": null,
      "outputs": [
        {
          "output_type": "display_data",
          "data": {
            "text/plain": [
              "<Figure size 800x600 with 1 Axes>"
            ],
            "image/png": "[encoded data removed]"
          },
          "metadata": {}
        }
      ]
    },
    {
      "cell_type": "markdown",
      "source": [
        "Elbow at n_clusters = 6"
      ],
      "metadata": {
        "id": "JIgWwWUfkAHq"
      }
    },
    {
      "cell_type": "code",
      "source": [
        "# Plot the elbow curve using the ssds\n",
        "plt.figure(figsize=(8, 6)) # Create a figure\n",
        "plt.plot(ks, spectral_ssds, marker=\"o\") # Plot the ssds for each k\n",
        "plt.xlabel(\"Number of clusters\") # Add an x-axis label\n",
        "plt.ylabel(\"Sum of squared distances\") # Add a y-axis label\n",
        "plt.title(\"Elbow curve for spectral clustering using euclidean distance\") # Add a title\n",
        "plt.show() # Show the plot"
      ],
      "metadata": {
        "colab": {
          "base_uri": "https://localhost:8080/",
          "height": 564
        },
        "id": "bE89WFzJcEBB",
        "outputId": "89cc327c-693d-4616-d57e-a318b12bc324"
      },
      "execution_count": null,
      "outputs": [
        {
          "output_type": "display_data",
          "data": {
            "text/plain": [
              "<Figure size 800x600 with 1 Axes>"
            ],
            "image/png": "[encoded data removed]"
          },
          "metadata": {}
        }
      ]
    },
    {
      "cell_type": "markdown",
      "source": [
        "Elbow at n_clusters = 7"
      ],
      "metadata": {
        "id": "zg2WZYjFkGXP"
      }
    },
    {
      "cell_type": "code",
      "source": [
        "from sklearn.metrics import silhouette_score,adjusted_rand_score,calinski_harabasz_score,normalized_mutual_info_score,davies_bouldin_score"
      ],
      "metadata": {
        "id": "LwlioetoCqXz"
      },
      "execution_count": null,
      "outputs": []
    },
    {
      "cell_type": "code",
      "source": [
        "y_test = np.array(y_test)\n",
        "y_test = y_test.reshape((y_test.shape[0],))\n",
        "X_reduced_test = reducer.fit_transform(X_test) # Fit and transform the features"
      ],
      "metadata": {
        "id": "VRnwrCHdHdYF"
      },
      "execution_count": null,
      "outputs": []
    },
    {
      "cell_type": "code",
      "source": [
        "# evaluation metrics for k-means\n",
        "kmeans = KMeans(n_clusters=6, random_state=0)\n",
        "kmeans.fit(X_reduced)\n",
        "y_pred = kmeans.predict(X_reduced_test)\n",
        "print(\"Silhouette Score: \",silhouette_score(X_reduced_test, y_pred))\n",
        "print(\"Adjusted Rand Score Individual: \",adjusted_rand_score(y_test, y_pred))\n",
        "print(\"Calinski Harabasz Score Individual: \",calinski_harabasz_score(X_reduced_test, y_pred))\n",
        "print(\"Normalized Mutual Info Score Individual: \", normalized_mutual_info_score(y_test, y_pred))\n",
        "print(\"Davies Bouldin Score Individual: \",davies_bouldin_score(X_reduced_test, y_pred))"
      ],
      "metadata": {
        "colab": {
          "base_uri": "https://localhost:8080/"
        },
        "id": "aQI2CHaNDedM",
        "outputId": "0120491d-f9d1-4bf9-e390-66d68c60ed9f"
      },
      "execution_count": null,
      "outputs": [
        {
          "output_type": "stream",
          "name": "stdout",
          "text": [
            "Silhouette Score:  0.59733653\n",
            "Adjusted Rand Score Individual:  0.4747215848070441\n",
            "Calinski Harabasz Score Individual:  6678.361163474\n",
            "Normalized Mutual Info Score Individual:  0.6392762823369204\n",
            "Davies Bouldin Score Individual:  0.6283640826643564\n"
          ]
        }
      ]
    },
    {
      "cell_type": "code",
      "source": [
        "pickle_data(\"Q1_kmeans.pkl\",kmeans)"
      ],
      "metadata": {
        "id": "lgdMrRTUqoBD"
      },
      "execution_count": 364,
      "outputs": []
    },
    {
      "cell_type": "code",
      "source": [
        "# evaluation metrics for spectral clustering\n",
        "spectral = SpectralClustering(n_clusters=7,affinity = 'nearest_neighbors',random_state=0)\n",
        "spectral.fit(X_reduced)\n",
        "y_pred = spectral.fit_predict(X_reduced_test)\n",
        "print(\"Silhouette Score: \",silhouette_score(X_reduced_test, y_pred))\n",
        "print(\"Adjusted Rand Score Individual: \",adjusted_rand_score(y_test, y_pred))\n",
        "print(\"Calinski Harabasz Score Individual: \",calinski_harabasz_score(X_reduced_test, y_pred))\n",
        "print(\"Normalized Mutual Info Score Individual: \", normalized_mutual_info_score(y_test, y_pred))\n",
        "print(\"Davies Bouldin Score Individual: \",davies_bouldin_score(X_reduced_test, y_pred))"
      ],
      "metadata": {
        "colab": {
          "base_uri": "https://localhost:8080/"
        },
        "id": "6enz0q7CESqw",
        "outputId": "543a1dea-0afa-4553-f82b-ac8b8ea7506b"
      },
      "execution_count": null,
      "outputs": [
        {
          "output_type": "stream",
          "name": "stdout",
          "text": [
            "Silhouette Score:  0.109264806\n",
            "Adjusted Rand Score Individual:  0.3433518936440284\n",
            "Calinski Harabasz Score Individual:  460.8813005615595\n",
            "Normalized Mutual Info Score Individual:  0.45900544951386774\n",
            "Davies Bouldin Score Individual:  1.234337228437936\n"
          ]
        }
      ]
    },
    {
      "cell_type": "code",
      "source": [
        "pickle_data(\"Q1_spectral.pkl\",spectral)"
      ],
      "metadata": {
        "id": "tevXFNfeq4d3"
      },
      "execution_count": 365,
      "outputs": []
    },
    {
      "cell_type": "markdown",
      "source": [
        "Thus better grouping is indicated by higher Silhouette, Calinski Harabasz, and lower Davies Bouldin, ARI, and NMI scores.\n",
        "Kmeans performs better than Spectral Clustering according to Silhouette, Calinski Harabasz, and Davies Bouldin.\n",
        "Spectral Clustering performs better than Kmeans according to ARI, and NMI scores."
      ],
      "metadata": {
        "id": "LvciDkaOJhkm"
      }
    },
    {
      "cell_type": "markdown",
      "metadata": {
        "id": "Ym0HH0hbIMbk"
      },
      "source": [
        "# Question 2"
      ]
    },
    {
      "cell_type": "code",
      "source": [
        "# reading the data\n",
        "import sklearn\n",
        "X,y = sklearn.datasets.load_wine(return_X_y= True)"
      ],
      "metadata": {
        "id": "bOsX5jfLIiP0"
      },
      "execution_count": 341,
      "outputs": []
    },
    {
      "cell_type": "code",
      "source": [
        "X = pd.DataFrame(X)"
      ],
      "metadata": {
        "id": "JUTk5x7_Qf0N"
      },
      "execution_count": 342,
      "outputs": []
    },
    {
      "cell_type": "code",
      "source": [
        "X.head()"
      ],
      "metadata": {
        "colab": {
          "base_uri": "https://localhost:8080/",
          "height": 206
        },
        "id": "r-1FArVgVN2l",
        "outputId": "db929a87-5689-4c92-951e-616053cd804b"
      },
      "execution_count": 343,
      "outputs": [
        {
          "output_type": "execute_result",
          "data": {
            "text/plain": [
              "      0     1     2     3      4     5     6     7     8     9     10    11  \\\n",
              "0  14.23  1.71  2.43  15.6  127.0  2.80  3.06  0.28  2.29  5.64  1.04  3.92   \n",
              "1  13.20  1.78  2.14  11.2  100.0  2.65  2.76  0.26  1.28  4.38  1.05  3.40   \n",
              "2  13.16  2.36  2.67  18.6  101.0  2.80  3.24  0.30  2.81  5.68  1.03  3.17   \n",
              "3  14.37  1.95  2.50  16.8  113.0  3.85  3.49  0.24  2.18  7.80  0.86  3.45   \n",
              "4  13.24  2.59  2.87  21.0  118.0  2.80  2.69  0.39  1.82  4.32  1.04  2.93   \n",
              "\n",
              "       12  \n",
              "0  1065.0  \n",
              "1  1050.0  \n",
              "2  1185.0  \n",
              "3  1480.0  \n",
              "4   735.0  "
            ],
            "text/html": [
              "\n",
              "  <div id=\"df-782ef748-ae58-4a51-a97b-2fc205d6000c\">\n",
              "    <div class=\"colab-df-container\">\n",
              "      <div>\n",
              "<style scoped>\n",
              "    .dataframe tbody tr th:only-of-type {\n",
              "        vertical-align: middle;\n",
              "    }\n",
              "\n",
              "    .dataframe tbody tr th {\n",
              "        vertical-align: top;\n",
              "    }\n",
              "\n",
              "    .dataframe thead th {\n",
              "        text-align: right;\n",
              "    }\n",
              "</style>\n",
              "<table border=\"1\" class=\"dataframe\">\n",
              "  <thead>\n",
              "    <tr style=\"text-align: right;\">\n",
              "      <th></th>\n",
              "      <th>0</th>\n",
              "      <th>1</th>\n",
              "      <th>2</th>\n",
              "      <th>3</th>\n",
              "      <th>4</th>\n",
              "      <th>5</th>\n",
              "      <th>6</th>\n",
              "      <th>7</th>\n",
              "      <th>8</th>\n",
              "      <th>9</th>\n",
              "      <th>10</th>\n",
              "      <th>11</th>\n",
              "      <th>12</th>\n",
              "    </tr>\n",
              "  </thead>\n",
              "  <tbody>\n",
              "    <tr>\n",
              "      <th>0</th>\n",
              "      <td>14.23</td>\n",
              "      <td>1.71</td>\n",
              "      <td>2.43</td>\n",
              "      <td>15.6</td>\n",
              "      <td>127.0</td>\n",
              "      <td>2.80</td>\n",
              "      <td>3.06</td>\n",
              "      <td>0.28</td>\n",
              "      <td>2.29</td>\n",
              "      <td>5.64</td>\n",
              "      <td>1.04</td>\n",
              "      <td>3.92</td>\n",
              "      <td>1065.0</td>\n",
              "    </tr>\n",
              "    <tr>\n",
              "      <th>1</th>\n",
              "      <td>13.20</td>\n",
              "      <td>1.78</td>\n",
              "      <td>2.14</td>\n",
              "      <td>11.2</td>\n",
              "      <td>100.0</td>\n",
              "      <td>2.65</td>\n",
              "      <td>2.76</td>\n",
              "      <td>0.26</td>\n",
              "      <td>1.28</td>\n",
              "      <td>4.38</td>\n",
              "      <td>1.05</td>\n",
              "      <td>3.40</td>\n",
              "      <td>1050.0</td>\n",
              "    </tr>\n",
              "    <tr>\n",
              "      <th>2</th>\n",
              "      <td>13.16</td>\n",
              "      <td>2.36</td>\n",
              "      <td>2.67</td>\n",
              "      <td>18.6</td>\n",
              "      <td>101.0</td>\n",
              "      <td>2.80</td>\n",
              "      <td>3.24</td>\n",
              "      <td>0.30</td>\n",
              "      <td>2.81</td>\n",
              "      <td>5.68</td>\n",
              "      <td>1.03</td>\n",
              "      <td>3.17</td>\n",
              "      <td>1185.0</td>\n",
              "    </tr>\n",
              "    <tr>\n",
              "      <th>3</th>\n",
              "      <td>14.37</td>\n",
              "      <td>1.95</td>\n",
              "      <td>2.50</td>\n",
              "      <td>16.8</td>\n",
              "      <td>113.0</td>\n",
              "      <td>3.85</td>\n",
              "      <td>3.49</td>\n",
              "      <td>0.24</td>\n",
              "      <td>2.18</td>\n",
              "      <td>7.80</td>\n",
              "      <td>0.86</td>\n",
              "      <td>3.45</td>\n",
              "      <td>1480.0</td>\n",
              "    </tr>\n",
              "    <tr>\n",
              "      <th>4</th>\n",
              "      <td>13.24</td>\n",
              "      <td>2.59</td>\n",
              "      <td>2.87</td>\n",
              "      <td>21.0</td>\n",
              "      <td>118.0</td>\n",
              "      <td>2.80</td>\n",
              "      <td>2.69</td>\n",
              "      <td>0.39</td>\n",
              "      <td>1.82</td>\n",
              "      <td>4.32</td>\n",
              "      <td>1.04</td>\n",
              "      <td>2.93</td>\n",
              "      <td>735.0</td>\n",
              "    </tr>\n",
              "  </tbody>\n",
              "</table>\n",
              "</div>\n",
              "      <button class=\"colab-df-convert\" onclick=\"convertToInteractive('df-782ef748-ae58-4a51-a97b-2fc205d6000c')\"\n",
              "              title=\"Convert this dataframe to an interactive table.\"\n",
              "              style=\"display:none;\">\n",
              "        \n",
              "  <svg xmlns=\"http://www.w3.org/2000/svg\" height=\"24px\"viewBox=\"0 0 24 24\"\n",
              "       width=\"24px\">\n",
              "    <path d=\"M0 0h24v24H0V0z\" fill=\"none\"/>\n",
              "    <path d=\"M18.56 5.44l.94 2.06.94-2.06 2.06-.94-2.06-.94-.94-2.06-.94 2.06-2.06.94zm-11 1L8.5 8.5l.94-2.06 2.06-.94-2.06-.94L8.5 2.5l-.94 2.06-2.06.94zm10 10l.94 2.06.94-2.06 2.06-.94-2.06-.94-.94-2.06-.94 2.06-2.06.94z\"/><path d=\"M17.41 7.96l-1.37-1.37c-.4-.4-.92-.59-1.43-.59-.52 0-1.04.2-1.43.59L10.3 9.45l-7.72 7.72c-.78.78-.78 2.05 0 2.83L4 21.41c.39.39.9.59 1.41.59.51 0 1.02-.2 1.41-.59l7.78-7.78 2.81-2.81c.8-.78.8-2.07 0-2.86zM5.41 20L4 18.59l7.72-7.72 1.47 1.35L5.41 20z\"/>\n",
              "  </svg>\n",
              "      </button>\n",
              "      \n",
              "  <style>\n",
              "    .colab-df-container {\n",
              "      display:flex;\n",
              "      flex-wrap:wrap;\n",
              "      gap: 12px;\n",
              "    }\n",
              "\n",
              "    .colab-df-convert {\n",
              "      background-color: #E8F0FE;\n",
              "      border: none;\n",
              "      border-radius: 50%;\n",
              "      cursor: pointer;\n",
              "      display: none;\n",
              "      fill: #1967D2;\n",
              "      height: 32px;\n",
              "      padding: 0 0 0 0;\n",
              "      width: 32px;\n",
              "    }\n",
              "\n",
              "    .colab-df-convert:hover {\n",
              "      background-color: #E2EBFA;\n",
              "      box-shadow: 0px 1px 2px rgba(60, 64, 67, 0.3), 0px 1px 3px 1px rgba(60, 64, 67, 0.15);\n",
              "      fill: #174EA6;\n",
              "    }\n",
              "\n",
              "    [theme=dark] .colab-df-convert {\n",
              "      background-color: #3B4455;\n",
              "      fill: #D2E3FC;\n",
              "    }\n",
              "\n",
              "    [theme=dark] .colab-df-convert:hover {\n",
              "      background-color: #434B5C;\n",
              "      box-shadow: 0px 1px 3px 1px rgba(0, 0, 0, 0.15);\n",
              "      filter: drop-shadow(0px 1px 2px rgba(0, 0, 0, 0.3));\n",
              "      fill: #FFFFFF;\n",
              "    }\n",
              "  </style>\n",
              "\n",
              "      <script>\n",
              "        const buttonEl =\n",
              "          document.querySelector('#df-782ef748-ae58-4a51-a97b-2fc205d6000c button.colab-df-convert');\n",
              "        buttonEl.style.display =\n",
              "          google.colab.kernel.accessAllowed ? 'block' : 'none';\n",
              "\n",
              "        async function convertToInteractive(key) {\n",
              "          const element = document.querySelector('#df-782ef748-ae58-4a51-a97b-2fc205d6000c');\n",
              "          const dataTable =\n",
              "            await google.colab.kernel.invokeFunction('convertToInteractive',\n",
              "                                                     [key], {});\n",
              "          if (!dataTable) return;\n",
              "\n",
              "          const docLinkHtml = 'Like what you see? Visit the ' +\n",
              "            '<a target=\"_blank\" href=https://colab.research.google.com/notebooks/data_table.ipynb>data table notebook</a>'\n",
              "            + ' to learn more about interactive tables.';\n",
              "          element.innerHTML = '';\n",
              "          dataTable['output_type'] = 'display_data';\n",
              "          await google.colab.output.renderOutput(dataTable, element);\n",
              "          const docLink = document.createElement('div');\n",
              "          docLink.innerHTML = docLinkHtml;\n",
              "          element.appendChild(docLink);\n",
              "        }\n",
              "      </script>\n",
              "    </div>\n",
              "  </div>\n",
              "  "
            ]
          },
          "metadata": {},
          "execution_count": 343
        }
      ]
    },
    {
      "cell_type": "code",
      "source": [
        "#Scaling the columns between 0.0 to 1.0\n",
        "from pandas.api.types import is_numeric_dtype\n",
        "#looping over columns\n",
        "for i in X.columns:\n",
        "  #to check if dtype is numeric and can be scaled by diving from max value\n",
        "  if(is_numeric_dtype(X[i])):\n",
        "    #finding max of each column\n",
        "    max = X[i].max()\n",
        "    print(\"Max value in column \",i,\" is \",max)\n",
        "    #diving it by max\n",
        "    X[i] = X[i]/max  "
      ],
      "metadata": {
        "colab": {
          "base_uri": "https://localhost:8080/"
        },
        "id": "z248XIHcVsBt",
        "outputId": "c7021bcf-83f8-4406-bf0f-2c4a8de05788"
      },
      "execution_count": 344,
      "outputs": [
        {
          "output_type": "stream",
          "name": "stdout",
          "text": [
            "Max value in column  0  is  14.83\n",
            "Max value in column  1  is  5.8\n",
            "Max value in column  2  is  3.23\n",
            "Max value in column  3  is  30.0\n",
            "Max value in column  4  is  162.0\n",
            "Max value in column  5  is  3.88\n",
            "Max value in column  6  is  5.08\n",
            "Max value in column  7  is  0.66\n",
            "Max value in column  8  is  3.58\n",
            "Max value in column  9  is  13.0\n",
            "Max value in column  10  is  1.71\n",
            "Max value in column  11  is  4.0\n",
            "Max value in column  12  is  1680.0\n"
          ]
        }
      ]
    },
    {
      "cell_type": "code",
      "source": [
        "X.describe()"
      ],
      "metadata": {
        "colab": {
          "base_uri": "https://localhost:8080/",
          "height": 300
        },
        "id": "DmXvauE7VlJt",
        "outputId": "8fc27242-1bca-4905-95bf-ef0ccadd8f82"
      },
      "execution_count": 345,
      "outputs": [
        {
          "output_type": "execute_result",
          "data": {
            "text/plain": [
              "               0           1           2           3           4           5   \\\n",
              "count  178.000000  178.000000  178.000000  178.000000  178.000000  178.000000   \n",
              "mean     0.876643    0.402819    0.732668    0.649831    0.615689    0.591524   \n",
              "std      0.054742    0.192611    0.084936    0.111319    0.088163    0.161302   \n",
              "min      0.743763    0.127586    0.421053    0.353333    0.432099    0.252577   \n",
              "25%      0.833614    0.276293    0.684211    0.573333    0.543210    0.449098   \n",
              "50%      0.879973    0.321552    0.730650    0.650000    0.604938    0.606959   \n",
              "75%      0.922286    0.531466    0.791796    0.716667    0.660494    0.721649   \n",
              "max      1.000000    1.000000    1.000000    1.000000    1.000000    1.000000   \n",
              "\n",
              "               6           7           8           9           10          11  \\\n",
              "count  178.000000  178.000000  178.000000  178.000000  178.000000  178.000000   \n",
              "mean     0.399463    0.548264    0.444385    0.389084    0.559912    0.652921   \n",
              "std      0.196626    0.188566    0.159877    0.178330    0.133668    0.177498   \n",
              "min      0.066929    0.196970    0.114525    0.098462    0.280702    0.317500   \n",
              "25%      0.237205    0.409091    0.349162    0.247692    0.457602    0.484375   \n",
              "50%      0.420276    0.515152    0.434358    0.360769    0.564327    0.695000   \n",
              "75%      0.565945    0.662879    0.544693    0.476923    0.654971    0.792500   \n",
              "max      1.000000    1.000000    1.000000    1.000000    1.000000    1.000000   \n",
              "\n",
              "               12  \n",
              "count  178.000000  \n",
              "mean     0.444579  \n",
              "std      0.187445  \n",
              "min      0.165476  \n",
              "25%      0.297917  \n",
              "50%      0.400893  \n",
              "75%      0.586310  \n",
              "max      1.000000  "
            ],
            "text/html": [
              "\n",
              "  <div id=\"df-ad1cdee8-bb84-4e16-97b7-76fef5205395\">\n",
              "    <div class=\"colab-df-container\">\n",
              "      <div>\n",
              "<style scoped>\n",
              "    .dataframe tbody tr th:only-of-type {\n",
              "        vertical-align: middle;\n",
              "    }\n",
              "\n",
              "    .dataframe tbody tr th {\n",
              "        vertical-align: top;\n",
              "    }\n",
              "\n",
              "    .dataframe thead th {\n",
              "        text-align: right;\n",
              "    }\n",
              "</style>\n",
              "<table border=\"1\" class=\"dataframe\">\n",
              "  <thead>\n",
              "    <tr style=\"text-align: right;\">\n",
              "      <th></th>\n",
              "      <th>0</th>\n",
              "      <th>1</th>\n",
              "      <th>2</th>\n",
              "      <th>3</th>\n",
              "      <th>4</th>\n",
              "      <th>5</th>\n",
              "      <th>6</th>\n",
              "      <th>7</th>\n",
              "      <th>8</th>\n",
              "      <th>9</th>\n",
              "      <th>10</th>\n",
              "      <th>11</th>\n",
              "      <th>12</th>\n",
              "    </tr>\n",
              "  </thead>\n",
              "  <tbody>\n",
              "    <tr>\n",
              "      <th>count</th>\n",
              "      <td>178.000000</td>\n",
              "      <td>178.000000</td>\n",
              "      <td>178.000000</td>\n",
              "      <td>178.000000</td>\n",
              "      <td>178.000000</td>\n",
              "      <td>178.000000</td>\n",
              "      <td>178.000000</td>\n",
              "      <td>178.000000</td>\n",
              "      <td>178.000000</td>\n",
              "      <td>178.000000</td>\n",
              "      <td>178.000000</td>\n",
              "      <td>178.000000</td>\n",
              "      <td>178.000000</td>\n",
              "    </tr>\n",
              "    <tr>\n",
              "      <th>mean</th>\n",
              "      <td>0.876643</td>\n",
              "      <td>0.402819</td>\n",
              "      <td>0.732668</td>\n",
              "      <td>0.649831</td>\n",
              "      <td>0.615689</td>\n",
              "      <td>0.591524</td>\n",
              "      <td>0.399463</td>\n",
              "      <td>0.548264</td>\n",
              "      <td>0.444385</td>\n",
              "      <td>0.389084</td>\n",
              "      <td>0.559912</td>\n",
              "      <td>0.652921</td>\n",
              "      <td>0.444579</td>\n",
              "    </tr>\n",
              "    <tr>\n",
              "      <th>std</th>\n",
              "      <td>0.054742</td>\n",
              "      <td>0.192611</td>\n",
              "      <td>0.084936</td>\n",
              "      <td>0.111319</td>\n",
              "      <td>0.088163</td>\n",
              "      <td>0.161302</td>\n",
              "      <td>0.196626</td>\n",
              "      <td>0.188566</td>\n",
              "      <td>0.159877</td>\n",
              "      <td>0.178330</td>\n",
              "      <td>0.133668</td>\n",
              "      <td>0.177498</td>\n",
              "      <td>0.187445</td>\n",
              "    </tr>\n",
              "    <tr>\n",
              "      <th>min</th>\n",
              "      <td>0.743763</td>\n",
              "      <td>0.127586</td>\n",
              "      <td>0.421053</td>\n",
              "      <td>0.353333</td>\n",
              "      <td>0.432099</td>\n",
              "      <td>0.252577</td>\n",
              "      <td>0.066929</td>\n",
              "      <td>0.196970</td>\n",
              "      <td>0.114525</td>\n",
              "      <td>0.098462</td>\n",
              "      <td>0.280702</td>\n",
              "      <td>0.317500</td>\n",
              "      <td>0.165476</td>\n",
              "    </tr>\n",
              "    <tr>\n",
              "      <th>25%</th>\n",
              "      <td>0.833614</td>\n",
              "      <td>0.276293</td>\n",
              "      <td>0.684211</td>\n",
              "      <td>0.573333</td>\n",
              "      <td>0.543210</td>\n",
              "      <td>0.449098</td>\n",
              "      <td>0.237205</td>\n",
              "      <td>0.409091</td>\n",
              "      <td>0.349162</td>\n",
              "      <td>0.247692</td>\n",
              "      <td>0.457602</td>\n",
              "      <td>0.484375</td>\n",
              "      <td>0.297917</td>\n",
              "    </tr>\n",
              "    <tr>\n",
              "      <th>50%</th>\n",
              "      <td>0.879973</td>\n",
              "      <td>0.321552</td>\n",
              "      <td>0.730650</td>\n",
              "      <td>0.650000</td>\n",
              "      <td>0.604938</td>\n",
              "      <td>0.606959</td>\n",
              "      <td>0.420276</td>\n",
              "      <td>0.515152</td>\n",
              "      <td>0.434358</td>\n",
              "      <td>0.360769</td>\n",
              "      <td>0.564327</td>\n",
              "      <td>0.695000</td>\n",
              "      <td>0.400893</td>\n",
              "    </tr>\n",
              "    <tr>\n",
              "      <th>75%</th>\n",
              "      <td>0.922286</td>\n",
              "      <td>0.531466</td>\n",
              "      <td>0.791796</td>\n",
              "      <td>0.716667</td>\n",
              "      <td>0.660494</td>\n",
              "      <td>0.721649</td>\n",
              "      <td>0.565945</td>\n",
              "      <td>0.662879</td>\n",
              "      <td>0.544693</td>\n",
              "      <td>0.476923</td>\n",
              "      <td>0.654971</td>\n",
              "      <td>0.792500</td>\n",
              "      <td>0.586310</td>\n",
              "    </tr>\n",
              "    <tr>\n",
              "      <th>max</th>\n",
              "      <td>1.000000</td>\n",
              "      <td>1.000000</td>\n",
              "      <td>1.000000</td>\n",
              "      <td>1.000000</td>\n",
              "      <td>1.000000</td>\n",
              "      <td>1.000000</td>\n",
              "      <td>1.000000</td>\n",
              "      <td>1.000000</td>\n",
              "      <td>1.000000</td>\n",
              "      <td>1.000000</td>\n",
              "      <td>1.000000</td>\n",
              "      <td>1.000000</td>\n",
              "      <td>1.000000</td>\n",
              "    </tr>\n",
              "  </tbody>\n",
              "</table>\n",
              "</div>\n",
              "      <button class=\"colab-df-convert\" onclick=\"convertToInteractive('df-ad1cdee8-bb84-4e16-97b7-76fef5205395')\"\n",
              "              title=\"Convert this dataframe to an interactive table.\"\n",
              "              style=\"display:none;\">\n",
              "        \n",
              "  <svg xmlns=\"http://www.w3.org/2000/svg\" height=\"24px\"viewBox=\"0 0 24 24\"\n",
              "       width=\"24px\">\n",
              "    <path d=\"M0 0h24v24H0V0z\" fill=\"none\"/>\n",
              "    <path d=\"M18.56 5.44l.94 2.06.94-2.06 2.06-.94-2.06-.94-.94-2.06-.94 2.06-2.06.94zm-11 1L8.5 8.5l.94-2.06 2.06-.94-2.06-.94L8.5 2.5l-.94 2.06-2.06.94zm10 10l.94 2.06.94-2.06 2.06-.94-2.06-.94-.94-2.06-.94 2.06-2.06.94z\"/><path d=\"M17.41 7.96l-1.37-1.37c-.4-.4-.92-.59-1.43-.59-.52 0-1.04.2-1.43.59L10.3 9.45l-7.72 7.72c-.78.78-.78 2.05 0 2.83L4 21.41c.39.39.9.59 1.41.59.51 0 1.02-.2 1.41-.59l7.78-7.78 2.81-2.81c.8-.78.8-2.07 0-2.86zM5.41 20L4 18.59l7.72-7.72 1.47 1.35L5.41 20z\"/>\n",
              "  </svg>\n",
              "      </button>\n",
              "      \n",
              "  <style>\n",
              "    .colab-df-container {\n",
              "      display:flex;\n",
              "      flex-wrap:wrap;\n",
              "      gap: 12px;\n",
              "    }\n",
              "\n",
              "    .colab-df-convert {\n",
              "      background-color: #E8F0FE;\n",
              "      border: none;\n",
              "      border-radius: 50%;\n",
              "      cursor: pointer;\n",
              "      display: none;\n",
              "      fill: #1967D2;\n",
              "      height: 32px;\n",
              "      padding: 0 0 0 0;\n",
              "      width: 32px;\n",
              "    }\n",
              "\n",
              "    .colab-df-convert:hover {\n",
              "      background-color: #E2EBFA;\n",
              "      box-shadow: 0px 1px 2px rgba(60, 64, 67, 0.3), 0px 1px 3px 1px rgba(60, 64, 67, 0.15);\n",
              "      fill: #174EA6;\n",
              "    }\n",
              "\n",
              "    [theme=dark] .colab-df-convert {\n",
              "      background-color: #3B4455;\n",
              "      fill: #D2E3FC;\n",
              "    }\n",
              "\n",
              "    [theme=dark] .colab-df-convert:hover {\n",
              "      background-color: #434B5C;\n",
              "      box-shadow: 0px 1px 3px 1px rgba(0, 0, 0, 0.15);\n",
              "      filter: drop-shadow(0px 1px 2px rgba(0, 0, 0, 0.3));\n",
              "      fill: #FFFFFF;\n",
              "    }\n",
              "  </style>\n",
              "\n",
              "      <script>\n",
              "        const buttonEl =\n",
              "          document.querySelector('#df-ad1cdee8-bb84-4e16-97b7-76fef5205395 button.colab-df-convert');\n",
              "        buttonEl.style.display =\n",
              "          google.colab.kernel.accessAllowed ? 'block' : 'none';\n",
              "\n",
              "        async function convertToInteractive(key) {\n",
              "          const element = document.querySelector('#df-ad1cdee8-bb84-4e16-97b7-76fef5205395');\n",
              "          const dataTable =\n",
              "            await google.colab.kernel.invokeFunction('convertToInteractive',\n",
              "                                                     [key], {});\n",
              "          if (!dataTable) return;\n",
              "\n",
              "          const docLinkHtml = 'Like what you see? Visit the ' +\n",
              "            '<a target=\"_blank\" href=https://colab.research.google.com/notebooks/data_table.ipynb>data table notebook</a>'\n",
              "            + ' to learn more about interactive tables.';\n",
              "          element.innerHTML = '';\n",
              "          dataTable['output_type'] = 'display_data';\n",
              "          await google.colab.output.renderOutput(dataTable, element);\n",
              "          const docLink = document.createElement('div');\n",
              "          docLink.innerHTML = docLinkHtml;\n",
              "          element.appendChild(docLink);\n",
              "        }\n",
              "      </script>\n",
              "    </div>\n",
              "  </div>\n",
              "  "
            ]
          },
          "metadata": {},
          "execution_count": 345
        }
      ]
    },
    {
      "cell_type": "code",
      "source": [
        "X.info()"
      ],
      "metadata": {
        "colab": {
          "base_uri": "https://localhost:8080/"
        },
        "id": "qWlh2Iu4Vgp7",
        "outputId": "994c01ba-3943-42ef-ea98-b18c1e9fc407"
      },
      "execution_count": 346,
      "outputs": [
        {
          "output_type": "stream",
          "name": "stdout",
          "text": [
            "<class 'pandas.core.frame.DataFrame'>\n",
            "RangeIndex: 178 entries, 0 to 177\n",
            "Data columns (total 13 columns):\n",
            " #   Column  Non-Null Count  Dtype  \n",
            "---  ------  --------------  -----  \n",
            " 0   0       178 non-null    float64\n",
            " 1   1       178 non-null    float64\n",
            " 2   2       178 non-null    float64\n",
            " 3   3       178 non-null    float64\n",
            " 4   4       178 non-null    float64\n",
            " 5   5       178 non-null    float64\n",
            " 6   6       178 non-null    float64\n",
            " 7   7       178 non-null    float64\n",
            " 8   8       178 non-null    float64\n",
            " 9   9       178 non-null    float64\n",
            " 10  10      178 non-null    float64\n",
            " 11  11      178 non-null    float64\n",
            " 12  12      178 non-null    float64\n",
            "dtypes: float64(13)\n",
            "memory usage: 18.2 KB\n"
          ]
        }
      ]
    },
    {
      "cell_type": "code",
      "source": [
        "X.isna().sum()"
      ],
      "metadata": {
        "colab": {
          "base_uri": "https://localhost:8080/"
        },
        "id": "y56IQYKThgS4",
        "outputId": "a992ea1f-dde0-41dc-fa56-4c084eb95d30"
      },
      "execution_count": 347,
      "outputs": [
        {
          "output_type": "execute_result",
          "data": {
            "text/plain": [
              "0     0\n",
              "1     0\n",
              "2     0\n",
              "3     0\n",
              "4     0\n",
              "5     0\n",
              "6     0\n",
              "7     0\n",
              "8     0\n",
              "9     0\n",
              "10    0\n",
              "11    0\n",
              "12    0\n",
              "dtype: int64"
            ]
          },
          "metadata": {},
          "execution_count": 347
        }
      ]
    },
    {
      "cell_type": "code",
      "source": [
        "y"
      ],
      "metadata": {
        "colab": {
          "base_uri": "https://localhost:8080/"
        },
        "id": "qZkFnikRQmmO",
        "outputId": "11e2c582-ea04-4375-b00f-9f1d522e7a04"
      },
      "execution_count": 348,
      "outputs": [
        {
          "output_type": "execute_result",
          "data": {
            "text/plain": [
              "array([0, 0, 0, 0, 0, 0, 0, 0, 0, 0, 0, 0, 0, 0, 0, 0, 0, 0, 0, 0, 0, 0,\n",
              "       0, 0, 0, 0, 0, 0, 0, 0, 0, 0, 0, 0, 0, 0, 0, 0, 0, 0, 0, 0, 0, 0,\n",
              "       0, 0, 0, 0, 0, 0, 0, 0, 0, 0, 0, 0, 0, 0, 0, 1, 1, 1, 1, 1, 1, 1,\n",
              "       1, 1, 1, 1, 1, 1, 1, 1, 1, 1, 1, 1, 1, 1, 1, 1, 1, 1, 1, 1, 1, 1,\n",
              "       1, 1, 1, 1, 1, 1, 1, 1, 1, 1, 1, 1, 1, 1, 1, 1, 1, 1, 1, 1, 1, 1,\n",
              "       1, 1, 1, 1, 1, 1, 1, 1, 1, 1, 1, 1, 1, 1, 1, 1, 1, 1, 1, 1, 2, 2,\n",
              "       2, 2, 2, 2, 2, 2, 2, 2, 2, 2, 2, 2, 2, 2, 2, 2, 2, 2, 2, 2, 2, 2,\n",
              "       2, 2, 2, 2, 2, 2, 2, 2, 2, 2, 2, 2, 2, 2, 2, 2, 2, 2, 2, 2, 2, 2,\n",
              "       2, 2])"
            ]
          },
          "metadata": {},
          "execution_count": 348
        }
      ]
    },
    {
      "cell_type": "code",
      "source": [
        "#Finding the number and type of classes\n",
        "#to find the classes I have looped over the y data(dependent variable) to find unique values and store them in a List\n",
        "classes = []\n",
        "for i in y:\n",
        "  if i not in classes:\n",
        "    classes.append(i)\n",
        "classes.sort()\n",
        "#Print the classes and no. of classes\n",
        "print(classes)\n",
        "print(len(classes))"
      ],
      "metadata": {
        "colab": {
          "base_uri": "https://localhost:8080/"
        },
        "id": "BGWTmwYIUoik",
        "outputId": "8cc0a990-c108-44b3-d5eb-532b2e19f36c"
      },
      "execution_count": 349,
      "outputs": [
        {
          "output_type": "stream",
          "name": "stdout",
          "text": [
            "[0, 1, 2]\n",
            "3\n"
          ]
        }
      ]
    },
    {
      "cell_type": "code",
      "source": [
        "#Printing Class Distribution\n",
        "#I have maintained a dict with keys as the classes found in previous subparts\n",
        "#Now i loop over y dataset to update dict according to the class.  \n",
        "m = {}\n",
        "for i in classes:\n",
        "  m[i] = 0\n",
        "for i in y:\n",
        "  m[i] += 1\n",
        "\n",
        "#Printing the dictionary with class frequency \n",
        "print(\"Class Distribution\\n\")\n",
        "print(m)\n",
        "\n",
        "#Plotting a bar graph between frequency and class using dict created \n",
        "plt.bar(list(m.keys()),list(m.values()))\n",
        "plt.xticks(range(3))\n",
        "plt.xlabel(\"Classes\")\n",
        "plt.ylabel(\"No. of Entries\")\n",
        "plt.title(\"Class Distribution\")\n",
        "plt.show()"
      ],
      "metadata": {
        "colab": {
          "base_uri": "https://localhost:8080/",
          "height": 524
        },
        "id": "rAMqsdTLGQ6b",
        "outputId": "40d0fc64-b49f-4dd2-c842-248c9e4160e5"
      },
      "execution_count": 350,
      "outputs": [
        {
          "output_type": "stream",
          "name": "stdout",
          "text": [
            "Class Distribution\n",
            "\n",
            "{0: 59, 1: 71, 2: 48}\n"
          ]
        },
        {
          "output_type": "display_data",
          "data": {
            "text/plain": [
              "<Figure size 640x480 with 1 Axes>"
            ],
            "image/png": "[encoded data removed]"
          },
          "metadata": {}
        }
      ]
    },
    {
      "cell_type": "code",
      "source": [
        "X_train, X_test, y_train, y_test = train_test_split(X, y, test_size=0.3, random_state=15)"
      ],
      "metadata": {
        "id": "buFG4lLqQnfy"
      },
      "execution_count": 351,
      "outputs": []
    },
    {
      "cell_type": "markdown",
      "metadata": {
        "id": "KbqfVchKnYog"
      },
      "source": [
        "### Random forest"
      ]
    },
    {
      "cell_type": "code",
      "source": [
        "# Build a Random Forest classifier with 100 trees\n",
        "from sklearn.ensemble import RandomForestClassifier\n",
        "clf = RandomForestClassifier(n_estimators=100, random_state=15)\n",
        "clf.fit(X_train, y_train) # train the model"
      ],
      "metadata": {
        "colab": {
          "base_uri": "https://localhost:8080/",
          "height": 75
        },
        "id": "qpV4aeGVQoN3",
        "outputId": "44367d36-1e77-468d-8df9-7ce467b1ac15"
      },
      "execution_count": 352,
      "outputs": [
        {
          "output_type": "execute_result",
          "data": {
            "text/plain": [
              "RandomForestClassifier(random_state=15)"
            ],
            "text/html": [
              "<style>#sk-container-id-10 {color: black;background-color: white;}#sk-container-id-10 pre{padding: 0;}#sk-container-id-10 div.sk-toggleable {background-color: white;}#sk-container-id-10 label.sk-toggleable__label {cursor: pointer;display: block;width: 100%;margin-bottom: 0;padding: 0.3em;box-sizing: border-box;text-align: center;}#sk-container-id-10 label.sk-toggleable__label-arrow:before {content: \"▸\";float: left;margin-right: 0.25em;color: #696969;}#sk-container-id-10 label.sk-toggleable__label-arrow:hover:before {color: black;}#sk-container-id-10 div.sk-estimator:hover label.sk-toggleable__label-arrow:before {color: black;}#sk-container-id-10 div.sk-toggleable__content {max-height: 0;max-width: 0;overflow: hidden;text-align: left;background-color: #f0f8ff;}#sk-container-id-10 div.sk-toggleable__content pre {margin: 0.2em;color: black;border-radius: 0.25em;background-color: #f0f8ff;}#sk-container-id-10 input.sk-toggleable__control:checked~div.sk-toggleable__content {max-height: 200px;max-width: 100%;overflow: auto;}#sk-container-id-10 input.sk-toggleable__control:checked~label.sk-toggleable__label-arrow:before {content: \"▾\";}#sk-container-id-10 div.sk-estimator input.sk-toggleable__control:checked~label.sk-toggleable__label {background-color: #d4ebff;}#sk-container-id-10 div.sk-label input.sk-toggleable__control:checked~label.sk-toggleable__label {background-color: #d4ebff;}#sk-container-id-10 input.sk-hidden--visually {border: 0;clip: rect(1px 1px 1px 1px);clip: rect(1px, 1px, 1px, 1px);height: 1px;margin: -1px;overflow: hidden;padding: 0;position: absolute;width: 1px;}#sk-container-id-10 div.sk-estimator {font-family: monospace;background-color: #f0f8ff;border: 1px dotted black;border-radius: 0.25em;box-sizing: border-box;margin-bottom: 0.5em;}#sk-container-id-10 div.sk-estimator:hover {background-color: #d4ebff;}#sk-container-id-10 div.sk-parallel-item::after {content: \"\";width: 100%;border-bottom: 1px solid gray;flex-grow: 1;}#sk-container-id-10 div.sk-label:hover label.sk-toggleable__label {background-color: #d4ebff;}#sk-container-id-10 div.sk-serial::before {content: \"\";position: absolute;border-left: 1px solid gray;box-sizing: border-box;top: 0;bottom: 0;left: 50%;z-index: 0;}#sk-container-id-10 div.sk-serial {display: flex;flex-direction: column;align-items: center;background-color: white;padding-right: 0.2em;padding-left: 0.2em;position: relative;}#sk-container-id-10 div.sk-item {position: relative;z-index: 1;}#sk-container-id-10 div.sk-parallel {display: flex;align-items: stretch;justify-content: center;background-color: white;position: relative;}#sk-container-id-10 div.sk-item::before, #sk-container-id-10 div.sk-parallel-item::before {content: \"\";position: absolute;border-left: 1px solid gray;box-sizing: border-box;top: 0;bottom: 0;left: 50%;z-index: -1;}#sk-container-id-10 div.sk-parallel-item {display: flex;flex-direction: column;z-index: 1;position: relative;background-color: white;}#sk-container-id-10 div.sk-parallel-item:first-child::after {align-self: flex-end;width: 50%;}#sk-container-id-10 div.sk-parallel-item:last-child::after {align-self: flex-start;width: 50%;}#sk-container-id-10 div.sk-parallel-item:only-child::after {width: 0;}#sk-container-id-10 div.sk-dashed-wrapped {border: 1px dashed gray;margin: 0 0.4em 0.5em 0.4em;box-sizing: border-box;padding-bottom: 0.4em;background-color: white;}#sk-container-id-10 div.sk-label label {font-family: monospace;font-weight: bold;display: inline-block;line-height: 1.2em;}#sk-container-id-10 div.sk-label-container {text-align: center;}#sk-container-id-10 div.sk-container {/* jupyter's `normalize.less` sets `[hidden] { display: none; }` but bootstrap.min.css set `[hidden] { display: none !important; }` so we also need the `!important` here to be able to override the default hidden behavior on the sphinx rendered scikit-learn.org. See: https://github.com/scikit-learn/scikit-learn/issues/21755 */display: inline-block !important;position: relative;}#sk-container-id-10 div.sk-text-repr-fallback {display: none;}</style><div id=\"sk-container-id-10\" class=\"sk-top-container\"><div class=\"sk-text-repr-fallback\"><pre>RandomForestClassifier(random_state=15)</pre><b>In a Jupyter environment, please rerun this cell to show the HTML representation or trust the notebook. <br />On GitHub, the HTML representation is unable to render, please try loading this page with nbviewer.org.</b></div><div class=\"sk-container\" hidden><div class=\"sk-item\"><div class=\"sk-estimator sk-toggleable\"><input class=\"sk-toggleable__control sk-hidden--visually\" id=\"sk-estimator-id-22\" type=\"checkbox\" checked><label for=\"sk-estimator-id-22\" class=\"sk-toggleable__label sk-toggleable__label-arrow\">RandomForestClassifier</label><div class=\"sk-toggleable__content\"><pre>RandomForestClassifier(random_state=15)</pre></div></div></div></div></div>"
            ]
          },
          "metadata": {},
          "execution_count": 352
        }
      ]
    },
    {
      "cell_type": "code",
      "source": [
        "y_pred = clf.predict(X_test)"
      ],
      "metadata": {
        "id": "4VL7jmBMRkaF"
      },
      "execution_count": 353,
      "outputs": []
    },
    {
      "cell_type": "code",
      "source": [
        "pickle_data(\"Q2_randomforest.pkl\",clf)"
      ],
      "metadata": {
        "id": "8OKxsWA2qW3c"
      },
      "execution_count": 354,
      "outputs": []
    },
    {
      "cell_type": "code",
      "source": [
        "# Evaluate the model performance\n",
        "print(\"For Random Forest:\")\n",
        "print(\"Accuracy Score: \", accuracy_score(y_test, y_pred)) # accuracy score\n",
        "print(\"Confusion Matrix: \",confusion_matrix(y_test, y_pred)) # confusion matrix\n",
        "print(\"Classification Report: \",classification_report(y_test, y_pred)) # classification report\n",
        "from sklearn.metrics import f1_score\n",
        "print(\"Macro f1 score: \",f1_score(y_test, y_pred, average='macro'))\n",
        "print(\"Micro f1 score: \",f1_score(y_test, y_pred, average='micro'))\n",
        "print(\"Weighted f1 score: \",f1_score(y_test, y_pred, average='weighted'))"
      ],
      "metadata": {
        "colab": {
          "base_uri": "https://localhost:8080/"
        },
        "id": "MLhMXRA0Rqps",
        "outputId": "cc8cc5fa-7b03-42d2-d660-539973b75311"
      },
      "execution_count": 355,
      "outputs": [
        {
          "output_type": "stream",
          "name": "stdout",
          "text": [
            "For Random Forest:\n",
            "Accuracy Score:  1.0\n",
            "Confusion Matrix:  [[18  0  0]\n",
            " [ 0 19  0]\n",
            " [ 0  0 17]]\n",
            "Classification Report:                precision    recall  f1-score   support\n",
            "\n",
            "           0       1.00      1.00      1.00        18\n",
            "           1       1.00      1.00      1.00        19\n",
            "           2       1.00      1.00      1.00        17\n",
            "\n",
            "    accuracy                           1.00        54\n",
            "   macro avg       1.00      1.00      1.00        54\n",
            "weighted avg       1.00      1.00      1.00        54\n",
            "\n",
            "Macro f1 score:  1.0\n",
            "Micro f1 score:  1.0\n",
            "Weighted f1 score:  1.0\n"
          ]
        }
      ]
    },
    {
      "cell_type": "markdown",
      "source": [
        "Random Forest: This method employs a group of decision trees that have been trained using various feature subsets and bootstrap sampling samples. By averaging the predictions of several trees, it lowers the variance and overfitting of a single decision tree. It has strong interpretability and can manage multidimensional and complicated data."
      ],
      "metadata": {
        "id": "pUDKPUssf_5t"
      }
    },
    {
      "cell_type": "markdown",
      "metadata": {
        "id": "kY2ypI2DSa1q"
      },
      "source": [
        "### Decision Tree with Bootstrap Aggregation\n"
      ]
    },
    {
      "cell_type": "code",
      "source": [
        "# Build a Bagging classifier with 100 Decision Trees\n",
        "from sklearn.ensemble import BaggingClassifier\n",
        "from sklearn.tree import DecisionTreeClassifier\n",
        "clf = BaggingClassifier(base_estimator=DecisionTreeClassifier(), n_estimators=100, random_state=15)\n",
        "clf.fit(X_train, y_train) # train the model"
      ],
      "metadata": {
        "colab": {
          "base_uri": "https://localhost:8080/",
          "height": 118
        },
        "outputId": "39d26c58-b1df-44d6-b59f-0f7e949f3352",
        "id": "nkebfsNPSa1u"
      },
      "execution_count": 356,
      "outputs": [
        {
          "output_type": "execute_result",
          "data": {
            "text/plain": [
              "BaggingClassifier(base_estimator=DecisionTreeClassifier(), n_estimators=100,\n",
              "                  random_state=15)"
            ],
            "text/html": [
              "<style>#sk-container-id-11 {color: black;background-color: white;}#sk-container-id-11 pre{padding: 0;}#sk-container-id-11 div.sk-toggleable {background-color: white;}#sk-container-id-11 label.sk-toggleable__label {cursor: pointer;display: block;width: 100%;margin-bottom: 0;padding: 0.3em;box-sizing: border-box;text-align: center;}#sk-container-id-11 label.sk-toggleable__label-arrow:before {content: \"▸\";float: left;margin-right: 0.25em;color: #696969;}#sk-container-id-11 label.sk-toggleable__label-arrow:hover:before {color: black;}#sk-container-id-11 div.sk-estimator:hover label.sk-toggleable__label-arrow:before {color: black;}#sk-container-id-11 div.sk-toggleable__content {max-height: 0;max-width: 0;overflow: hidden;text-align: left;background-color: #f0f8ff;}#sk-container-id-11 div.sk-toggleable__content pre {margin: 0.2em;color: black;border-radius: 0.25em;background-color: #f0f8ff;}#sk-container-id-11 input.sk-toggleable__control:checked~div.sk-toggleable__content {max-height: 200px;max-width: 100%;overflow: auto;}#sk-container-id-11 input.sk-toggleable__control:checked~label.sk-toggleable__label-arrow:before {content: \"▾\";}#sk-container-id-11 div.sk-estimator input.sk-toggleable__control:checked~label.sk-toggleable__label {background-color: #d4ebff;}#sk-container-id-11 div.sk-label input.sk-toggleable__control:checked~label.sk-toggleable__label {background-color: #d4ebff;}#sk-container-id-11 input.sk-hidden--visually {border: 0;clip: rect(1px 1px 1px 1px);clip: rect(1px, 1px, 1px, 1px);height: 1px;margin: -1px;overflow: hidden;padding: 0;position: absolute;width: 1px;}#sk-container-id-11 div.sk-estimator {font-family: monospace;background-color: #f0f8ff;border: 1px dotted black;border-radius: 0.25em;box-sizing: border-box;margin-bottom: 0.5em;}#sk-container-id-11 div.sk-estimator:hover {background-color: #d4ebff;}#sk-container-id-11 div.sk-parallel-item::after {content: \"\";width: 100%;border-bottom: 1px solid gray;flex-grow: 1;}#sk-container-id-11 div.sk-label:hover label.sk-toggleable__label {background-color: #d4ebff;}#sk-container-id-11 div.sk-serial::before {content: \"\";position: absolute;border-left: 1px solid gray;box-sizing: border-box;top: 0;bottom: 0;left: 50%;z-index: 0;}#sk-container-id-11 div.sk-serial {display: flex;flex-direction: column;align-items: center;background-color: white;padding-right: 0.2em;padding-left: 0.2em;position: relative;}#sk-container-id-11 div.sk-item {position: relative;z-index: 1;}#sk-container-id-11 div.sk-parallel {display: flex;align-items: stretch;justify-content: center;background-color: white;position: relative;}#sk-container-id-11 div.sk-item::before, #sk-container-id-11 div.sk-parallel-item::before {content: \"\";position: absolute;border-left: 1px solid gray;box-sizing: border-box;top: 0;bottom: 0;left: 50%;z-index: -1;}#sk-container-id-11 div.sk-parallel-item {display: flex;flex-direction: column;z-index: 1;position: relative;background-color: white;}#sk-container-id-11 div.sk-parallel-item:first-child::after {align-self: flex-end;width: 50%;}#sk-container-id-11 div.sk-parallel-item:last-child::after {align-self: flex-start;width: 50%;}#sk-container-id-11 div.sk-parallel-item:only-child::after {width: 0;}#sk-container-id-11 div.sk-dashed-wrapped {border: 1px dashed gray;margin: 0 0.4em 0.5em 0.4em;box-sizing: border-box;padding-bottom: 0.4em;background-color: white;}#sk-container-id-11 div.sk-label label {font-family: monospace;font-weight: bold;display: inline-block;line-height: 1.2em;}#sk-container-id-11 div.sk-label-container {text-align: center;}#sk-container-id-11 div.sk-container {/* jupyter's `normalize.less` sets `[hidden] { display: none; }` but bootstrap.min.css set `[hidden] { display: none !important; }` so we also need the `!important` here to be able to override the default hidden behavior on the sphinx rendered scikit-learn.org. See: https://github.com/scikit-learn/scikit-learn/issues/21755 */display: inline-block !important;position: relative;}#sk-container-id-11 div.sk-text-repr-fallback {display: none;}</style><div id=\"sk-container-id-11\" class=\"sk-top-container\"><div class=\"sk-text-repr-fallback\"><pre>BaggingClassifier(base_estimator=DecisionTreeClassifier(), n_estimators=100,\n",
              "                  random_state=15)</pre><b>In a Jupyter environment, please rerun this cell to show the HTML representation or trust the notebook. <br />On GitHub, the HTML representation is unable to render, please try loading this page with nbviewer.org.</b></div><div class=\"sk-container\" hidden><div class=\"sk-item sk-dashed-wrapped\"><div class=\"sk-label-container\"><div class=\"sk-label sk-toggleable\"><input class=\"sk-toggleable__control sk-hidden--visually\" id=\"sk-estimator-id-23\" type=\"checkbox\" ><label for=\"sk-estimator-id-23\" class=\"sk-toggleable__label sk-toggleable__label-arrow\">BaggingClassifier</label><div class=\"sk-toggleable__content\"><pre>BaggingClassifier(base_estimator=DecisionTreeClassifier(), n_estimators=100,\n",
              "                  random_state=15)</pre></div></div></div><div class=\"sk-parallel\"><div class=\"sk-parallel-item\"><div class=\"sk-item\"><div class=\"sk-label-container\"><div class=\"sk-label sk-toggleable\"><input class=\"sk-toggleable__control sk-hidden--visually\" id=\"sk-estimator-id-24\" type=\"checkbox\" ><label for=\"sk-estimator-id-24\" class=\"sk-toggleable__label sk-toggleable__label-arrow\">base_estimator: DecisionTreeClassifier</label><div class=\"sk-toggleable__content\"><pre>DecisionTreeClassifier()</pre></div></div></div><div class=\"sk-serial\"><div class=\"sk-item\"><div class=\"sk-estimator sk-toggleable\"><input class=\"sk-toggleable__control sk-hidden--visually\" id=\"sk-estimator-id-25\" type=\"checkbox\" ><label for=\"sk-estimator-id-25\" class=\"sk-toggleable__label sk-toggleable__label-arrow\">DecisionTreeClassifier</label><div class=\"sk-toggleable__content\"><pre>DecisionTreeClassifier()</pre></div></div></div></div></div></div></div></div></div></div>"
            ]
          },
          "metadata": {},
          "execution_count": 356
        }
      ]
    },
    {
      "cell_type": "code",
      "source": [
        "y_pred = clf.predict(X_test)"
      ],
      "metadata": {
        "id": "Dj678XEPSa1z"
      },
      "execution_count": 357,
      "outputs": []
    },
    {
      "cell_type": "code",
      "source": [
        "pickle_data(\"Q2_bootstrap.pkl\",clf)"
      ],
      "metadata": {
        "id": "PeviPtlHqeyn"
      },
      "execution_count": 358,
      "outputs": []
    },
    {
      "cell_type": "code",
      "source": [
        "# Evaluate the model performance\n",
        "print(\"For Decision Tree with Bootstrap Aggregation:\")\n",
        "print(\"Accuracy Score: \", accuracy_score(y_test, y_pred)) # accuracy score\n",
        "print(\"Confusion Matrix: \",confusion_matrix(y_test, y_pred)) # confusion matrix\n",
        "print(\"Classification Report: \",classification_report(y_test, y_pred)) # classification report\n",
        "from sklearn.metrics import f1_score\n",
        "print(\"Macro f1 score: \",f1_score(y_test, y_pred, average='macro'))\n",
        "print(\"Micro f1 score: \",f1_score(y_test, y_pred, average='micro'))\n",
        "print(\"Weighted f1 score: \",f1_score(y_test, y_pred, average='weighted'))"
      ],
      "metadata": {
        "colab": {
          "base_uri": "https://localhost:8080/"
        },
        "outputId": "adcfc91b-c8a4-48f8-b618-86523a1bef06",
        "id": "4AtMf24ySa11"
      },
      "execution_count": 359,
      "outputs": [
        {
          "output_type": "stream",
          "name": "stdout",
          "text": [
            "For Decision Tree with Bootstrap Aggregation:\n",
            "Accuracy Score:  1.0\n",
            "Confusion Matrix:  [[18  0  0]\n",
            " [ 0 19  0]\n",
            " [ 0  0 17]]\n",
            "Classification Report:                precision    recall  f1-score   support\n",
            "\n",
            "           0       1.00      1.00      1.00        18\n",
            "           1       1.00      1.00      1.00        19\n",
            "           2       1.00      1.00      1.00        17\n",
            "\n",
            "    accuracy                           1.00        54\n",
            "   macro avg       1.00      1.00      1.00        54\n",
            "weighted avg       1.00      1.00      1.00        54\n",
            "\n",
            "Macro f1 score:  1.0\n",
            "Micro f1 score:  1.0\n",
            "Weighted f1 score:  1.0\n"
          ]
        }
      ]
    },
    {
      "cell_type": "markdown",
      "source": [
        "Bagging: This method employs a group of decision trees that have been trained using various subsets of data obtained by bootstrap sampling. By averaging the predictions of several trees, it lowers the variance and overfitting of a single decision tree. Although it can handle complicated and high-dimensional data effectively, Random Forest is more interpretable."
      ],
      "metadata": {
        "id": "r-ytTPuTgB7m"
      }
    },
    {
      "cell_type": "markdown",
      "metadata": {
        "id": "aIL7gOhvTRfV"
      },
      "source": [
        "### Decision Tree with AdaBoost"
      ]
    },
    {
      "cell_type": "code",
      "source": [
        "# Build an AdaBoost classifier with 100 Decision Trees\n",
        "from sklearn.tree import DecisionTreeClassifier\n",
        "from sklearn.ensemble import AdaBoostClassifier\n",
        "clf = AdaBoostClassifier(base_estimator=DecisionTreeClassifier(), n_estimators=100, random_state=15)\n",
        "clf.fit(X_train, y_train) # train the model"
      ],
      "metadata": {
        "colab": {
          "base_uri": "https://localhost:8080/",
          "height": 118
        },
        "outputId": "4cced203-9a97-4790-c14a-c6125c8804cb",
        "id": "49vFfDmjTRfW"
      },
      "execution_count": 360,
      "outputs": [
        {
          "output_type": "execute_result",
          "data": {
            "text/plain": [
              "AdaBoostClassifier(base_estimator=DecisionTreeClassifier(), n_estimators=100,\n",
              "                   random_state=15)"
            ],
            "text/html": [
              "<style>#sk-container-id-12 {color: black;background-color: white;}#sk-container-id-12 pre{padding: 0;}#sk-container-id-12 div.sk-toggleable {background-color: white;}#sk-container-id-12 label.sk-toggleable__label {cursor: pointer;display: block;width: 100%;margin-bottom: 0;padding: 0.3em;box-sizing: border-box;text-align: center;}#sk-container-id-12 label.sk-toggleable__label-arrow:before {content: \"▸\";float: left;margin-right: 0.25em;color: #696969;}#sk-container-id-12 label.sk-toggleable__label-arrow:hover:before {color: black;}#sk-container-id-12 div.sk-estimator:hover label.sk-toggleable__label-arrow:before {color: black;}#sk-container-id-12 div.sk-toggleable__content {max-height: 0;max-width: 0;overflow: hidden;text-align: left;background-color: #f0f8ff;}#sk-container-id-12 div.sk-toggleable__content pre {margin: 0.2em;color: black;border-radius: 0.25em;background-color: #f0f8ff;}#sk-container-id-12 input.sk-toggleable__control:checked~div.sk-toggleable__content {max-height: 200px;max-width: 100%;overflow: auto;}#sk-container-id-12 input.sk-toggleable__control:checked~label.sk-toggleable__label-arrow:before {content: \"▾\";}#sk-container-id-12 div.sk-estimator input.sk-toggleable__control:checked~label.sk-toggleable__label {background-color: #d4ebff;}#sk-container-id-12 div.sk-label input.sk-toggleable__control:checked~label.sk-toggleable__label {background-color: #d4ebff;}#sk-container-id-12 input.sk-hidden--visually {border: 0;clip: rect(1px 1px 1px 1px);clip: rect(1px, 1px, 1px, 1px);height: 1px;margin: -1px;overflow: hidden;padding: 0;position: absolute;width: 1px;}#sk-container-id-12 div.sk-estimator {font-family: monospace;background-color: #f0f8ff;border: 1px dotted black;border-radius: 0.25em;box-sizing: border-box;margin-bottom: 0.5em;}#sk-container-id-12 div.sk-estimator:hover {background-color: #d4ebff;}#sk-container-id-12 div.sk-parallel-item::after {content: \"\";width: 100%;border-bottom: 1px solid gray;flex-grow: 1;}#sk-container-id-12 div.sk-label:hover label.sk-toggleable__label {background-color: #d4ebff;}#sk-container-id-12 div.sk-serial::before {content: \"\";position: absolute;border-left: 1px solid gray;box-sizing: border-box;top: 0;bottom: 0;left: 50%;z-index: 0;}#sk-container-id-12 div.sk-serial {display: flex;flex-direction: column;align-items: center;background-color: white;padding-right: 0.2em;padding-left: 0.2em;position: relative;}#sk-container-id-12 div.sk-item {position: relative;z-index: 1;}#sk-container-id-12 div.sk-parallel {display: flex;align-items: stretch;justify-content: center;background-color: white;position: relative;}#sk-container-id-12 div.sk-item::before, #sk-container-id-12 div.sk-parallel-item::before {content: \"\";position: absolute;border-left: 1px solid gray;box-sizing: border-box;top: 0;bottom: 0;left: 50%;z-index: -1;}#sk-container-id-12 div.sk-parallel-item {display: flex;flex-direction: column;z-index: 1;position: relative;background-color: white;}#sk-container-id-12 div.sk-parallel-item:first-child::after {align-self: flex-end;width: 50%;}#sk-container-id-12 div.sk-parallel-item:last-child::after {align-self: flex-start;width: 50%;}#sk-container-id-12 div.sk-parallel-item:only-child::after {width: 0;}#sk-container-id-12 div.sk-dashed-wrapped {border: 1px dashed gray;margin: 0 0.4em 0.5em 0.4em;box-sizing: border-box;padding-bottom: 0.4em;background-color: white;}#sk-container-id-12 div.sk-label label {font-family: monospace;font-weight: bold;display: inline-block;line-height: 1.2em;}#sk-container-id-12 div.sk-label-container {text-align: center;}#sk-container-id-12 div.sk-container {/* jupyter's `normalize.less` sets `[hidden] { display: none; }` but bootstrap.min.css set `[hidden] { display: none !important; }` so we also need the `!important` here to be able to override the default hidden behavior on the sphinx rendered scikit-learn.org. See: https://github.com/scikit-learn/scikit-learn/issues/21755 */display: inline-block !important;position: relative;}#sk-container-id-12 div.sk-text-repr-fallback {display: none;}</style><div id=\"sk-container-id-12\" class=\"sk-top-container\"><div class=\"sk-text-repr-fallback\"><pre>AdaBoostClassifier(base_estimator=DecisionTreeClassifier(), n_estimators=100,\n",
              "                   random_state=15)</pre><b>In a Jupyter environment, please rerun this cell to show the HTML representation or trust the notebook. <br />On GitHub, the HTML representation is unable to render, please try loading this page with nbviewer.org.</b></div><div class=\"sk-container\" hidden><div class=\"sk-item sk-dashed-wrapped\"><div class=\"sk-label-container\"><div class=\"sk-label sk-toggleable\"><input class=\"sk-toggleable__control sk-hidden--visually\" id=\"sk-estimator-id-26\" type=\"checkbox\" ><label for=\"sk-estimator-id-26\" class=\"sk-toggleable__label sk-toggleable__label-arrow\">AdaBoostClassifier</label><div class=\"sk-toggleable__content\"><pre>AdaBoostClassifier(base_estimator=DecisionTreeClassifier(), n_estimators=100,\n",
              "                   random_state=15)</pre></div></div></div><div class=\"sk-parallel\"><div class=\"sk-parallel-item\"><div class=\"sk-item\"><div class=\"sk-label-container\"><div class=\"sk-label sk-toggleable\"><input class=\"sk-toggleable__control sk-hidden--visually\" id=\"sk-estimator-id-27\" type=\"checkbox\" ><label for=\"sk-estimator-id-27\" class=\"sk-toggleable__label sk-toggleable__label-arrow\">base_estimator: DecisionTreeClassifier</label><div class=\"sk-toggleable__content\"><pre>DecisionTreeClassifier()</pre></div></div></div><div class=\"sk-serial\"><div class=\"sk-item\"><div class=\"sk-estimator sk-toggleable\"><input class=\"sk-toggleable__control sk-hidden--visually\" id=\"sk-estimator-id-28\" type=\"checkbox\" ><label for=\"sk-estimator-id-28\" class=\"sk-toggleable__label sk-toggleable__label-arrow\">DecisionTreeClassifier</label><div class=\"sk-toggleable__content\"><pre>DecisionTreeClassifier()</pre></div></div></div></div></div></div></div></div></div></div>"
            ]
          },
          "metadata": {},
          "execution_count": 360
        }
      ]
    },
    {
      "cell_type": "code",
      "source": [
        "y_pred = clf.predict(X_test)"
      ],
      "metadata": {
        "id": "0buZwZ5lTRfZ"
      },
      "execution_count": 361,
      "outputs": []
    },
    {
      "cell_type": "code",
      "source": [
        "pickle_data(\"Q2_adaboost.pkl\",clf)"
      ],
      "metadata": {
        "id": "Jw-cDjYdqilG"
      },
      "execution_count": 362,
      "outputs": []
    },
    {
      "cell_type": "code",
      "source": [
        "# Evaluate the model performance\n",
        "print(\"For Decision Tree with AdaBoost:\")\n",
        "print(\"Accuracy Score: \", accuracy_score(y_test, y_pred)) # accuracy score\n",
        "print(\"Confusion Matrix: \",confusion_matrix(y_test, y_pred)) # confusion matrix\n",
        "print(\"Classification Report: \",classification_report(y_test, y_pred)) # classification report\n",
        "from sklearn.metrics import f1_score\n",
        "print(\"Macro f1 score: \",f1_score(y_test, y_pred, average='macro'))\n",
        "print(\"Micro f1 score: \",f1_score(y_test, y_pred, average='micro'))\n",
        "print(\"Weighted f1 score: \",f1_score(y_test, y_pred, average='weighted'))"
      ],
      "metadata": {
        "colab": {
          "base_uri": "https://localhost:8080/"
        },
        "outputId": "61f8c54a-2fd6-4fe6-b807-f49726fe4c6c",
        "id": "gHLtpQv_TRfa"
      },
      "execution_count": 363,
      "outputs": [
        {
          "output_type": "stream",
          "name": "stdout",
          "text": [
            "For Decision Tree with AdaBoost:\n",
            "Accuracy Score:  0.9259259259259259\n",
            "Confusion Matrix:  [[18  0  0]\n",
            " [ 0 17  2]\n",
            " [ 0  2 15]]\n",
            "Classification Report:                precision    recall  f1-score   support\n",
            "\n",
            "           0       1.00      1.00      1.00        18\n",
            "           1       0.89      0.89      0.89        19\n",
            "           2       0.88      0.88      0.88        17\n",
            "\n",
            "    accuracy                           0.93        54\n",
            "   macro avg       0.93      0.93      0.93        54\n",
            "weighted avg       0.93      0.93      0.93        54\n",
            "\n",
            "Macro f1 score:  0.9256965944272446\n",
            "Micro f1 score:  0.9259259259259259\n",
            "Weighted f1 score:  0.9259259259259259\n"
          ]
        }
      ]
    },
    {
      "cell_type": "markdown",
      "source": [
        "AdaBoost: This method employs a group of decision trees that are consecutively trained using weighted data. At each iteration, the weight of incorrectly classified samples rises while the weight of correctly identified samples falls. By enhancing the predictions of several trees, it lessens the bias and underfitting of a single decision tree. Although it does well with low-dimensional and straightforward data, noise and outliers are sensitive to it."
      ],
      "metadata": {
        "id": "V8C6qVBAWwlR"
      }
    },
    {
      "cell_type": "markdown",
      "source": [
        "Random Forest and Decision Tree with Bootstrap Aggregation performs similarly and better than Decision tree with ADABoost compared on the basis accuracy score and macro, micro and weighted f1 scores."
      ],
      "metadata": {
        "id": "J20_CS1kgaEQ"
      }
    },
    {
      "cell_type": "markdown",
      "metadata": {
        "id": "PRaocloRIMqR"
      },
      "source": [
        "# Question 3"
      ]
    },
    {
      "cell_type": "code",
      "source": [
        "# Load the dataset\n",
        "df = pd.read_csv('/content/drive/My Drive/cardekho.csv')\n",
        "print(df.head())"
      ],
      "metadata": {
        "colab": {
          "base_uri": "https://localhost:8080/"
        },
        "id": "bwfIquama6gn",
        "outputId": "1973813a-eee5-481b-c816-2fb7f9007e5e"
      },
      "execution_count": null,
      "outputs": [
        {
          "output_type": "stream",
          "name": "stdout",
          "text": [
            "                       name  year  selling_price  km_driven    fuel  \\\n",
            "0             Maruti 800 AC  2007          60000      70000  Petrol   \n",
            "1  Maruti Wagon R LXI Minor  2007         135000      50000  Petrol   \n",
            "2      Hyundai Verna 1.6 SX  2012         600000     100000  Diesel   \n",
            "3    Datsun RediGO T Option  2017         250000      46000  Petrol   \n",
            "4     Honda Amaze VX i-DTEC  2014         450000     141000  Diesel   \n",
            "\n",
            "  seller_type transmission         owner  \n",
            "0  Individual       Manual   First Owner  \n",
            "1  Individual       Manual   First Owner  \n",
            "2  Individual       Manual   First Owner  \n",
            "3  Individual       Manual   First Owner  \n",
            "4  Individual       Manual  Second Owner  \n"
          ]
        }
      ]
    },
    {
      "cell_type": "code",
      "source": [
        "df.head()"
      ],
      "metadata": {
        "colab": {
          "base_uri": "https://localhost:8080/",
          "height": 206
        },
        "id": "V-bqFMUrcwU9",
        "outputId": "00a3d568-3a1f-4d89-f8f1-dfa0827d88d6"
      },
      "execution_count": null,
      "outputs": [
        {
          "output_type": "execute_result",
          "data": {
            "text/plain": [
              "                       name  year  selling_price  km_driven    fuel  \\\n",
              "0             Maruti 800 AC  2007          60000      70000  Petrol   \n",
              "1  Maruti Wagon R LXI Minor  2007         135000      50000  Petrol   \n",
              "2      Hyundai Verna 1.6 SX  2012         600000     100000  Diesel   \n",
              "3    Datsun RediGO T Option  2017         250000      46000  Petrol   \n",
              "4     Honda Amaze VX i-DTEC  2014         450000     141000  Diesel   \n",
              "\n",
              "  seller_type transmission         owner  \n",
              "0  Individual       Manual   First Owner  \n",
              "1  Individual       Manual   First Owner  \n",
              "2  Individual       Manual   First Owner  \n",
              "3  Individual       Manual   First Owner  \n",
              "4  Individual       Manual  Second Owner  "
            ],
            "text/html": [
              "\n",
              "  <div id=\"df-e455f11f-8b49-427d-8923-95fba89e6b93\">\n",
              "    <div class=\"colab-df-container\">\n",
              "      <div>\n",
              "<style scoped>\n",
              "    .dataframe tbody tr th:only-of-type {\n",
              "        vertical-align: middle;\n",
              "    }\n",
              "\n",
              "    .dataframe tbody tr th {\n",
              "        vertical-align: top;\n",
              "    }\n",
              "\n",
              "    .dataframe thead th {\n",
              "        text-align: right;\n",
              "    }\n",
              "</style>\n",
              "<table border=\"1\" class=\"dataframe\">\n",
              "  <thead>\n",
              "    <tr style=\"text-align: right;\">\n",
              "      <th></th>\n",
              "      <th>name</th>\n",
              "      <th>year</th>\n",
              "      <th>selling_price</th>\n",
              "      <th>km_driven</th>\n",
              "      <th>fuel</th>\n",
              "      <th>seller_type</th>\n",
              "      <th>transmission</th>\n",
              "      <th>owner</th>\n",
              "    </tr>\n",
              "  </thead>\n",
              "  <tbody>\n",
              "    <tr>\n",
              "      <th>0</th>\n",
              "      <td>Maruti 800 AC</td>\n",
              "      <td>2007</td>\n",
              "      <td>60000</td>\n",
              "      <td>70000</td>\n",
              "      <td>Petrol</td>\n",
              "      <td>Individual</td>\n",
              "      <td>Manual</td>\n",
              "      <td>First Owner</td>\n",
              "    </tr>\n",
              "    <tr>\n",
              "      <th>1</th>\n",
              "      <td>Maruti Wagon R LXI Minor</td>\n",
              "      <td>2007</td>\n",
              "      <td>135000</td>\n",
              "      <td>50000</td>\n",
              "      <td>Petrol</td>\n",
              "      <td>Individual</td>\n",
              "      <td>Manual</td>\n",
              "      <td>First Owner</td>\n",
              "    </tr>\n",
              "    <tr>\n",
              "      <th>2</th>\n",
              "      <td>Hyundai Verna 1.6 SX</td>\n",
              "      <td>2012</td>\n",
              "      <td>600000</td>\n",
              "      <td>100000</td>\n",
              "      <td>Diesel</td>\n",
              "      <td>Individual</td>\n",
              "      <td>Manual</td>\n",
              "      <td>First Owner</td>\n",
              "    </tr>\n",
              "    <tr>\n",
              "      <th>3</th>\n",
              "      <td>Datsun RediGO T Option</td>\n",
              "      <td>2017</td>\n",
              "      <td>250000</td>\n",
              "      <td>46000</td>\n",
              "      <td>Petrol</td>\n",
              "      <td>Individual</td>\n",
              "      <td>Manual</td>\n",
              "      <td>First Owner</td>\n",
              "    </tr>\n",
              "    <tr>\n",
              "      <th>4</th>\n",
              "      <td>Honda Amaze VX i-DTEC</td>\n",
              "      <td>2014</td>\n",
              "      <td>450000</td>\n",
              "      <td>141000</td>\n",
              "      <td>Diesel</td>\n",
              "      <td>Individual</td>\n",
              "      <td>Manual</td>\n",
              "      <td>Second Owner</td>\n",
              "    </tr>\n",
              "  </tbody>\n",
              "</table>\n",
              "</div>\n",
              "      <button class=\"colab-df-convert\" onclick=\"convertToInteractive('df-e455f11f-8b49-427d-8923-95fba89e6b93')\"\n",
              "              title=\"Convert this dataframe to an interactive table.\"\n",
              "              style=\"display:none;\">\n",
              "        \n",
              "  <svg xmlns=\"http://www.w3.org/2000/svg\" height=\"24px\"viewBox=\"0 0 24 24\"\n",
              "       width=\"24px\">\n",
              "    <path d=\"M0 0h24v24H0V0z\" fill=\"none\"/>\n",
              "    <path d=\"M18.56 5.44l.94 2.06.94-2.06 2.06-.94-2.06-.94-.94-2.06-.94 2.06-2.06.94zm-11 1L8.5 8.5l.94-2.06 2.06-.94-2.06-.94L8.5 2.5l-.94 2.06-2.06.94zm10 10l.94 2.06.94-2.06 2.06-.94-2.06-.94-.94-2.06-.94 2.06-2.06.94z\"/><path d=\"M17.41 7.96l-1.37-1.37c-.4-.4-.92-.59-1.43-.59-.52 0-1.04.2-1.43.59L10.3 9.45l-7.72 7.72c-.78.78-.78 2.05 0 2.83L4 21.41c.39.39.9.59 1.41.59.51 0 1.02-.2 1.41-.59l7.78-7.78 2.81-2.81c.8-.78.8-2.07 0-2.86zM5.41 20L4 18.59l7.72-7.72 1.47 1.35L5.41 20z\"/>\n",
              "  </svg>\n",
              "      </button>\n",
              "      \n",
              "  <style>\n",
              "    .colab-df-container {\n",
              "      display:flex;\n",
              "      flex-wrap:wrap;\n",
              "      gap: 12px;\n",
              "    }\n",
              "\n",
              "    .colab-df-convert {\n",
              "      background-color: #E8F0FE;\n",
              "      border: none;\n",
              "      border-radius: 50%;\n",
              "      cursor: pointer;\n",
              "      display: none;\n",
              "      fill: #1967D2;\n",
              "      height: 32px;\n",
              "      padding: 0 0 0 0;\n",
              "      width: 32px;\n",
              "    }\n",
              "\n",
              "    .colab-df-convert:hover {\n",
              "      background-color: #E2EBFA;\n",
              "      box-shadow: 0px 1px 2px rgba(60, 64, 67, 0.3), 0px 1px 3px 1px rgba(60, 64, 67, 0.15);\n",
              "      fill: #174EA6;\n",
              "    }\n",
              "\n",
              "    [theme=dark] .colab-df-convert {\n",
              "      background-color: #3B4455;\n",
              "      fill: #D2E3FC;\n",
              "    }\n",
              "\n",
              "    [theme=dark] .colab-df-convert:hover {\n",
              "      background-color: #434B5C;\n",
              "      box-shadow: 0px 1px 3px 1px rgba(0, 0, 0, 0.15);\n",
              "      filter: drop-shadow(0px 1px 2px rgba(0, 0, 0, 0.3));\n",
              "      fill: #FFFFFF;\n",
              "    }\n",
              "  </style>\n",
              "\n",
              "      <script>\n",
              "        const buttonEl =\n",
              "          document.querySelector('#df-e455f11f-8b49-427d-8923-95fba89e6b93 button.colab-df-convert');\n",
              "        buttonEl.style.display =\n",
              "          google.colab.kernel.accessAllowed ? 'block' : 'none';\n",
              "\n",
              "        async function convertToInteractive(key) {\n",
              "          const element = document.querySelector('#df-e455f11f-8b49-427d-8923-95fba89e6b93');\n",
              "          const dataTable =\n",
              "            await google.colab.kernel.invokeFunction('convertToInteractive',\n",
              "                                                     [key], {});\n",
              "          if (!dataTable) return;\n",
              "\n",
              "          const docLinkHtml = 'Like what you see? Visit the ' +\n",
              "            '<a target=\"_blank\" href=https://colab.research.google.com/notebooks/data_table.ipynb>data table notebook</a>'\n",
              "            + ' to learn more about interactive tables.';\n",
              "          element.innerHTML = '';\n",
              "          dataTable['output_type'] = 'display_data';\n",
              "          await google.colab.output.renderOutput(dataTable, element);\n",
              "          const docLink = document.createElement('div');\n",
              "          docLink.innerHTML = docLinkHtml;\n",
              "          element.appendChild(docLink);\n",
              "        }\n",
              "      </script>\n",
              "    </div>\n",
              "  </div>\n",
              "  "
            ]
          },
          "metadata": {},
          "execution_count": 184
        }
      ]
    },
    {
      "cell_type": "code",
      "source": [
        "print(df.info()) # check for missing values and data types"
      ],
      "metadata": {
        "colab": {
          "base_uri": "https://localhost:8080/"
        },
        "id": "OAYH9xxAa9tE",
        "outputId": "e54cb11a-8b5f-429f-c0b6-ed78efb1ddc4"
      },
      "execution_count": null,
      "outputs": [
        {
          "output_type": "stream",
          "name": "stdout",
          "text": [
            "<class 'pandas.core.frame.DataFrame'>\n",
            "RangeIndex: 4340 entries, 0 to 4339\n",
            "Data columns (total 8 columns):\n",
            " #   Column         Non-Null Count  Dtype \n",
            "---  ------         --------------  ----- \n",
            " 0   name           4340 non-null   object\n",
            " 1   year           4340 non-null   int64 \n",
            " 2   selling_price  4340 non-null   int64 \n",
            " 3   km_driven      4340 non-null   int64 \n",
            " 4   fuel           4340 non-null   object\n",
            " 5   seller_type    4340 non-null   object\n",
            " 6   transmission   4340 non-null   object\n",
            " 7   owner          4340 non-null   object\n",
            "dtypes: int64(3), object(5)\n",
            "memory usage: 271.4+ KB\n",
            "None\n"
          ]
        }
      ]
    },
    {
      "cell_type": "code",
      "source": [
        "print(df.describe()) # check for summary statistics and outliers"
      ],
      "metadata": {
        "colab": {
          "base_uri": "https://localhost:8080/"
        },
        "id": "9Ovigxb1a9w2",
        "outputId": "8279480b-557e-4723-845d-41ba65b0f09d"
      },
      "execution_count": null,
      "outputs": [
        {
          "output_type": "stream",
          "name": "stdout",
          "text": [
            "              year  selling_price      km_driven\n",
            "count  4340.000000   4.340000e+03    4340.000000\n",
            "mean   2013.090783   5.041273e+05   66215.777419\n",
            "std       4.215344   5.785487e+05   46644.102194\n",
            "min    1992.000000   2.000000e+04       1.000000\n",
            "25%    2011.000000   2.087498e+05   35000.000000\n",
            "50%    2014.000000   3.500000e+05   60000.000000\n",
            "75%    2016.000000   6.000000e+05   90000.000000\n",
            "max    2020.000000   8.900000e+06  806599.000000\n"
          ]
        }
      ]
    },
    {
      "cell_type": "code",
      "source": [
        "print(df.nunique()) # check for number of unique values in each column"
      ],
      "metadata": {
        "colab": {
          "base_uri": "https://localhost:8080/"
        },
        "id": "B69Cm2Eva9zd",
        "outputId": "269693d8-0ca2-4c0b-c7a9-c13a85cb2228"
      },
      "execution_count": null,
      "outputs": [
        {
          "output_type": "stream",
          "name": "stdout",
          "text": [
            "name             1491\n",
            "year               27\n",
            "selling_price     445\n",
            "km_driven         770\n",
            "fuel                5\n",
            "seller_type         3\n",
            "transmission        2\n",
            "owner               5\n",
            "dtype: int64\n"
          ]
        }
      ]
    },
    {
      "cell_type": "code",
      "source": [
        "# Encode categorical variables\n",
        "le = LabelEncoder()\n",
        "df['fuel'] = le.fit_transform(df['fuel'])\n",
        "df['owner'] = le.fit_transform(df['owner'])\n",
        "df['seller_type'] = le.fit_transform(df['seller_type'])\n",
        "df['transmission'] = le.fit_transform(df['transmission'])\n",
        "df.drop(\"name\", axis=1, inplace = True)"
      ],
      "metadata": {
        "id": "thkdS2YTbF1P"
      },
      "execution_count": null,
      "outputs": []
    },
    {
      "cell_type": "code",
      "source": [
        "# Scale numerical variables\n",
        "scaler = StandardScaler()\n",
        "df[['year', 'selling_price', 'km_driven']] = scaler.fit_transform(df[['year', 'selling_price', 'km_driven']])"
      ],
      "metadata": {
        "id": "6AdmfzUtbF4b"
      },
      "execution_count": null,
      "outputs": []
    },
    {
      "cell_type": "code",
      "source": [
        "# Plot histograms of numerical variables\n",
        "df.hist(figsize=(10, 10))\n",
        "plt.show()"
      ],
      "metadata": {
        "colab": {
          "base_uri": "https://localhost:8080/",
          "height": 853
        },
        "id": "LU2Yd-GtbiiW",
        "outputId": "a70c4915-1c1d-46ad-a535-b030bc7c7734"
      },
      "execution_count": null,
      "outputs": [
        {
          "output_type": "display_data",
          "data": {
            "text/plain": [
              "<Figure size 1000x1000 with 9 Axes>"
            ],
            "image/png": "[encoded data removed]"
          },
          "metadata": {}
        }
      ]
    },
    {
      "cell_type": "code",
      "source": [
        "# Split the data into train and test sets\n",
        "X = df.drop('selling_price', axis=1) # features\n",
        "y = df['selling_price'] # target\n",
        "X_train, X_test, y_train, y_test = train_test_split(X, y, test_size=0.2, random_state=0) # 80% train and 20% test"
      ],
      "metadata": {
        "id": "qS0FUHV0bino"
      },
      "execution_count": null,
      "outputs": []
    },
    {
      "cell_type": "code",
      "source": [
        "X"
      ],
      "metadata": {
        "colab": {
          "base_uri": "https://localhost:8080/",
          "height": 424
        },
        "id": "1mSULlGWeupY",
        "outputId": "ba6737ce-649b-48c5-b5c6-7f7ec11d4a2b"
      },
      "execution_count": null,
      "outputs": [
        {
          "output_type": "execute_result",
          "data": {
            "text/plain": [
              "          year  km_driven  fuel  seller_type  transmission  owner\n",
              "0    -1.445074   0.081139     4            1             1      0\n",
              "1    -1.445074  -0.347689     4            1             1      0\n",
              "2    -0.258795   0.724381     1            1             1      0\n",
              "3     0.927485  -0.433455     4            1             1      0\n",
              "4     0.215717   1.603479     1            1             1      2\n",
              "...        ...        ...   ...          ...           ...    ...\n",
              "4335  0.215717   0.295553     1            1             1      2\n",
              "4336  0.215717   0.295553     1            1             1      2\n",
              "4337 -0.970563   0.359877     4            1             1      2\n",
              "4338  0.690229   0.509967     1            1             1      0\n",
              "4339  0.690229  -0.562103     4            1             1      0\n",
              "\n",
              "[4340 rows x 6 columns]"
            ],
            "text/html": [
              "\n",
              "  <div id=\"df-14919393-ff8a-486c-b5cd-20273d16d2fc\">\n",
              "    <div class=\"colab-df-container\">\n",
              "      <div>\n",
              "<style scoped>\n",
              "    .dataframe tbody tr th:only-of-type {\n",
              "        vertical-align: middle;\n",
              "    }\n",
              "\n",
              "    .dataframe tbody tr th {\n",
              "        vertical-align: top;\n",
              "    }\n",
              "\n",
              "    .dataframe thead th {\n",
              "        text-align: right;\n",
              "    }\n",
              "</style>\n",
              "<table border=\"1\" class=\"dataframe\">\n",
              "  <thead>\n",
              "    <tr style=\"text-align: right;\">\n",
              "      <th></th>\n",
              "      <th>year</th>\n",
              "      <th>km_driven</th>\n",
              "      <th>fuel</th>\n",
              "      <th>seller_type</th>\n",
              "      <th>transmission</th>\n",
              "      <th>owner</th>\n",
              "    </tr>\n",
              "  </thead>\n",
              "  <tbody>\n",
              "    <tr>\n",
              "      <th>0</th>\n",
              "      <td>-1.445074</td>\n",
              "      <td>0.081139</td>\n",
              "      <td>4</td>\n",
              "      <td>1</td>\n",
              "      <td>1</td>\n",
              "      <td>0</td>\n",
              "    </tr>\n",
              "    <tr>\n",
              "      <th>1</th>\n",
              "      <td>-1.445074</td>\n",
              "      <td>-0.347689</td>\n",
              "      <td>4</td>\n",
              "      <td>1</td>\n",
              "      <td>1</td>\n",
              "      <td>0</td>\n",
              "    </tr>\n",
              "    <tr>\n",
              "      <th>2</th>\n",
              "      <td>-0.258795</td>\n",
              "      <td>0.724381</td>\n",
              "      <td>1</td>\n",
              "      <td>1</td>\n",
              "      <td>1</td>\n",
              "      <td>0</td>\n",
              "    </tr>\n",
              "    <tr>\n",
              "      <th>3</th>\n",
              "      <td>0.927485</td>\n",
              "      <td>-0.433455</td>\n",
              "      <td>4</td>\n",
              "      <td>1</td>\n",
              "      <td>1</td>\n",
              "      <td>0</td>\n",
              "    </tr>\n",
              "    <tr>\n",
              "      <th>4</th>\n",
              "      <td>0.215717</td>\n",
              "      <td>1.603479</td>\n",
              "      <td>1</td>\n",
              "      <td>1</td>\n",
              "      <td>1</td>\n",
              "      <td>2</td>\n",
              "    </tr>\n",
              "    <tr>\n",
              "      <th>...</th>\n",
              "      <td>...</td>\n",
              "      <td>...</td>\n",
              "      <td>...</td>\n",
              "      <td>...</td>\n",
              "      <td>...</td>\n",
              "      <td>...</td>\n",
              "    </tr>\n",
              "    <tr>\n",
              "      <th>4335</th>\n",
              "      <td>0.215717</td>\n",
              "      <td>0.295553</td>\n",
              "      <td>1</td>\n",
              "      <td>1</td>\n",
              "      <td>1</td>\n",
              "      <td>2</td>\n",
              "    </tr>\n",
              "    <tr>\n",
              "      <th>4336</th>\n",
              "      <td>0.215717</td>\n",
              "      <td>0.295553</td>\n",
              "      <td>1</td>\n",
              "      <td>1</td>\n",
              "      <td>1</td>\n",
              "      <td>2</td>\n",
              "    </tr>\n",
              "    <tr>\n",
              "      <th>4337</th>\n",
              "      <td>-0.970563</td>\n",
              "      <td>0.359877</td>\n",
              "      <td>4</td>\n",
              "      <td>1</td>\n",
              "      <td>1</td>\n",
              "      <td>2</td>\n",
              "    </tr>\n",
              "    <tr>\n",
              "      <th>4338</th>\n",
              "      <td>0.690229</td>\n",
              "      <td>0.509967</td>\n",
              "      <td>1</td>\n",
              "      <td>1</td>\n",
              "      <td>1</td>\n",
              "      <td>0</td>\n",
              "    </tr>\n",
              "    <tr>\n",
              "      <th>4339</th>\n",
              "      <td>0.690229</td>\n",
              "      <td>-0.562103</td>\n",
              "      <td>4</td>\n",
              "      <td>1</td>\n",
              "      <td>1</td>\n",
              "      <td>0</td>\n",
              "    </tr>\n",
              "  </tbody>\n",
              "</table>\n",
              "<p>4340 rows × 6 columns</p>\n",
              "</div>\n",
              "      <button class=\"colab-df-convert\" onclick=\"convertToInteractive('df-14919393-ff8a-486c-b5cd-20273d16d2fc')\"\n",
              "              title=\"Convert this dataframe to an interactive table.\"\n",
              "              style=\"display:none;\">\n",
              "        \n",
              "  <svg xmlns=\"http://www.w3.org/2000/svg\" height=\"24px\"viewBox=\"0 0 24 24\"\n",
              "       width=\"24px\">\n",
              "    <path d=\"M0 0h24v24H0V0z\" fill=\"none\"/>\n",
              "    <path d=\"M18.56 5.44l.94 2.06.94-2.06 2.06-.94-2.06-.94-.94-2.06-.94 2.06-2.06.94zm-11 1L8.5 8.5l.94-2.06 2.06-.94-2.06-.94L8.5 2.5l-.94 2.06-2.06.94zm10 10l.94 2.06.94-2.06 2.06-.94-2.06-.94-.94-2.06-.94 2.06-2.06.94z\"/><path d=\"M17.41 7.96l-1.37-1.37c-.4-.4-.92-.59-1.43-.59-.52 0-1.04.2-1.43.59L10.3 9.45l-7.72 7.72c-.78.78-.78 2.05 0 2.83L4 21.41c.39.39.9.59 1.41.59.51 0 1.02-.2 1.41-.59l7.78-7.78 2.81-2.81c.8-.78.8-2.07 0-2.86zM5.41 20L4 18.59l7.72-7.72 1.47 1.35L5.41 20z\"/>\n",
              "  </svg>\n",
              "      </button>\n",
              "      \n",
              "  <style>\n",
              "    .colab-df-container {\n",
              "      display:flex;\n",
              "      flex-wrap:wrap;\n",
              "      gap: 12px;\n",
              "    }\n",
              "\n",
              "    .colab-df-convert {\n",
              "      background-color: #E8F0FE;\n",
              "      border: none;\n",
              "      border-radius: 50%;\n",
              "      cursor: pointer;\n",
              "      display: none;\n",
              "      fill: #1967D2;\n",
              "      height: 32px;\n",
              "      padding: 0 0 0 0;\n",
              "      width: 32px;\n",
              "    }\n",
              "\n",
              "    .colab-df-convert:hover {\n",
              "      background-color: #E2EBFA;\n",
              "      box-shadow: 0px 1px 2px rgba(60, 64, 67, 0.3), 0px 1px 3px 1px rgba(60, 64, 67, 0.15);\n",
              "      fill: #174EA6;\n",
              "    }\n",
              "\n",
              "    [theme=dark] .colab-df-convert {\n",
              "      background-color: #3B4455;\n",
              "      fill: #D2E3FC;\n",
              "    }\n",
              "\n",
              "    [theme=dark] .colab-df-convert:hover {\n",
              "      background-color: #434B5C;\n",
              "      box-shadow: 0px 1px 3px 1px rgba(0, 0, 0, 0.15);\n",
              "      filter: drop-shadow(0px 1px 2px rgba(0, 0, 0, 0.3));\n",
              "      fill: #FFFFFF;\n",
              "    }\n",
              "  </style>\n",
              "\n",
              "      <script>\n",
              "        const buttonEl =\n",
              "          document.querySelector('#df-14919393-ff8a-486c-b5cd-20273d16d2fc button.colab-df-convert');\n",
              "        buttonEl.style.display =\n",
              "          google.colab.kernel.accessAllowed ? 'block' : 'none';\n",
              "\n",
              "        async function convertToInteractive(key) {\n",
              "          const element = document.querySelector('#df-14919393-ff8a-486c-b5cd-20273d16d2fc');\n",
              "          const dataTable =\n",
              "            await google.colab.kernel.invokeFunction('convertToInteractive',\n",
              "                                                     [key], {});\n",
              "          if (!dataTable) return;\n",
              "\n",
              "          const docLinkHtml = 'Like what you see? Visit the ' +\n",
              "            '<a target=\"_blank\" href=https://colab.research.google.com/notebooks/data_table.ipynb>data table notebook</a>'\n",
              "            + ' to learn more about interactive tables.';\n",
              "          element.innerHTML = '';\n",
              "          dataTable['output_type'] = 'display_data';\n",
              "          await google.colab.output.renderOutput(dataTable, element);\n",
              "          const docLink = document.createElement('div');\n",
              "          docLink.innerHTML = docLinkHtml;\n",
              "          element.appendChild(docLink);\n",
              "        }\n",
              "      </script>\n",
              "    </div>\n",
              "  </div>\n",
              "  "
            ]
          },
          "metadata": {},
          "execution_count": 192
        }
      ]
    },
    {
      "cell_type": "code",
      "source": [
        "X_train.shape, y_train.shape"
      ],
      "metadata": {
        "colab": {
          "base_uri": "https://localhost:8080/"
        },
        "id": "uuAu_sM259Ww",
        "outputId": "f8f90657-d135-4a92-b1da-81cb65e9c6b3"
      },
      "execution_count": null,
      "outputs": [
        {
          "output_type": "execute_result",
          "data": {
            "text/plain": [
              "((3472, 6), (3472,))"
            ]
          },
          "metadata": {},
          "execution_count": 193
        }
      ]
    },
    {
      "cell_type": "code",
      "source": [
        "X_test.shape, y_test.shape"
      ],
      "metadata": {
        "colab": {
          "base_uri": "https://localhost:8080/"
        },
        "id": "BVwXTPLp6BD7",
        "outputId": "7048b94e-022c-4c04-c351-6ea606d910e8"
      },
      "execution_count": null,
      "outputs": [
        {
          "output_type": "execute_result",
          "data": {
            "text/plain": [
              "((868, 6), (868,))"
            ]
          },
          "metadata": {},
          "execution_count": 194
        }
      ]
    },
    {
      "cell_type": "code",
      "source": [
        "# Define and implement the models from scratch\n",
        "# Lasso regression\n",
        "class LassoRegression:\n",
        "\n",
        "    def __init__(self, alpha=0.01, max_iter=1000):\n",
        "        self.alpha = alpha \n",
        "        self.max_iter = max_iter \n",
        "        self.coef_ = None \n",
        "\n",
        "    def fit(self, X_train, y_train):\n",
        "        n_samples, n_features = X_train.shape \n",
        "        self.coef_ = np.zeros(n_features) \n",
        "        for _ in range(self.max_iter): \n",
        "            y_pred = np.dot(X_train, self.coef_) \n",
        "            error = y_train - y_pred \n",
        "            # calculate gradient with L1 regularization term\n",
        "            grad = -(2/n_samples) * np.dot(X_train.T, error) + self.alpha * np.sign(self.coef_) \n",
        "            self.coef_ -= grad * self.alpha \n",
        "\n",
        "    def predict(self, X_test):\n",
        "        return np.dot(X_test, self.coef_) \n"
      ],
      "metadata": {
        "id": "BKpuFOLvIefy"
      },
      "execution_count": null,
      "outputs": []
    },
    {
      "cell_type": "code",
      "source": [
        "# Create a Lasso regression model with alpha=0.01 and max_iter=1000\n",
        "lasso = LassoRegression(alpha=0.01, max_iter=10000)\n",
        "\n",
        "# Fit the model on the train set\n",
        "lasso.fit(X_train, y_train)\n",
        "\n",
        "# Predict on the test set\n",
        "y_pred_lasso = lasso.predict(X_test)\n",
        "\n",
        "# Evaluate the model performance on the test set\n",
        "mse_lasso, r2_lasso = mean_squared_error(y_test,y_pred_lasso),r2_score(y_test,y_pred_lasso)\n",
        "print('Lasso Regression: MSE = ',mse_lasso ,' R2 = ',r2_lasso)"
      ],
      "metadata": {
        "colab": {
          "base_uri": "https://localhost:8080/"
        },
        "id": "86VWFQuWeHLj",
        "outputId": "c2a6a64b-1b83-4715-9d73-5db62f2f5656"
      },
      "execution_count": null,
      "outputs": [
        {
          "output_type": "stream",
          "name": "stdout",
          "text": [
            "Lasso Regression: MSE =  0.8533646284364341  R2 =  0.23099418868215638\n"
          ]
        }
      ]
    },
    {
      "cell_type": "code",
      "source": [
        "# Define and implement the models from scratch\n",
        "# Lasso regression\n",
        "class RidgeRegression:\n",
        "\n",
        "    def __init__(self, alpha=0.01, max_iter=1000):\n",
        "        self.alpha = alpha\n",
        "        self.max_iter = max_iter\n",
        "        self.coef_ = None \n",
        "\n",
        "    def fit(self, X_train, y_train):\n",
        "        n_samples, n_features = X_train.shape \n",
        "        self.coef_ = np.zeros(n_features) \n",
        "        for _ in range(self.max_iter): \n",
        "            y_pred = np.dot(X_train, self.coef_) \n",
        "            error = y_train - y_pred \n",
        "            # calculate gradient with L2 regularization term\n",
        "            grad = -(2/n_samples) * np.dot(X_train.T, error) + (self.alpha/2) * np.sign(self.coef_) * np.sign(self.coef_) \n",
        "            self.coef_ -= grad * self.alpha \n",
        "\n",
        "    def predict(self, X_test):\n",
        "        return np.dot(X_test, self.coef_) "
      ],
      "metadata": {
        "id": "Fql3NJCdgOPZ"
      },
      "execution_count": null,
      "outputs": []
    },
    {
      "cell_type": "code",
      "source": [
        "# Split the data into train and test sets\n",
        "X = df.drop('selling_price', axis=1) # features\n",
        "y = df['selling_price'] # target\n",
        "X_train, X_test, y_train, y_test = train_test_split(X, y, test_size=0.2, random_state=0) # 80% train and 20% test"
      ],
      "metadata": {
        "id": "mAuLJDUA9xwv"
      },
      "execution_count": null,
      "outputs": []
    },
    {
      "cell_type": "code",
      "source": [
        "# Create a Lasso regression model with alpha=0.01 and max_iter=1000\n",
        "ridge = RidgeRegression(alpha=0.01, max_iter=10000)\n",
        "\n",
        "# Fit the model on the train set\n",
        "ridge.fit(X_train, y_train)\n",
        "\n",
        "# Predict on the test set\n",
        "y_pred_ridge = ridge.predict(X_test)\n",
        "\n",
        "# Evaluate the model performance on the test set\n",
        "mse_ridge, r2_ridge = mean_squared_error(y_test,y_pred_lasso),r2_score(y_test,y_pred_lasso)\n",
        "print('Ridge Regression: MSE = ',mse_ridge ,' R2 = ',r2_ridge)"
      ],
      "metadata": {
        "colab": {
          "base_uri": "https://localhost:8080/"
        },
        "outputId": "ecbc07f4-a031-4189-c63c-12dae625db8c",
        "id": "Srw1gRWBgOPd"
      },
      "execution_count": null,
      "outputs": [
        {
          "output_type": "stream",
          "name": "stdout",
          "text": [
            "Ridge Regression: MSE =  0.8533646284364341  R2 =  0.23099418868215638\n"
          ]
        }
      ]
    },
    {
      "cell_type": "code",
      "source": [
        "# Define and implement the Locally weighted linear regression model from scratch\n",
        "class LocallyWeightedLinearRegression:\n",
        "\n",
        "    def __init__(self, tau=0.5):\n",
        "        # kernel parameter\n",
        "        self.tau = tau \n",
        "\n",
        "    def fit(self, X_train, y_train):\n",
        "        # store the training data\n",
        "        self.X_train = X_train \n",
        "        self.y_train = y_train \n",
        "\n",
        "    def predict(self, X_test):\n",
        "        x = np.c_[np.ones(len(self.X_train)), self.X_train]\n",
        "        y_pred = [] # initialize an empty list for predictions\n",
        "        for i in range(len(X_test)):\n",
        "            x0 = X.iloc[i]\n",
        "            x0 = np.r_[1, x0]\n",
        "            w = np.diag(np.exp(-np.sum((x - x0)**2, axis=1) / (2 * self.tau**2)))\n",
        "            # Solve the normal equation to get theta\n",
        "            theta = np.linalg.pinv(x.T @ w @ x) @ x.T @ w @ self.y_train\n",
        "            # Return the predicted output for x0\n",
        "            y_pred.append(x0 @ theta) \n",
        "        return np.array(y_pred) "
      ],
      "metadata": {
        "id": "7pQBG8OYi3Td"
      },
      "execution_count": null,
      "outputs": []
    },
    {
      "cell_type": "code",
      "source": [
        "# Split the data into train and test sets\n",
        "X = df.drop('selling_price', axis=1) # features\n",
        "y = df['selling_price'] # target\n",
        "X_train, X_test, y_train, y_test = train_test_split(X, y, test_size=0.2, random_state=0) # 80% train and 20% test"
      ],
      "metadata": {
        "id": "RLL6-8aL9uo2"
      },
      "execution_count": null,
      "outputs": []
    },
    {
      "cell_type": "code",
      "source": [
        "# Create a Locally Weighted Linear Regression model with tau = 0.1\n",
        "local = LocallyWeightedLinearRegression(0.5)\n",
        "\n",
        "# Fit the model on the train set\n",
        "local.fit(X_train, y_train)\n",
        "\n",
        "# Predict on the test set\n",
        "y_pred_local = local.predict(X_test)\n",
        "\n",
        "# Evaluate the model performance on the test set\n",
        "mse_local, r2_local = mean_squared_error(y_test, y_pred_local), r2_score(y_test, y_pred_local)\n",
        "print('Locally Weighted Linear Regression: MSE = ',mse_local,' R2 = ',r2_local)"
      ],
      "metadata": {
        "colab": {
          "base_uri": "https://localhost:8080/"
        },
        "id": "4WJydK0JJJHM",
        "outputId": "e08faabf-9cdb-44aa-e577-5814621fc22b"
      },
      "execution_count": null,
      "outputs": [
        {
          "output_type": "stream",
          "name": "stdout",
          "text": [
            "Locally Weighted Linear Regression: MSE =  2.062116683168691  R2 =  -0.8582674511336652\n"
          ]
        }
      ]
    },
    {
      "cell_type": "code",
      "source": [
        "class Node:\n",
        "    def __init__(self, depth=0, max_depth=10, min_samples_split=2):\n",
        "        self.depth = depth\n",
        "        self.max_depth = max_depth\n",
        "        self.min_samples_split = min_samples_split\n",
        "        self.split_feature = None\n",
        "        self.split_threshold = None\n",
        "        self.left = None\n",
        "        self.right = None\n",
        "        self.value = None\n",
        "\n",
        "    # creates best split according to data based on MSE loss\n",
        "    def split(self, X, y):\n",
        "        n_samples, n_features = X.shape\n",
        "        \n",
        "        # check if the node is a leaf or has reached the maximum depth\n",
        "        if n_samples < 2 * self.min_samples_split or self.depth >= self.max_depth:\n",
        "            self.value = np.mean(y) # assign the mean value as the prediction\n",
        "            return\n",
        "        \n",
        "        best_mse = np.inf # initialize the best mse as infinity\n",
        "        \n",
        "        # loop over all features and possible thresholds\n",
        "        for i in range(n_features):\n",
        "            for threshold in np.unique(X.iloc[:, i]):\n",
        "                # split the data into left and right subsets based on the threshold\n",
        "                left_indices = X.iloc[:, i] < threshold\n",
        "                right_indices = X.iloc[:, i] >= threshold\n",
        "                left_y, right_y = y[left_indices], y[right_indices]\n",
        "                \n",
        "                # skip if either subset is empty\n",
        "                if len(left_y) == 0 or len(right_y) == 0:\n",
        "                    continue\n",
        "                \n",
        "                # calculate the weighted mse of the split\n",
        "                mse = (np.var(left_y) * len(left_y) + np.var(right_y) * len(right_y)) / n_samples\n",
        "                \n",
        "                # update the best feature, threshold and mse if the current mse is lower\n",
        "                if mse < best_mse:\n",
        "                    best_feature, best_threshold, best_mse = i, threshold, mse\n",
        "        \n",
        "        # check if no valid split was found\n",
        "        if best_mse == np.inf:\n",
        "            self.value = np.mean(y) # assign the mean value as the prediction\n",
        "            return\n",
        "        \n",
        "        # assign the best feature and threshold to the node attributes\n",
        "        self.split_feature = best_feature\n",
        "        self.split_threshold = best_threshold\n",
        "        \n",
        "        # create the left and right child nodes with increased depth\n",
        "        left_indices = X.iloc[:, best_feature] < best_threshold\n",
        "        right_indices = X.iloc[:, best_feature] >= best_threshold\n",
        "        \n",
        "        self.left = Node(self.depth + 1, self.max_depth, self.min_samples_split)\n",
        "        self.right = Node(self.depth + 1, self.max_depth, self.min_samples_split)\n",
        "        \n",
        "        # recursively split the child nodes with the corresponding data subsets\n",
        "        self.left.split(X[left_indices], y[left_indices])\n",
        "        self.right.split(X[right_indices], y[right_indices])\n",
        "\n",
        "    def predict(self, x):\n",
        "        # check if the node is a leaf\n",
        "        if self.value is not None:\n",
        "            return self.value\n",
        "        # check which child node to traverse based on the feature value\n",
        "        if x[self.split_feature] < self.split_threshold:\n",
        "            return self.left.predict(x)\n",
        "        else:\n",
        "            return self.right.predict(x)\n",
        "\n",
        "class RegressionDecisionTree():\n",
        "    def __init__(self, max_depth=5, min_samples_split=2):\n",
        "        # initialize the tree attributes\n",
        "        self.max_depth = max_depth # maximum depth allowed for the tree\n",
        "        self.min_samples_split = min_samples_split # minimum number of samples required to split a node\n",
        "        self.root = None # root node of the tree\n",
        "    \n",
        "    def fit(self, X, y):\n",
        "        # create the root node with the given parameters\n",
        "        self.root = Node(max_depth=self.max_depth, min_samples_split=self.min_samples_split)\n",
        "        # split the root node using the training data\n",
        "        self.root.split(X, y)\n",
        "    \n",
        "    def predict(self, X_test):\n",
        "        # loop over all test samples and predict using the root node\n",
        "        y_pred = np.array([self.root.predict(X_test.iloc[i]) for i in range(len(X_test))])\n",
        "        return y_pred # return the predicted values as a numpy array\n"
      ],
      "metadata": {
        "id": "4ZQt3-D5i-su"
      },
      "execution_count": 376,
      "outputs": []
    },
    {
      "cell_type": "code",
      "source": [
        "# Split the data into train and test sets\n",
        "X = df.drop('selling_price', axis=1) # features\n",
        "y = df['selling_price'] # target\n",
        "X_train, X_test, y_train, y_test = train_test_split(X, y, test_size=0.2, random_state=0) # 80% train and 20% test"
      ],
      "metadata": {
        "id": "Sk8ncHJu9qez"
      },
      "execution_count": null,
      "outputs": []
    },
    {
      "cell_type": "code",
      "source": [
        "# Create an instance of the DecisionTreeRegressor class with custom parameters\n",
        "tree = RegressionDecisionTree(max_depth=10, min_samples_split=10)\n",
        "\n",
        "# Fit the model on the training data\n",
        "tree.fit(X_train, y_train)\n",
        "\n",
        "# Predict the output for the testing data\n",
        "y_pred_tree = tree.predict(X_test)\n",
        "\n",
        "# Evaluate the performance of the model using mean squared error and r-squared score\n",
        "mse_tree,r2_tree = mean_squared_error(y_test, y_pred_tree),r2_score(y_test, y_pred_tree)\n",
        "print('Decision Tree Regressor: MSE = ',mse_tree,' R2 = ',r2_tree)"
      ],
      "metadata": {
        "colab": {
          "base_uri": "https://localhost:8080/"
        },
        "id": "5W4oqmPNJHrY",
        "outputId": "3949e51d-cfca-4b7d-b0e5-461c67e1411b"
      },
      "execution_count": null,
      "outputs": [
        {
          "output_type": "stream",
          "name": "stdout",
          "text": [
            "Decision Tree Regressor: MSE =  0.6776235238673349  R2 =  0.3893625182304217\n"
          ]
        }
      ]
    },
    {
      "cell_type": "code",
      "source": [
        "#Creating a class CustomKNearestNeighbour to implement our custom KNN\n",
        "class KNearestNeighbour:\n",
        "  def __init__(self,k):\n",
        "    self.k = k\n",
        "\n",
        "  # fitting the model on given dataset\n",
        "  def fit(self,X_train,y_train):\n",
        "    self.X_train = X_train\n",
        "    self.y_train = y_train\n",
        "  \n",
        "  #given a point find its dist from all the points in X_train and returns a sorted list\n",
        "  def calculate_dist(self,point):\n",
        "    dist_dict = {}\n",
        "    #looping and finding euc dist\n",
        "    for i in range(len(self.X_train)):\n",
        "      euc_dist = np.sum((X_train.iloc[i] - point)**2) \n",
        "      dist_dict[i] = euc_dist\n",
        "    #sorted dict of distances\n",
        "    sorted_dict = sorted(dist_dict.items(), key=lambda x:x[1])\n",
        "    return sorted_dict\n",
        "\n",
        "  #can predict for one row\n",
        "  def predict_one(self,point):\n",
        "    sorted_dict = self.calculate_dist(point)\n",
        "    total = 0\n",
        "    # get first k nearest neighbours\n",
        "    for i in range(self.k):\n",
        "      total += self.y_train.iloc[sorted_dict[i][0]]\n",
        "    #returns average of the neighbours\n",
        "    return total/self.k\n",
        "\n",
        "  \n",
        "  def predict(self,X_test):\n",
        "    #Predict the by looping over X_test and getting predictions one at a time from predict_one function\n",
        "    rows = X_test.shape[0]\n",
        "    y_pred = np.zeros(rows,)\n",
        "    for i in range(rows):\n",
        "      y_pred[i] = self.predict_one(X_test.iloc[i])\n",
        "    return y_pred"
      ],
      "metadata": {
        "id": "jRohGxhl1Ct0"
      },
      "execution_count": null,
      "outputs": []
    },
    {
      "cell_type": "code",
      "source": [
        "# Split the data into train and test sets\n",
        "X = df.drop('selling_price', axis=1) # features\n",
        "y = df['selling_price'] # target\n",
        "X_train, X_test, y_train, y_test = train_test_split(X, y, test_size=0.2, random_state=0) # 80% train and 20% test"
      ],
      "metadata": {
        "id": "9DsWM8B8BoeA"
      },
      "execution_count": null,
      "outputs": []
    },
    {
      "cell_type": "code",
      "source": [
        "knn = KNearestNeighbour(10)\n",
        "# fitting the model\n",
        "knn.fit(X_train,y_train)\n",
        "\n",
        "# predicting from the model\n",
        "y_pred_knn = knn.predict(X_test)\n",
        "\n",
        "# Evaluate the performance of the model using mean squared error and r-squared score\n",
        "mse_knn,r2_knn = mean_squared_error(y_test, y_pred_knn),r2_score(y_test, y_pred_knn)\n",
        "print('K Nearest Neighbor Regressor: MSE = ',mse_knn,' R2 = ',r2_knn)"
      ],
      "metadata": {
        "colab": {
          "base_uri": "https://localhost:8080/"
        },
        "id": "mgbZjbJq1Z2y",
        "outputId": "b6986e9a-6605-4dcc-8541-69cdfdc721ea"
      },
      "execution_count": null,
      "outputs": [
        {
          "output_type": "stream",
          "name": "stdout",
          "text": [
            "K Nearest Neighbor Regressor: MSE =  0.339715759089652  R2 =  0.6938666260226245\n"
          ]
        }
      ]
    },
    {
      "cell_type": "code",
      "source": [
        "# Average Ensemble TEchnique Used\n",
        "y_pred_total = (y_pred_lasso + y_pred_ridge + y_pred_local + y_pred_tree + y_pred_knn)/5\n",
        "mse_total,r2_total = mean_squared_error(y_test, y_pred_total),r2_score(y_test, y_pred_total)\n",
        "print('Ensemble Regressor: MSE = ',mse_total,' R2 = ',r2_total)"
      ],
      "metadata": {
        "colab": {
          "base_uri": "https://localhost:8080/"
        },
        "id": "rz9F6QiK_DTm",
        "outputId": "d050f0a2-7b91-4dab-ab7c-7e0135544e35"
      },
      "execution_count": null,
      "outputs": [
        {
          "output_type": "stream",
          "name": "stdout",
          "text": [
            "Ensemble Regressor: MSE =  0.5505757750865087  R2 =  0.5038510426801814\n"
          ]
        }
      ]
    },
    {
      "cell_type": "code",
      "source": [
        "pickle_data(\"Q3_lasso.pkl\",lasso)\n",
        "pickle_data(\"Q3_ridge.pkl\",ridge)\n",
        "pickle_data(\"Q3_local.pkl\",local)\n",
        "pickle_data(\"Q3_tree.pkl\",tree)\n",
        "pickle_data(\"Q3_knn.pkl\",knn)"
      ],
      "metadata": {
        "id": "sancgiHtpJVo"
      },
      "execution_count": 336,
      "outputs": []
    },
    {
      "cell_type": "markdown",
      "metadata": {
        "id": "0DEhF48wIMyF"
      },
      "source": [
        "# Question 4"
      ]
    },
    {
      "cell_type": "code",
      "source": [
        "df = pd.read_csv('/content/drive/My Drive/bank/bank-full.csv',sep=\";\")"
      ],
      "metadata": {
        "id": "8pcqa9EaIf9a"
      },
      "execution_count": null,
      "outputs": []
    },
    {
      "cell_type": "code",
      "source": [
        "df.head()"
      ],
      "metadata": {
        "colab": {
          "base_uri": "https://localhost:8080/",
          "height": 206
        },
        "outputId": "e494850e-d5b2-4f99-99b7-c149ab1bccab",
        "id": "sfOstsYAKXpP"
      },
      "execution_count": null,
      "outputs": [
        {
          "output_type": "execute_result",
          "data": {
            "text/plain": [
              "   age           job  marital  education default  balance housing loan  \\\n",
              "0   58    management  married   tertiary      no     2143     yes   no   \n",
              "1   44    technician   single  secondary      no       29     yes   no   \n",
              "2   33  entrepreneur  married  secondary      no        2     yes  yes   \n",
              "3   47   blue-collar  married    unknown      no     1506     yes   no   \n",
              "4   33       unknown   single    unknown      no        1      no   no   \n",
              "\n",
              "   contact  day month  duration  campaign  pdays  previous poutcome   y  \n",
              "0  unknown    5   may       261         1     -1         0  unknown  no  \n",
              "1  unknown    5   may       151         1     -1         0  unknown  no  \n",
              "2  unknown    5   may        76         1     -1         0  unknown  no  \n",
              "3  unknown    5   may        92         1     -1         0  unknown  no  \n",
              "4  unknown    5   may       198         1     -1         0  unknown  no  "
            ],
            "text/html": [
              "\n",
              "  <div id=\"df-9feee31b-ab7a-44fa-8f39-31d4e273b6a8\">\n",
              "    <div class=\"colab-df-container\">\n",
              "      <div>\n",
              "<style scoped>\n",
              "    .dataframe tbody tr th:only-of-type {\n",
              "        vertical-align: middle;\n",
              "    }\n",
              "\n",
              "    .dataframe tbody tr th {\n",
              "        vertical-align: top;\n",
              "    }\n",
              "\n",
              "    .dataframe thead th {\n",
              "        text-align: right;\n",
              "    }\n",
              "</style>\n",
              "<table border=\"1\" class=\"dataframe\">\n",
              "  <thead>\n",
              "    <tr style=\"text-align: right;\">\n",
              "      <th></th>\n",
              "      <th>age</th>\n",
              "      <th>job</th>\n",
              "      <th>marital</th>\n",
              "      <th>education</th>\n",
              "      <th>default</th>\n",
              "      <th>balance</th>\n",
              "      <th>housing</th>\n",
              "      <th>loan</th>\n",
              "      <th>contact</th>\n",
              "      <th>day</th>\n",
              "      <th>month</th>\n",
              "      <th>duration</th>\n",
              "      <th>campaign</th>\n",
              "      <th>pdays</th>\n",
              "      <th>previous</th>\n",
              "      <th>poutcome</th>\n",
              "      <th>y</th>\n",
              "    </tr>\n",
              "  </thead>\n",
              "  <tbody>\n",
              "    <tr>\n",
              "      <th>0</th>\n",
              "      <td>58</td>\n",
              "      <td>management</td>\n",
              "      <td>married</td>\n",
              "      <td>tertiary</td>\n",
              "      <td>no</td>\n",
              "      <td>2143</td>\n",
              "      <td>yes</td>\n",
              "      <td>no</td>\n",
              "      <td>unknown</td>\n",
              "      <td>5</td>\n",
              "      <td>may</td>\n",
              "      <td>261</td>\n",
              "      <td>1</td>\n",
              "      <td>-1</td>\n",
              "      <td>0</td>\n",
              "      <td>unknown</td>\n",
              "      <td>no</td>\n",
              "    </tr>\n",
              "    <tr>\n",
              "      <th>1</th>\n",
              "      <td>44</td>\n",
              "      <td>technician</td>\n",
              "      <td>single</td>\n",
              "      <td>secondary</td>\n",
              "      <td>no</td>\n",
              "      <td>29</td>\n",
              "      <td>yes</td>\n",
              "      <td>no</td>\n",
              "      <td>unknown</td>\n",
              "      <td>5</td>\n",
              "      <td>may</td>\n",
              "      <td>151</td>\n",
              "      <td>1</td>\n",
              "      <td>-1</td>\n",
              "      <td>0</td>\n",
              "      <td>unknown</td>\n",
              "      <td>no</td>\n",
              "    </tr>\n",
              "    <tr>\n",
              "      <th>2</th>\n",
              "      <td>33</td>\n",
              "      <td>entrepreneur</td>\n",
              "      <td>married</td>\n",
              "      <td>secondary</td>\n",
              "      <td>no</td>\n",
              "      <td>2</td>\n",
              "      <td>yes</td>\n",
              "      <td>yes</td>\n",
              "      <td>unknown</td>\n",
              "      <td>5</td>\n",
              "      <td>may</td>\n",
              "      <td>76</td>\n",
              "      <td>1</td>\n",
              "      <td>-1</td>\n",
              "      <td>0</td>\n",
              "      <td>unknown</td>\n",
              "      <td>no</td>\n",
              "    </tr>\n",
              "    <tr>\n",
              "      <th>3</th>\n",
              "      <td>47</td>\n",
              "      <td>blue-collar</td>\n",
              "      <td>married</td>\n",
              "      <td>unknown</td>\n",
              "      <td>no</td>\n",
              "      <td>1506</td>\n",
              "      <td>yes</td>\n",
              "      <td>no</td>\n",
              "      <td>unknown</td>\n",
              "      <td>5</td>\n",
              "      <td>may</td>\n",
              "      <td>92</td>\n",
              "      <td>1</td>\n",
              "      <td>-1</td>\n",
              "      <td>0</td>\n",
              "      <td>unknown</td>\n",
              "      <td>no</td>\n",
              "    </tr>\n",
              "    <tr>\n",
              "      <th>4</th>\n",
              "      <td>33</td>\n",
              "      <td>unknown</td>\n",
              "      <td>single</td>\n",
              "      <td>unknown</td>\n",
              "      <td>no</td>\n",
              "      <td>1</td>\n",
              "      <td>no</td>\n",
              "      <td>no</td>\n",
              "      <td>unknown</td>\n",
              "      <td>5</td>\n",
              "      <td>may</td>\n",
              "      <td>198</td>\n",
              "      <td>1</td>\n",
              "      <td>-1</td>\n",
              "      <td>0</td>\n",
              "      <td>unknown</td>\n",
              "      <td>no</td>\n",
              "    </tr>\n",
              "  </tbody>\n",
              "</table>\n",
              "</div>\n",
              "      <button class=\"colab-df-convert\" onclick=\"convertToInteractive('df-9feee31b-ab7a-44fa-8f39-31d4e273b6a8')\"\n",
              "              title=\"Convert this dataframe to an interactive table.\"\n",
              "              style=\"display:none;\">\n",
              "        \n",
              "  <svg xmlns=\"http://www.w3.org/2000/svg\" height=\"24px\"viewBox=\"0 0 24 24\"\n",
              "       width=\"24px\">\n",
              "    <path d=\"M0 0h24v24H0V0z\" fill=\"none\"/>\n",
              "    <path d=\"M18.56 5.44l.94 2.06.94-2.06 2.06-.94-2.06-.94-.94-2.06-.94 2.06-2.06.94zm-11 1L8.5 8.5l.94-2.06 2.06-.94-2.06-.94L8.5 2.5l-.94 2.06-2.06.94zm10 10l.94 2.06.94-2.06 2.06-.94-2.06-.94-.94-2.06-.94 2.06-2.06.94z\"/><path d=\"M17.41 7.96l-1.37-1.37c-.4-.4-.92-.59-1.43-.59-.52 0-1.04.2-1.43.59L10.3 9.45l-7.72 7.72c-.78.78-.78 2.05 0 2.83L4 21.41c.39.39.9.59 1.41.59.51 0 1.02-.2 1.41-.59l7.78-7.78 2.81-2.81c.8-.78.8-2.07 0-2.86zM5.41 20L4 18.59l7.72-7.72 1.47 1.35L5.41 20z\"/>\n",
              "  </svg>\n",
              "      </button>\n",
              "      \n",
              "  <style>\n",
              "    .colab-df-container {\n",
              "      display:flex;\n",
              "      flex-wrap:wrap;\n",
              "      gap: 12px;\n",
              "    }\n",
              "\n",
              "    .colab-df-convert {\n",
              "      background-color: #E8F0FE;\n",
              "      border: none;\n",
              "      border-radius: 50%;\n",
              "      cursor: pointer;\n",
              "      display: none;\n",
              "      fill: #1967D2;\n",
              "      height: 32px;\n",
              "      padding: 0 0 0 0;\n",
              "      width: 32px;\n",
              "    }\n",
              "\n",
              "    .colab-df-convert:hover {\n",
              "      background-color: #E2EBFA;\n",
              "      box-shadow: 0px 1px 2px rgba(60, 64, 67, 0.3), 0px 1px 3px 1px rgba(60, 64, 67, 0.15);\n",
              "      fill: #174EA6;\n",
              "    }\n",
              "\n",
              "    [theme=dark] .colab-df-convert {\n",
              "      background-color: #3B4455;\n",
              "      fill: #D2E3FC;\n",
              "    }\n",
              "\n",
              "    [theme=dark] .colab-df-convert:hover {\n",
              "      background-color: #434B5C;\n",
              "      box-shadow: 0px 1px 3px 1px rgba(0, 0, 0, 0.15);\n",
              "      filter: drop-shadow(0px 1px 2px rgba(0, 0, 0, 0.3));\n",
              "      fill: #FFFFFF;\n",
              "    }\n",
              "  </style>\n",
              "\n",
              "      <script>\n",
              "        const buttonEl =\n",
              "          document.querySelector('#df-9feee31b-ab7a-44fa-8f39-31d4e273b6a8 button.colab-df-convert');\n",
              "        buttonEl.style.display =\n",
              "          google.colab.kernel.accessAllowed ? 'block' : 'none';\n",
              "\n",
              "        async function convertToInteractive(key) {\n",
              "          const element = document.querySelector('#df-9feee31b-ab7a-44fa-8f39-31d4e273b6a8');\n",
              "          const dataTable =\n",
              "            await google.colab.kernel.invokeFunction('convertToInteractive',\n",
              "                                                     [key], {});\n",
              "          if (!dataTable) return;\n",
              "\n",
              "          const docLinkHtml = 'Like what you see? Visit the ' +\n",
              "            '<a target=\"_blank\" href=https://colab.research.google.com/notebooks/data_table.ipynb>data table notebook</a>'\n",
              "            + ' to learn more about interactive tables.';\n",
              "          element.innerHTML = '';\n",
              "          dataTable['output_type'] = 'display_data';\n",
              "          await google.colab.output.renderOutput(dataTable, element);\n",
              "          const docLink = document.createElement('div');\n",
              "          docLink.innerHTML = docLinkHtml;\n",
              "          element.appendChild(docLink);\n",
              "        }\n",
              "      </script>\n",
              "    </div>\n",
              "  </div>\n",
              "  "
            ]
          },
          "metadata": {},
          "execution_count": 233
        }
      ]
    },
    {
      "cell_type": "code",
      "source": [
        "print(df.info()) # check for missing values and data types"
      ],
      "metadata": {
        "colab": {
          "base_uri": "https://localhost:8080/"
        },
        "outputId": "27a0c580-f794-4085-9172-64e8bd3a019a",
        "id": "eyBR9JhvKXpS"
      },
      "execution_count": null,
      "outputs": [
        {
          "output_type": "stream",
          "name": "stdout",
          "text": [
            "<class 'pandas.core.frame.DataFrame'>\n",
            "RangeIndex: 45211 entries, 0 to 45210\n",
            "Data columns (total 17 columns):\n",
            " #   Column     Non-Null Count  Dtype \n",
            "---  ------     --------------  ----- \n",
            " 0   age        45211 non-null  int64 \n",
            " 1   job        45211 non-null  object\n",
            " 2   marital    45211 non-null  object\n",
            " 3   education  45211 non-null  object\n",
            " 4   default    45211 non-null  object\n",
            " 5   balance    45211 non-null  int64 \n",
            " 6   housing    45211 non-null  object\n",
            " 7   loan       45211 non-null  object\n",
            " 8   contact    45211 non-null  object\n",
            " 9   day        45211 non-null  int64 \n",
            " 10  month      45211 non-null  object\n",
            " 11  duration   45211 non-null  int64 \n",
            " 12  campaign   45211 non-null  int64 \n",
            " 13  pdays      45211 non-null  int64 \n",
            " 14  previous   45211 non-null  int64 \n",
            " 15  poutcome   45211 non-null  object\n",
            " 16  y          45211 non-null  object\n",
            "dtypes: int64(7), object(10)\n",
            "memory usage: 5.9+ MB\n",
            "None\n"
          ]
        }
      ]
    },
    {
      "cell_type": "code",
      "source": [
        "print(df.describe()) # check for summary statistics and outliers"
      ],
      "metadata": {
        "colab": {
          "base_uri": "https://localhost:8080/"
        },
        "outputId": "4d459c6d-e8be-4fb3-e40e-b2a6793b7492",
        "id": "uhxu6Xh0KXpV"
      },
      "execution_count": null,
      "outputs": [
        {
          "output_type": "stream",
          "name": "stdout",
          "text": [
            "                age        balance           day      duration      campaign  \\\n",
            "count  45211.000000   45211.000000  45211.000000  45211.000000  45211.000000   \n",
            "mean      40.936210    1362.272058     15.806419    258.163080      2.763841   \n",
            "std       10.618762    3044.765829      8.322476    257.527812      3.098021   \n",
            "min       18.000000   -8019.000000      1.000000      0.000000      1.000000   \n",
            "25%       33.000000      72.000000      8.000000    103.000000      1.000000   \n",
            "50%       39.000000     448.000000     16.000000    180.000000      2.000000   \n",
            "75%       48.000000    1428.000000     21.000000    319.000000      3.000000   \n",
            "max       95.000000  102127.000000     31.000000   4918.000000     63.000000   \n",
            "\n",
            "              pdays      previous  \n",
            "count  45211.000000  45211.000000  \n",
            "mean      40.197828      0.580323  \n",
            "std      100.128746      2.303441  \n",
            "min       -1.000000      0.000000  \n",
            "25%       -1.000000      0.000000  \n",
            "50%       -1.000000      0.000000  \n",
            "75%       -1.000000      0.000000  \n",
            "max      871.000000    275.000000  \n"
          ]
        }
      ]
    },
    {
      "cell_type": "code",
      "source": [
        "print(df.nunique()) # check for number of unique values in each column"
      ],
      "metadata": {
        "colab": {
          "base_uri": "https://localhost:8080/"
        },
        "outputId": "40dca34f-7221-4170-bcee-0502d0f4c016",
        "id": "RKC49k3_KXpX"
      },
      "execution_count": null,
      "outputs": [
        {
          "output_type": "stream",
          "name": "stdout",
          "text": [
            "age            77\n",
            "job            12\n",
            "marital         3\n",
            "education       4\n",
            "default         2\n",
            "balance      7168\n",
            "housing         2\n",
            "loan            2\n",
            "contact         3\n",
            "day            31\n",
            "month          12\n",
            "duration     1573\n",
            "campaign       48\n",
            "pdays         559\n",
            "previous       41\n",
            "poutcome        4\n",
            "y               2\n",
            "dtype: int64\n"
          ]
        }
      ]
    },
    {
      "cell_type": "code",
      "source": [
        "# Encode categorical variables\n",
        "le = LabelEncoder()\n",
        "df['job'] = le.fit_transform(df['job'])\n",
        "df['marital'] = le.fit_transform(df['marital'])\n",
        "df['education'] = le.fit_transform(df['education'])\n",
        "df['default'] = le.fit_transform(df['default'])\n",
        "df['housing'] = le.fit_transform(df['housing'])\n",
        "df['loan'] = le.fit_transform(df['loan'])\n",
        "df['month'] = le.fit_transform(df['month'])\n",
        "df['poutcome'] = le.fit_transform(df['poutcome'])\n",
        "df['contact'] = le.fit_transform(df['contact'])\n",
        "df['y'] = le.fit_transform(df['y'])"
      ],
      "metadata": {
        "id": "cXT9_ayEKXpZ"
      },
      "execution_count": null,
      "outputs": []
    },
    {
      "cell_type": "code",
      "source": [
        "# Scale numerical variables\n",
        "scaler = StandardScaler()\n",
        "df[['age', 'balance', 'duration']] = scaler.fit_transform(df[['age', 'balance', 'duration']])"
      ],
      "metadata": {
        "id": "7lgvImdGKXpa"
      },
      "execution_count": null,
      "outputs": []
    },
    {
      "cell_type": "code",
      "source": [
        "# Plot histograms of numerical variables\n",
        "df.hist(figsize=(15, 15))\n",
        "plt.show()"
      ],
      "metadata": {
        "colab": {
          "base_uri": "https://localhost:8080/",
          "height": 1000
        },
        "outputId": "95d2ad17-7953-4cde-caaa-86696192df3d",
        "id": "XW9tUa2MKXpc"
      },
      "execution_count": null,
      "outputs": [
        {
          "output_type": "display_data",
          "data": {
            "text/plain": [
              "<Figure size 1500x1500 with 20 Axes>"
            ],
            "image/png": "[encoded data removed]"
          },
          "metadata": {}
        }
      ]
    },
    {
      "cell_type": "code",
      "source": [
        "# Split the data into train and test sets\n",
        "X = df.drop('y', axis=1) # features\n",
        "y = df['y'] # target\n",
        "X_train, X_test, y_train, y_test = train_test_split(X, y, test_size=0.2, random_state=0) # 80% train and 20% test"
      ],
      "metadata": {
        "id": "xMb2VXx_Jwb_"
      },
      "execution_count": null,
      "outputs": []
    },
    {
      "cell_type": "code",
      "source": [
        "X.shape, X_train.shape, X_test.shape"
      ],
      "metadata": {
        "colab": {
          "base_uri": "https://localhost:8080/"
        },
        "id": "ADaWORCDLimO",
        "outputId": "c98dcfbb-6045-4610-b48e-bdb4829751d1"
      },
      "execution_count": null,
      "outputs": [
        {
          "output_type": "execute_result",
          "data": {
            "text/plain": [
              "((45211, 16), (36168, 16), (9043, 16))"
            ]
          },
          "metadata": {},
          "execution_count": 242
        }
      ]
    },
    {
      "cell_type": "code",
      "source": [
        "y.shape, y_train.shape, y_test.shape"
      ],
      "metadata": {
        "colab": {
          "base_uri": "https://localhost:8080/"
        },
        "id": "CmesfAalLnq7",
        "outputId": "1682ee5a-9d93-4fd3-f694-5c7c9a54b45b"
      },
      "execution_count": null,
      "outputs": [
        {
          "output_type": "execute_result",
          "data": {
            "text/plain": [
              "((45211,), (36168,), (9043,))"
            ]
          },
          "metadata": {},
          "execution_count": 243
        }
      ]
    },
    {
      "cell_type": "code",
      "source": [
        "class GridSearch:\n",
        "    def __init__(self, param_grid, model):\n",
        "        self.param_grid = param_grid\n",
        "        self.model = model\n",
        "    \n",
        "    def fit_model(self,alpha):\n",
        "        model = self.model(ccp_alpha=alpha)\n",
        "        model.fit(self.X_train, self.y_train)\n",
        "        y_pred_train = model.predict(self.X_train)\n",
        "        accuracy_train = accuracy_score(self.y_train, y_pred_train)\n",
        "        return alpha, model, accuracy_train\n",
        "    \n",
        "    # fits train data \n",
        "    def fit(self, X_train, y_train):\n",
        "        self.X_train = X_train\n",
        "        self.y_train = y_train\n",
        "        best_alpha = 0\n",
        "        best_accuracy = 0 \n",
        "        self.models = []\n",
        "        alphas = []\n",
        "        train_accuracies = []\n",
        "        for alpha in self.param_grid['ccp_alpha']:\n",
        "          alpha, model, accuracy_train = self.fit_model(alpha) \n",
        "          if (accuracy_train > best_accuracy):\n",
        "            best_alpha,  best_accuracy = alpha, accuracy_train\n",
        "          alphas.append(alpha)\n",
        "          train_accuracies.append(accuracy_train)\n",
        "          self.models.append([alpha,model])\n",
        "\n",
        "        \n",
        "        self.best_params = {'ccp_alpha': best_alpha}\n",
        "        self.results = pd.DataFrame({\n",
        "            'alpha': alphas,\n",
        "            'Train Accuracy': train_accuracies\n",
        "        })\n",
        "\n",
        "    # predict function to test accuracy on test data\n",
        "    def predict(self, X_test, y_test):\n",
        "        def test_model(model):\n",
        "            alpha, clf = model[0], model[1]\n",
        "            y_pred_test = clf.predict(X_test)\n",
        "            accuracy_test = accuracy_score(y_test, y_pred_test)\n",
        "            return alpha, accuracy_test\n",
        "\n",
        "        test_results = [test_model(m) for m in self.models]\n",
        "        self.results['Test Accuracy'] = [r[1] for r in test_results]"
      ],
      "metadata": {
        "id": "YuNKrekCLnwv"
      },
      "execution_count": 377,
      "outputs": []
    },
    {
      "cell_type": "code",
      "source": [
        "C = [0.0002, 0.0004, 0.0006, 0.0008, 0.001, 0.0012, 0.0014, 0.0016, 0.0018, 0.002]"
      ],
      "metadata": {
        "id": "MYSW-iooUFPR"
      },
      "execution_count": null,
      "outputs": []
    },
    {
      "cell_type": "code",
      "source": [
        "def get_ccp_alphas(model, x_train, y_train):\n",
        "    path = model.cost_complexity_pruning_path(x_train, y_train)\n",
        "    return path.ccp_alphas.tolist()"
      ],
      "metadata": {
        "id": "3puyenisUFRi"
      },
      "execution_count": null,
      "outputs": []
    },
    {
      "cell_type": "code",
      "source": [
        "def alpha_parameter_tuning(params, x_train, y_train):   \n",
        "    model = DecisionTreeClassifier(**params)\n",
        "    ccp_alphas = get_ccp_alphas(model, x_train, y_train)\n",
        "    params[\"ccp_alpha\"] = ccp_alphas\n",
        "    return params"
      ],
      "metadata": {
        "id": "R7TETQWdUFUb"
      },
      "execution_count": null,
      "outputs": []
    },
    {
      "cell_type": "markdown",
      "metadata": {
        "id": "EGNmy-5JdH_-"
      },
      "source": [
        "### ID3"
      ]
    },
    {
      "cell_type": "code",
      "source": [
        "param = {\"criterion\": \"entropy\", \"ccp_alpha\": C,\"splitter\": \"best\", \"random_state\": 0}\n",
        "\n",
        "gd_model = GridSearch(param, DecisionTreeClassifier)\n",
        "gd_model.fit(X_train,y_train)\n",
        "gd_model.predict(X_test,y_test)\n",
        "print(gd_model.best_params)\n",
        "print(gd_model.results)"
      ],
      "metadata": {
        "colab": {
          "base_uri": "https://localhost:8080/"
        },
        "id": "SWXFGlQ0VOA8",
        "outputId": "1928b990-341f-4126-f9ea-5a382cd7a87d"
      },
      "execution_count": null,
      "outputs": [
        {
          "output_type": "stream",
          "name": "stdout",
          "text": [
            "{'ccp_alpha': 0.0002}\n",
            "    alpha  Train Accuracy  Test Accuracy\n",
            "0  0.0002        0.907708       0.898485\n",
            "1  0.0004        0.903755       0.899480\n",
            "2  0.0006        0.903755       0.899480\n",
            "3  0.0008        0.903755       0.899480\n",
            "4  0.0010        0.902345       0.898264\n",
            "5  0.0012        0.899663       0.895389\n",
            "6  0.0014        0.899663       0.895389\n",
            "7  0.0016        0.899663       0.895389\n",
            "8  0.0018        0.899663       0.895389\n",
            "9  0.0020        0.899663       0.895389\n"
          ]
        }
      ]
    },
    {
      "cell_type": "code",
      "source": [
        "params = {\"criterion\":\"entropy\", \"splitter\": \"best\", \"random_state\": 0}\n",
        "params = alpha_parameter_tuning(params, X_train, y_train)\n",
        "\n",
        "gd_model = GridSearch(params,DecisionTreeClassifier)\n",
        "gd_model.fit(X_train,y_train)\n",
        "gd_model.predict(X_test,y_test)\n",
        "print(gd_model.best_params)\n",
        "print(gd_model.results)"
      ],
      "metadata": {
        "colab": {
          "base_uri": "https://localhost:8080/"
        },
        "id": "xsrvu8v9VODz",
        "outputId": "9ee45cae-6b37-453b-c78e-5b419f2aae8c"
      },
      "execution_count": null,
      "outputs": [
        {
          "output_type": "stream",
          "name": "stdout",
          "text": [
            "{'ccp_alpha': 0.0}\n",
            "         alpha  Train Accuracy  Test Accuracy\n",
            "0     0.000000        1.000000       0.868517\n",
            "1     0.000038        0.977522       0.880792\n",
            "2     0.000038        0.978185       0.880571\n",
            "3     0.000044        0.969006       0.881124\n",
            "4     0.000044        0.967540       0.881345\n",
            "...        ...             ...            ...\n",
            "1325  0.006420        0.883156       0.882451\n",
            "1326  0.011821        0.883156       0.882451\n",
            "1327  0.022570        0.883156       0.882451\n",
            "1328  0.022794        0.883156       0.882451\n",
            "1329  0.066458        0.883156       0.882451\n",
            "\n",
            "[1330 rows x 3 columns]\n"
          ]
        }
      ]
    },
    {
      "cell_type": "code",
      "source": [
        "pickle_data(\"Q4_id3.pkl\",gd_model)"
      ],
      "metadata": {
        "id": "mSZFo7eEp8z3"
      },
      "execution_count": 337,
      "outputs": []
    },
    {
      "cell_type": "markdown",
      "source": [
        "Slight decrease in training accuracy with increasing alphas, test accuracy remains similar but also decreases slightly\n"
      ],
      "metadata": {
        "id": "s4BlOgAumyOi"
      }
    },
    {
      "cell_type": "markdown",
      "metadata": {
        "id": "kTlGd804dWcS"
      },
      "source": [
        "### C45"
      ]
    },
    {
      "cell_type": "code",
      "source": [
        "param = {\"criterion\": \"entropy\", \"ccp_alpha\": C,\"splitter\": \"random\", \"random_state\": 0}\n",
        "\n",
        "gd_model = GridSearch(param, DecisionTreeClassifier)\n",
        "gd_model.fit(X_train,y_train)\n",
        "gd_model.predict(X_test,y_test)\n",
        "print(gd_model.best_params)\n",
        "print(gd_model.results)"
      ],
      "metadata": {
        "colab": {
          "base_uri": "https://localhost:8080/"
        },
        "outputId": "8f930be3-980a-4042-ebb4-2c9d48a695d8",
        "id": "Nfr4mchrdWcU"
      },
      "execution_count": null,
      "outputs": [
        {
          "output_type": "stream",
          "name": "stdout",
          "text": [
            "{'ccp_alpha': 0.0002}\n",
            "    alpha  Train Accuracy  Test Accuracy\n",
            "0  0.0002        0.907708       0.898485\n",
            "1  0.0004        0.903755       0.899480\n",
            "2  0.0006        0.903755       0.899480\n",
            "3  0.0008        0.903755       0.899480\n",
            "4  0.0010        0.902345       0.898264\n",
            "5  0.0012        0.899663       0.895389\n",
            "6  0.0014        0.899663       0.895389\n",
            "7  0.0016        0.899663       0.895389\n",
            "8  0.0018        0.899663       0.895389\n",
            "9  0.0020        0.899663       0.895389\n"
          ]
        }
      ]
    },
    {
      "cell_type": "code",
      "source": [
        "params = {\"criterion\":\"entropy\", \"splitter\": \"random\", \"random_state\": 0}\n",
        "params = alpha_parameter_tuning(params, X_train, y_train)\n",
        "\n",
        "gd_model = GridSearch(params,DecisionTreeClassifier)\n",
        "gd_model.fit(X_train,y_train)\n",
        "gd_model.predict(X_test,y_test)\n",
        "print(gd_model.best_params)\n",
        "print(gd_model.results)"
      ],
      "metadata": {
        "colab": {
          "base_uri": "https://localhost:8080/"
        },
        "id": "ATNDcW_udWcV",
        "outputId": "4e904c46-10a2-461d-a58f-0c8c1943d6e7"
      },
      "execution_count": null,
      "outputs": [
        {
          "output_type": "stream",
          "name": "stdout",
          "text": [
            "{'ccp_alpha': 0.0}\n",
            "         alpha  Train Accuracy  Test Accuracy\n",
            "0     0.000000        1.000000       0.865642\n",
            "1     0.000025        0.995106       0.870065\n",
            "2     0.000028        0.988443       0.875705\n",
            "3     0.000029        0.987835       0.877695\n",
            "4     0.000030        0.988056       0.876479\n",
            "...        ...             ...            ...\n",
            "1542  0.004443        0.889405       0.887095\n",
            "1543  0.005120        0.883156       0.882451\n",
            "1544  0.006339        0.883156       0.882451\n",
            "1545  0.015453        0.883156       0.882451\n",
            "1546  0.020437        0.883156       0.882451\n",
            "\n",
            "[1547 rows x 3 columns]\n"
          ]
        }
      ]
    },
    {
      "cell_type": "code",
      "source": [
        "pickle_data(\"Q4_c45.pkl\",gd_model)"
      ],
      "metadata": {
        "id": "zz_LxxJSqDE9"
      },
      "execution_count": 338,
      "outputs": []
    },
    {
      "cell_type": "markdown",
      "source": [
        "Slight decrease in training accuracy with increasing alphas, test accuracy remains similar but also decreases slightly\n"
      ],
      "metadata": {
        "id": "A_H7iU8_mw-B"
      }
    },
    {
      "cell_type": "markdown",
      "metadata": {
        "id": "RkAiqiKHdWr_"
      },
      "source": [
        "### C50"
      ]
    },
    {
      "cell_type": "code",
      "source": [
        "param = {\"criterion\": \"entropy\", \"ccp_alpha\": C,\"splitter\": \"random\", \"min_samples_leaf\":30, 'max_leaf_nodes':30, \"random_state\": 0}\n",
        "\n",
        "gd_model = GridSearch(param, DecisionTreeClassifier)\n",
        "gd_model.fit(X_train,y_train)\n",
        "gd_model.predict(X_test,y_test)\n",
        "print(gd_model.best_params)\n",
        "print(gd_model.results)"
      ],
      "metadata": {
        "colab": {
          "base_uri": "https://localhost:8080/"
        },
        "outputId": "0df32009-d98d-45df-b7d7-972a909d5dd2",
        "id": "NMe1BYw-dWsB"
      },
      "execution_count": null,
      "outputs": [
        {
          "output_type": "stream",
          "name": "stdout",
          "text": [
            "{'ccp_alpha': 0.0002}\n",
            "    alpha  Train Accuracy  Test Accuracy\n",
            "0  0.0002        0.907708       0.898485\n",
            "1  0.0004        0.903755       0.899480\n",
            "2  0.0006        0.903755       0.899480\n",
            "3  0.0008        0.903755       0.899480\n",
            "4  0.0010        0.902345       0.898264\n",
            "5  0.0012        0.899663       0.895389\n",
            "6  0.0014        0.899663       0.895389\n",
            "7  0.0016        0.899663       0.895389\n",
            "8  0.0018        0.899663       0.895389\n",
            "9  0.0020        0.899663       0.895389\n"
          ]
        }
      ]
    },
    {
      "cell_type": "code",
      "source": [
        "param = {\"criterion\": \"entropy\",\"splitter\": \"random\", \"min_samples_leaf\":30, 'max_leaf_nodes':30, \"random_state\": 0}\n",
        "params = alpha_parameter_tuning(params, X_train, y_train)\n",
        "\n",
        "gd_model = GridSearch(params,DecisionTreeClassifier)\n",
        "gd_model.fit(X_train,y_train)\n",
        "gd_model.predict(X_test,y_test)\n",
        "print(gd_model.best_params)\n",
        "print(gd_model.results)"
      ],
      "metadata": {
        "colab": {
          "base_uri": "https://localhost:8080/"
        },
        "id": "3ZicNL27dWsB",
        "outputId": "b8b897ae-3e08-4927-e8b1-7955086b0b0e"
      },
      "execution_count": null,
      "outputs": [
        {
          "output_type": "stream",
          "name": "stdout",
          "text": [
            "{'ccp_alpha': 0.0}\n",
            "         alpha  Train Accuracy  Test Accuracy\n",
            "0     0.000000        1.000000       0.870397\n",
            "1     0.000025        0.995300       0.870618\n",
            "2     0.000028        0.988498       0.874931\n",
            "3     0.000029        0.987945       0.877032\n",
            "4     0.000030        0.987917       0.874378\n",
            "...        ...             ...            ...\n",
            "1542  0.004443        0.889405       0.887095\n",
            "1543  0.005120        0.883156       0.882451\n",
            "1544  0.006339        0.883156       0.882451\n",
            "1545  0.015453        0.883156       0.882451\n",
            "1546  0.020437        0.883156       0.882451\n",
            "\n",
            "[1547 rows x 3 columns]\n"
          ]
        }
      ]
    },
    {
      "cell_type": "code",
      "source": [
        "pickle_data(\"Q4_c50.pkl\",gd_model)"
      ],
      "metadata": {
        "id": "gUlH3VJfqFmk"
      },
      "execution_count": 339,
      "outputs": []
    },
    {
      "cell_type": "markdown",
      "source": [
        "Slight decrease in training accuracy with increasing alphas, test accuracy remains similar but also decreases slightly\n"
      ],
      "metadata": {
        "id": "IvpGXmYFfdRW"
      }
    },
    {
      "cell_type": "markdown",
      "metadata": {
        "id": "YF3htnWPdW0-"
      },
      "source": [
        "### CART"
      ]
    },
    {
      "cell_type": "code",
      "source": [
        "param = {\"criterion\": \"gini\", \"ccp_alpha\": C, \"random_state\": 0}\n",
        "\n",
        "gd_model = GridSearch(param, DecisionTreeClassifier)\n",
        "gd_model.fit(X_train,y_train)\n",
        "gd_model.predict(X_test,y_test)\n",
        "print(gd_model.best_params)\n",
        "print(gd_model.results)"
      ],
      "metadata": {
        "colab": {
          "base_uri": "https://localhost:8080/"
        },
        "outputId": "657ccd74-9acd-4e76-bb14-2c9e905f49f6",
        "id": "85q1ZJnmdW0_"
      },
      "execution_count": null,
      "outputs": [
        {
          "output_type": "stream",
          "name": "stdout",
          "text": [
            "{'ccp_alpha': 0.0002}\n",
            "    alpha  Train Accuracy  Test Accuracy\n",
            "0  0.0002        0.907708       0.898485\n",
            "1  0.0004        0.903755       0.899480\n",
            "2  0.0006        0.903755       0.899480\n",
            "3  0.0008        0.903755       0.899480\n",
            "4  0.0010        0.902345       0.898264\n",
            "5  0.0012        0.899663       0.895389\n",
            "6  0.0014        0.899663       0.895389\n",
            "7  0.0016        0.899663       0.895389\n",
            "8  0.0018        0.899663       0.895389\n",
            "9  0.0020        0.899663       0.895389\n"
          ]
        }
      ]
    },
    {
      "cell_type": "code",
      "source": [
        "param = {\"criterion\": \"gini\", \"random_state\": 0}\n",
        "params = alpha_parameter_tuning(params, X_train, y_train)\n",
        "\n",
        "gd_model = GridSearch(params,DecisionTreeClassifier)\n",
        "gd_model.fit(X_train,y_train)\n",
        "gd_model.predict(X_test,y_test)\n",
        "print(gd_model.best_params)\n",
        "print(gd_model.results)"
      ],
      "metadata": {
        "colab": {
          "base_uri": "https://localhost:8080/"
        },
        "id": "Cj_mQD94dW0_",
        "outputId": "470c721d-6ba4-4ae8-90b5-ddfa934f2088"
      },
      "execution_count": null,
      "outputs": [
        {
          "output_type": "stream",
          "name": "stdout",
          "text": [
            "{'ccp_alpha': 0.0}\n",
            "         alpha  Train Accuracy  Test Accuracy\n",
            "0     0.000000        1.000000       0.867411\n",
            "1     0.000025        0.995023       0.871945\n",
            "2     0.000028        0.988526       0.875594\n",
            "3     0.000029        0.988222       0.875484\n",
            "4     0.000030        0.987973       0.876479\n",
            "...        ...             ...            ...\n",
            "1542  0.004443        0.889405       0.887095\n",
            "1543  0.005120        0.883156       0.882451\n",
            "1544  0.006339        0.883156       0.882451\n",
            "1545  0.015453        0.883156       0.882451\n",
            "1546  0.020437        0.883156       0.882451\n",
            "\n",
            "[1547 rows x 3 columns]\n"
          ]
        }
      ]
    },
    {
      "cell_type": "code",
      "source": [
        "pickle_data(\"Q4_cart.pkl\",gd_model)"
      ],
      "metadata": {
        "id": "6wxrn4UlqHXU"
      },
      "execution_count": 340,
      "outputs": []
    },
    {
      "cell_type": "markdown",
      "source": [
        "Slight decrease in training accuracy with increasing alphas, test accuracy remains similar but also increase slightly\n"
      ],
      "metadata": {
        "id": "UBqwljANnL14"
      }
    },
    {
      "cell_type": "markdown",
      "source": [
        "###Inference\n",
        "The Cost Complexity Pruning Function's results indicate a trend: When we raise the alpha value, training accuracy declines but testing accuracy holds steady.\n",
        "\n",
        "The variances in our findings are the consequence of the random removal of features from the tree dependent on the complexity parameter."
      ],
      "metadata": {
        "id": "LYLDZfUvnDOB"
      }
    }
  ]
}